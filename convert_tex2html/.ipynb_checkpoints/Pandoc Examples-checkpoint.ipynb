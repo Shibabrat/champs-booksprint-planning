{
 "cells": [
  {
   "cell_type": "markdown",
   "metadata": {},
   "source": [
    "# Installing pandoc"
   ]
  },
  {
   "cell_type": "markdown",
   "metadata": {},
   "source": [
    "_FIRST_ What's `pandoc`?\n",
    "\n",
    "**A**: An universal document converter.\n",
    "\n",
    "Check [documentation](https://pandoc.org/index.html) for supported conversion formats "
   ]
  },
  {
   "cell_type": "markdown",
   "metadata": {},
   "source": [
    "Instructions for different Operating Systems can be found [here](https://pandoc.org/installing.html)"
   ]
  },
  {
   "cell_type": "markdown",
   "metadata": {},
   "source": [
    "# Examples of conversion (`pandoc`)"
   ]
  },
  {
   "cell_type": "code",
   "execution_count": 1,
   "metadata": {},
   "outputs": [
    {
     "name": "stdout",
     "output_type": "stream",
     "text": [
      "JOCN-Template-MODIFIED.md alicesmith.pdf            osajnl.bst\r\n",
      "JOCN-Template.html        jabbrv-ltwa-all.ldf       osajnl.cls\r\n",
      "JOCN-Template.ipynb       jabbrv-ltwa-en.ldf        osajnlnt.bst\r\n",
      "JOCN-Template.md          jabbrv.sty                sample.bib\r\n",
      "JOCN-Template.tex         johnsmith.pdf             sample.pdf\r\n",
      "JOCN-Template.text        \u001b[1m\u001b[34mlegacy-styles\u001b[m\u001b[m\r\n"
     ]
    }
   ],
   "source": [
    "!ls article_test/"
   ]
  },
  {
   "cell_type": "markdown",
   "metadata": {},
   "source": [
    "## LaTeX to HTML"
   ]
  },
  {
   "cell_type": "markdown",
   "metadata": {},
   "source": [
    "Convert $\\\\LaTeX$ file (.tex) to HTML (.html)"
   ]
  },
  {
   "cell_type": "code",
   "execution_count": 1,
   "metadata": {},
   "outputs": [],
   "source": [
    "!pandoc -s article_test/JOCN-Template.tex -o article_test/JOCN-Template.html"
   ]
  },
  {
   "cell_type": "markdown",
   "metadata": {},
   "source": [
    "NOW, open created file from Jupyter's explorer. Click [here](./JOCN-Template.html)."
   ]
  },
  {
   "cell_type": "markdown",
   "metadata": {},
   "source": [
    "## LaTeX to Markdown"
   ]
  },
  {
   "cell_type": "markdown",
   "metadata": {},
   "source": [
    "Convert $\\\\LaTeX$ file (.tex) to *Markdown* (.md)"
   ]
  },
  {
   "cell_type": "code",
   "execution_count": 3,
   "metadata": {},
   "outputs": [],
   "source": [
    "!pandoc -s article_test/JOCN-Template.tex -o article_test/JOCN-Template.md"
   ]
  },
  {
   "cell_type": "markdown",
   "metadata": {},
   "source": [
    "NOW, open created file from Jupyter's explorer. Click [here](./article_test/JOCN-Template.md)."
   ]
  },
  {
   "cell_type": "markdown",
   "metadata": {},
   "source": [
    "## LaTeX Jupyter Notebook"
   ]
  },
  {
   "cell_type": "markdown",
   "metadata": {},
   "source": [
    "<span style=\"color:red\">**NOTE**</span> These fail to properly create a Jupyter Notebook file "
   ]
  },
  {
   "cell_type": "markdown",
   "metadata": {},
   "source": [
    "**EXAMPLE 1**\n",
    "\n",
    "Convert $\\\\LaTeX$ file (.tex) to *Jupyter Notebook* (.ipynb)"
   ]
  },
  {
   "cell_type": "code",
   "execution_count": 5,
   "metadata": {},
   "outputs": [],
   "source": [
    "!pandoc -s article_test/JOCN-Template.tex -o article_test/JOCN-Template.ipynb"
   ]
  },
  {
   "cell_type": "markdown",
   "metadata": {},
   "source": [
    "NOW, open created file from Jupyter's explorer. Click [here](./article_test/JOCN-Template.ipynb)."
   ]
  },
  {
   "cell_type": "raw",
   "metadata": {},
   "source": [
    "# Remove file\n",
    "!rm article_test/JOCN-Template.ipynb"
   ]
  },
  {
   "cell_type": "markdown",
   "metadata": {},
   "source": [
    "**EXAMPLE 2**"
   ]
  },
  {
   "cell_type": "markdown",
   "metadata": {},
   "source": [
    "Convert Markdown file (.md) to *Jupyter Notebook* (.ipynb)"
   ]
  },
  {
   "cell_type": "code",
   "execution_count": 8,
   "metadata": {},
   "outputs": [],
   "source": [
    "!pandoc -s article_test/JOCN-Template.md -o article_test/JOCN-Template.ipynb"
   ]
  },
  {
   "cell_type": "markdown",
   "metadata": {},
   "source": [
    "NOW, open created file from Jupyter's explorer. Click [here](./article_test/JOCN-Template.ipynb)."
   ]
  },
  {
   "cell_type": "raw",
   "metadata": {},
   "source": [
    "# Remove file\n",
    "!rm article_test/JOCN-Template.ipynb"
   ]
  },
  {
   "cell_type": "code",
   "execution_count": 7,
   "metadata": {},
   "outputs": [],
   "source": [
    "!mv article_test/JOCN-Template.ipynb article_test/JOCN-Template.html"
   ]
  },
  {
   "cell_type": "markdown",
   "metadata": {},
   "source": [
    "# Alternative (`htlatex`)"
   ]
  },
  {
   "cell_type": "markdown",
   "metadata": {},
   "source": [
    "[SOURCE](https://codedocean.wordpress.com/2014/02/05/converting-latex-to-markdown/)"
   ]
  },
  {
   "cell_type": "markdown",
   "metadata": {},
   "source": [
    "To execute in terminal"
   ]
  },
  {
   "cell_type": "markdown",
   "metadata": {},
   "source": [
    "```bash\n",
    "# Execute this first\n",
    "htlatex article_test_htlatex/JOCN-Template \"xhtml, mathml, charset=utf-8\" \" -cunihtf -utf8\"\n",
    "\n",
    "# Enter 'S' multiple times until the end\n",
    "\n",
    "# Convert html to md\n",
    "pandoc article_test_htlatex/JOCN-Template.html -o article_test_htlatex/JOCN-Template.md\n",
    "```"
   ]
  },
  {
   "cell_type": "markdown",
   "metadata": {},
   "source": [
    "OUTPUT: Click [here](article_test_htlatex/JOCN-Template.md)"
   ]
  },
  {
   "cell_type": "markdown",
   "metadata": {},
   "source": [
    "# Proposed method"
   ]
  },
  {
   "cell_type": "markdown",
   "metadata": {},
   "source": [
    "STEP 1. Turn `.tex` file into _Markdown_ file (`.md`) using `pandoc`\n",
    "\n",
    "> ```\n",
    "pandoc -s myfile.tex -o myfile.md\n",
    "```\n",
    "\n",
    "STEP 2. Edit output `.md` file for correct _Markdown_ syntax. See this Notebook for examples."
   ]
  }
 ],
 "metadata": {
  "kernelspec": {
   "display_name": "Python 3",
   "language": "python",
   "name": "python3"
  },
  "language_info": {
   "codemirror_mode": {
    "name": "ipython",
    "version": 3
   },
   "file_extension": ".py",
   "mimetype": "text/x-python",
   "name": "python",
   "nbconvert_exporter": "python",
   "pygments_lexer": "ipython3",
   "version": "3.7.1"
  },
  "toc": {
   "base_numbering": 1,
   "nav_menu": {},
   "number_sections": false,
   "sideBar": true,
   "skip_h1_title": false,
   "title_cell": "Table of Contents",
   "title_sidebar": "Contents",
   "toc_cell": false,
   "toc_position": {},
   "toc_section_display": true,
   "toc_window_display": true
  }
 },
 "nbformat": 4,
 "nbformat_minor": 2
}
