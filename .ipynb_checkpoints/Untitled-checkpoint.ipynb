{
 "cells": [
  {
   "cell_type": "code",
   "execution_count": 2,
   "metadata": {},
   "outputs": [
    {
     "name": "stdout",
     "output_type": "stream",
     "text": [
      "Copying new book to: ./test_mysections\n",
      "Copying over demo repository content\n"
     ]
    }
   ],
   "source": [
    "# !pip install jupyter-book\n",
    "!jupyter-book create test_mysections --demo"
   ]
  },
  {
   "cell_type": "code",
   "execution_count": 4,
   "metadata": {},
   "outputs": [
    {
     "name": "stdout",
     "output_type": "stream",
     "text": [
      "Convert and copy notebook/md files...\n",
      "100%|███████████████████████████████████████████| 42/42 [00:09<00:00,  4.36it/s]\n",
      "Copying non-content files inside `content/`...\n",
      "\u001b[92m\n",
      "\n",
      "================================================================================\n",
      "\n",
      "\u001b[0m\n",
      "Generated 42 new files\n",
      "Skipped 0 already-built files\n",
      "Your Jupyter Book is now in `_build/`.\n",
      "Demo your Jupyter book with `make serve` or push to GitHub!\n",
      "\u001b[92m\n",
      "\n",
      "================================================================================\n",
      "\n",
      "\u001b[0m\n"
     ]
    }
   ],
   "source": [
    "!jupyter-book build test_mysections"
   ]
  },
  {
   "cell_type": "code",
   "execution_count": 6,
   "metadata": {},
   "outputs": [
    {
     "ename": "SyntaxError",
     "evalue": "invalid syntax (<ipython-input-6-3137bccd3fad>, line 1)",
     "output_type": "error",
     "traceback": [
      "\u001b[0;36m  File \u001b[0;32m\"<ipython-input-6-3137bccd3fad>\"\u001b[0;36m, line \u001b[0;32m1\u001b[0m\n\u001b[0;31m    make serve\u001b[0m\n\u001b[0m             ^\u001b[0m\n\u001b[0;31mSyntaxError\u001b[0m\u001b[0;31m:\u001b[0m invalid syntax\n"
     ]
    }
   ],
   "source": [
    "!make serve"
   ]
  },
  {
   "cell_type": "code",
   "execution_count": null,
   "metadata": {},
   "outputs": [],
   "source": []
  }
 ],
 "metadata": {
  "kernelspec": {
   "display_name": "Python 3",
   "language": "python",
   "name": "python3"
  },
  "language_info": {
   "codemirror_mode": {
    "name": "ipython",
    "version": 3
   },
   "file_extension": ".py",
   "mimetype": "text/x-python",
   "name": "python",
   "nbconvert_exporter": "python",
   "pygments_lexer": "ipython3",
   "version": "3.6.6"
  }
 },
 "nbformat": 4,
 "nbformat_minor": 2
}
