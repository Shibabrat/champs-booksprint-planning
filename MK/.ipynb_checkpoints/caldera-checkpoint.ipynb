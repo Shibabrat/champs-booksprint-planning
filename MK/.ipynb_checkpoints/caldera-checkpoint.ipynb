{
 "cells": [
  {
   "cell_type": "code",
   "execution_count": 2,
   "metadata": {},
   "outputs": [],
   "source": [
    "# Dynamical Matching in a Caldera Potential energy sustface\n"
   ]
  },
  {
   "cell_type": "markdown",
   "metadata": {},
   "source": [
    "Dynamical matching is an interesting mechanism originally proposed in {% cite carpenter1985 %} {% cite carpenter1995 %} \n",
    "                                                                                                     \n",
    "that arises in Caldera-type potential energy surfaces (PES). These potentials are relevant in Chemistry since they provide good \n",
    "approximations for many organic chemical reactions such as those that occur in the vinylcyclopropane-cyclopentene \n",
    "rearrangement {% cite baldwin2003 %},{ % cite gold1988 %}, the stereomutation of cyclopropane {% cite doubleday1997 %}, the degenerate \n",
    "rearrangement of bicyclo[3.1.0]hex-2-ene {% cite doubleday1999 %},{ % cite doubleday2006 %} or that of \n",
    "5-methylene\\\\bicyclo[2.1.0]pentane {% cite reyes2002 %}. The potential energy landscape of a Caldera is \n",
    "similar to that of a collapsed region in an erupted volcano. It is characterized by a shallow potential well \n",
    "region (a central minimum) surrounded by four entrance/exit channels in the form of index-1 saddles. \n",
    "Two of these saddles have low energy values and correspond to the formation of chemical products, \n",
    "while the other two are higher in energy and represent reactants. The dynamical matching phenomenon occurs when the \n",
    "Newtonian momentum conservation will favor that a trajectory entering the Caldera from a channel corresponding to a \n",
    "high energy index-1 saddle (reactant) exits through the diametrically opposing low energy index-1 saddle (product). \n",
    "Consequently, this mechanism will determines to a considerable extent the outcome of the chemical reaction."
   ]
  },
  {
   "cell_type": "code",
   "execution_count": null,
   "metadata": {},
   "outputs": [],
   "source": []
  }
 ],
 "metadata": {
  "kernelspec": {
   "display_name": "Python 3",
   "language": "python",
   "name": "python3"
  },
  "language_info": {
   "codemirror_mode": {
    "name": "ipython",
    "version": 3
   },
   "file_extension": ".py",
   "mimetype": "text/x-python",
   "name": "python",
   "nbconvert_exporter": "python",
   "pygments_lexer": "ipython3",
   "version": "3.7.3"
  }
 },
 "nbformat": 4,
 "nbformat_minor": 2
}
