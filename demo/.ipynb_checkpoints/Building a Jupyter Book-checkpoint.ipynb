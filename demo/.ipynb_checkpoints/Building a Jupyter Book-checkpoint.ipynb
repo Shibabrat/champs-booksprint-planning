{
 "cells": [
  {
   "cell_type": "markdown",
   "metadata": {},
   "source": [
    "# STEPS"
   ]
  },
  {
   "cell_type": "markdown",
   "metadata": {},
   "source": [
    "1. Install `jupyter-book`, do: \n",
    "\n",
    "> `pip install jupyter-book`\n",
    "\n",
    "2. Create new book, do \n",
    "\n",
    "> `jupyter-book create champsbook --demo`\n",
    "\n",
    "3. Get all `.md` and `.ipynb` files\n",
    "\n",
    ">```\n",
    "cp -r BookSprint-Demo/MA champsbook/content\n",
    "cp -r BookSprint-Demo/SN champsbook/content\n",
    "cp -r BookSprint-Demo/RGM champsbook/content\n",
    "```\n",
    "\n",
    "4. Specify the relative paths in `_data/toc.yml` for files (`.ipynb`,`.md`) to appear as (sub)sections in book\n",
    "4. Copy all `.bib` files to default folder `bibliography`\n",
    "\n",
    ">```\n",
    "cp BookSprint-Demo/SN/workflow-demo/paper.bib champsbook/_bibliography/\n",
    "cp BookSprint-Demo/MA/ champsbook/_bibliography/SNreac.bib \n",
    "cp BookSprint-Demo/RGM/myBib.bib champsbook/_bibliography/\n",
    "```\n",
    "\n",
    "5. Then, build book `jupyter-book build champsbook`"
   ]
  },
  {
   "cell_type": "markdown",
   "metadata": {},
   "source": []
  },
  {
   "cell_type": "code",
   "execution_count": null,
   "metadata": {},
   "outputs": [],
   "source": []
  }
 ],
 "metadata": {
  "kernelspec": {
   "display_name": "Python 3",
   "language": "python",
   "name": "python3"
  },
  "language_info": {
   "codemirror_mode": {
    "name": "ipython",
    "version": 3
   },
   "file_extension": ".py",
   "mimetype": "text/x-python",
   "name": "python",
   "nbconvert_exporter": "python",
   "pygments_lexer": "ipython3",
   "version": "3.7.1"
  },
  "latex_envs": {
   "LaTeX_envs_menu_present": true,
   "autoclose": false,
   "autocomplete": true,
   "bibliofile": "/Users/bas/research/book_sprint/champs-booksprint-planning/convert_tex2html/article_test/sample.bib",
   "cite_by": "apalike",
   "current_citInitial": 1,
   "eqLabelWithNumbers": true,
   "eqNumInitial": 1,
   "hotkeys": {
    "equation": "Ctrl-E",
    "itemize": "Ctrl-I"
   },
   "labels_anchors": false,
   "latex_user_defs": false,
   "report_style_numbering": false,
   "user_envs_cfg": false
  },
  "toc": {
   "base_numbering": 1,
   "nav_menu": {},
   "number_sections": false,
   "sideBar": true,
   "skip_h1_title": false,
   "title_cell": "Table of Contents",
   "title_sidebar": "Contents",
   "toc_cell": false,
   "toc_position": {},
   "toc_section_display": true,
   "toc_window_display": false
  }
 },
 "nbformat": 4,
 "nbformat_minor": 2
}
