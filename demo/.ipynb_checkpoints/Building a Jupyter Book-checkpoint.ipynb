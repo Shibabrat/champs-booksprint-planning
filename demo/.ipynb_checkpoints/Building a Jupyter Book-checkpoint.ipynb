{
 "cells": [
  {
   "cell_type": "markdown",
   "metadata": {},
   "source": [
    "# PROCEDURE"
   ]
  },
  {
   "cell_type": "markdown",
   "metadata": {},
   "source": [
    "## Set up environment "
   ]
  },
  {
   "cell_type": "markdown",
   "metadata": {},
   "source": [
    "Install `jupyter-book`, do: \n",
    "\n",
    "``` bash\n",
    "pip install jupyter-book\n",
    "```"
   ]
  },
  {
   "cell_type": "markdown",
   "metadata": {},
   "source": [
    "## Create JupyterBook template"
   ]
  },
  {
   "cell_type": "code",
   "execution_count": 36,
   "metadata": {},
   "outputs": [
    {
     "name": "stdout",
     "output_type": "stream",
     "text": [
      "Copying new book to: ./champsbook\n",
      "Copying over demo repository content\n"
     ]
    }
   ],
   "source": [
    "!jupyter-book create champsbook --demo"
   ]
  },
  {
   "cell_type": "markdown",
   "metadata": {},
   "source": [
    "## Collect and Relocate files"
   ]
  },
  {
   "cell_type": "markdown",
   "metadata": {},
   "source": [
    "**STEP 1**"
   ]
  },
  {
   "cell_type": "markdown",
   "metadata": {},
   "source": [
    "Find all Jupyter Notebooks (`.ipynb`) or Markdown (`.md`) files in common directory"
   ]
  },
  {
   "cell_type": "code",
   "execution_count": 117,
   "metadata": {},
   "outputs": [],
   "source": [
    "source_dir = 'BookSprint-Demo'"
   ]
  },
  {
   "cell_type": "code",
   "execution_count": 171,
   "metadata": {},
   "outputs": [],
   "source": [
    "FILE_EXTENSIONS = ['.ipynb', '.md']\n",
    "\n",
    "input_files1 = []\n",
    "for x in list(os.walk(source_dir)):\n",
    "    subdir = x[0]\n",
    "    for f in x[-1]:\n",
    "        filename, file_extension = os.path.splitext(f)\n",
    "        if file_extension in FILE_EXTENSIONS:\n",
    "            input_files1.append(os.path.join(subdir, f))"
   ]
  },
  {
   "cell_type": "code",
   "execution_count": 172,
   "metadata": {},
   "outputs": [
    {
     "data": {
      "text/plain": [
       "['BookSprint-Demo/SW/Hamiltonian bifurcation/ham_bif.ipynb',\n",
       " 'BookSprint-Demo/SW/2 DoF index 1 saddle/2_dof_index_1_saddle.ipynb',\n",
       " 'BookSprint-Demo/SW/Intro material/booksprint_intro.ipynb',\n",
       " 'BookSprint-Demo/SW/3 DoF index 1 saddle/3_dof_index_1_saddle.ipynb',\n",
       " 'BookSprint-Demo/SW/Definition of the index of a saddle/saddle_index_definition.ipynb',\n",
       " 'BookSprint-Demo/SW/1 DoF saddle/1_DOF_saddle.ipynb',\n",
       " 'BookSprint-Demo/SW/2 DoF index 2 saddle/index_2_saddle.ipynb',\n",
       " 'BookSprint-Demo/MA/booksprinttest_makrina.ipynb',\n",
       " 'BookSprint-Demo/RGM/untitled.md',\n",
       " 'BookSprint-Demo/RGM/Draft.md',\n",
       " 'BookSprint-Demo/F/test.ipynb',\n",
       " 'BookSprint-Demo/VK/test.ipynb',\n",
       " 'BookSprint-Demo/SN/workflow-demo/paper.md',\n",
       " 'BookSprint-Demo/SN/quad-normal-form/quad-normal-form.md',\n",
       " 'BookSprint-Demo/VGG/LDs/booksprinttest_victor.ipynb']"
      ]
     },
     "execution_count": 172,
     "metadata": {},
     "output_type": "execute_result"
    }
   ],
   "source": [
    "input_files1"
   ]
  },
  {
   "cell_type": "markdown",
   "metadata": {},
   "source": [
    "Find all `.bib` files for the Bibliography"
   ]
  },
  {
   "cell_type": "code",
   "execution_count": 156,
   "metadata": {},
   "outputs": [],
   "source": [
    "FILE_EXTENSIONS = ['.bib']\n",
    "\n",
    "input_files2 = []\n",
    "for x in list(os.walk(source_dir)):\n",
    "    subdir = x[0]\n",
    "    for f in x[-1]:\n",
    "        filename, file_extension = os.path.splitext(f)\n",
    "        if file_extension in FILE_EXTENSIONS:\n",
    "            input_files2.append(os.path.join(subdir, f))"
   ]
  },
  {
   "cell_type": "code",
   "execution_count": 157,
   "metadata": {},
   "outputs": [
    {
     "data": {
      "text/plain": [
       "['BookSprint-Demo/SW/Intro material/book_sprint_bib1.bib',\n",
       " 'BookSprint-Demo/SW/2 DoF index 2 saddle/reaction_dynamics.bib',\n",
       " 'BookSprint-Demo/SW/2 DoF index 2 saddle/rrkm_1.bib',\n",
       " 'BookSprint-Demo/SW/2 DoF index 2 saddle/roaming_v8.bib',\n",
       " 'BookSprint-Demo/SW/2 DoF index 2 saddle/vri_1.bib',\n",
       " 'BookSprint-Demo/SW/2 DoF index 2 saddle/Ham_dyn.bib',\n",
       " 'BookSprint-Demo/MA/SNreac.bib',\n",
       " 'BookSprint-Demo/RGM/myBib.bib',\n",
       " 'BookSprint-Demo/VK/allrefs.bib',\n",
       " 'BookSprint-Demo/SN/workflow-demo/paper.bib',\n",
       " 'BookSprint-Demo/MK/caldera2c.bib',\n",
       " 'BookSprint-Demo/VGG/LDs/LDs.bib']"
      ]
     },
     "execution_count": 157,
     "metadata": {},
     "output_type": "execute_result"
    }
   ],
   "source": [
    "input_files2"
   ]
  },
  {
   "cell_type": "markdown",
   "metadata": {},
   "source": [
    "**STEP 2**"
   ]
  },
  {
   "cell_type": "markdown",
   "metadata": {},
   "source": [
    "Define target directories to store input files prior to build, according to predefined folder structure"
   ]
  },
  {
   "cell_type": "code",
   "execution_count": 118,
   "metadata": {},
   "outputs": [],
   "source": [
    "target_dir0 = 'champsbook'"
   ]
  },
  {
   "cell_type": "code",
   "execution_count": 119,
   "metadata": {},
   "outputs": [],
   "source": [
    "target_dir1 = os.path.join(target_dir0, \"content\")\n",
    "target_dir2 = os.path.join(target_dir0, \"_bibliography\")"
   ]
  },
  {
   "cell_type": "markdown",
   "metadata": {},
   "source": [
    "Define folder structure per author"
   ]
  },
  {
   "cell_type": "code",
   "execution_count": 120,
   "metadata": {},
   "outputs": [],
   "source": [
    "folder_structure = {\n",
    "    'SW' : '01', \n",
    "    'MA' : '02',\n",
    "    'RGM': '03',\n",
    "    'VK' : '04',\n",
    "    'SN' : '05',\n",
    "    'MK' : '06',\n",
    "    'VGG': '07',\n",
    "    'F'  : '08'\n",
    "}"
   ]
  },
  {
   "cell_type": "markdown",
   "metadata": {},
   "source": [
    "Make dirs and subdirs "
   ]
  },
  {
   "cell_type": "code",
   "execution_count": 170,
   "metadata": {},
   "outputs": [
    {
     "name": "stdout",
     "output_type": "stream",
     "text": [
      "The directory ' champsbook/content/01/images ' already exists!\n",
      "The directory ' champsbook/content/02/images ' already exists!\n",
      "The directory ' champsbook/content/03/images ' already exists!\n",
      "The directory ' champsbook/content/04/images ' already exists!\n",
      "The directory ' champsbook/content/05/images ' already exists!\n",
      "The directory ' champsbook/content/06/images ' already exists!\n",
      "The directory ' champsbook/content/07/images ' already exists!\n",
      "The directory ' champsbook/content/08/images ' already exists!\n"
     ]
    }
   ],
   "source": [
    "for author in folder_structure.keys():\n",
    "    author_dir1 = os.path.join(target_dir1, folder_structure[author],\"images\")\n",
    "\n",
    "    for path in [author_dir1]:\n",
    "        if not os.path.isdir(path):\n",
    "            try:\n",
    "                os.makedirs(path)\n",
    "            except OSError:\n",
    "                print(\"Creation of the directory %s failed\" % path)\n",
    "            else:\n",
    "                print(\"Successfully created the directory %s\" % path)\n",
    "        else:\n",
    "            print(\"The directory ' %s ' already exists!\" % path)"
   ]
  },
  {
   "cell_type": "markdown",
   "metadata": {},
   "source": [
    "Copy all input files into author folders "
   ]
  },
  {
   "cell_type": "code",
   "execution_count": 173,
   "metadata": {},
   "outputs": [],
   "source": [
    "from shutil import copyfile\n",
    "\n",
    "for f in input_files1:\n",
    "    author = f.split('/')[1]\n",
    "    filename = f.split('/')[-1]\n",
    "    ###########################\n",
    "    source = f\n",
    "    target = os.path.join(target_dir1, folder_structure[author], filename)\n",
    "    ###########################\n",
    "    copyfile(f, target)\n",
    "    \n",
    "for f in input_files2:\n",
    "    author = f.split('/')[1]\n",
    "    filename = f.split('/')[-1]\n",
    "    ###########################\n",
    "    source = f\n",
    "    target = os.path.join(target_dir2, filename)\n",
    "    ###########################\n",
    "    copyfile(f, target)"
   ]
  },
  {
   "cell_type": "markdown",
   "metadata": {},
   "source": [
    "Verify that input files were correctly copied to `content`"
   ]
  },
  {
   "cell_type": "code",
   "execution_count": 179,
   "metadata": {},
   "outputs": [
    {
     "name": "stdout",
     "output_type": "stream",
     "text": [
      "\u001b[1m\u001b[34mimages\u001b[m\u001b[m     test.ipynb\r\n"
     ]
    }
   ],
   "source": [
    "!ls $target_dir1/04"
   ]
  },
  {
   "cell_type": "code",
   "execution_count": 163,
   "metadata": {},
   "outputs": [
    {
     "name": "stdout",
     "output_type": "stream",
     "text": [
      "Ham_dyn.bib           caldera2c.bib         roaming_v8.bib\r\n",
      "LDs.bib               myBib.bib             rrkm_1.bib\r\n",
      "SNreac.bib            paper.bib             vri_1.bib\r\n",
      "allrefs.bib           reaction_dynamics.bib\r\n",
      "book_sprint_bib1.bib  references.bib\r\n"
     ]
    }
   ],
   "source": [
    "!ls $target_dir2"
   ]
  },
  {
   "cell_type": "markdown",
   "metadata": {},
   "source": [
    "## Edit Table of Contents (`yml`)"
   ]
  },
  {
   "cell_type": "markdown",
   "metadata": {},
   "source": [
    "Edit  `_data/toc.yml` specifying the relative paths in for files (`.ipynb`,`.md`) to appear as (sub)sections in book. \n",
    "\n",
    "See below."
   ]
  },
  {
   "cell_type": "code",
   "execution_count": 184,
   "metadata": {},
   "outputs": [
    {
     "name": "stdout",
     "output_type": "stream",
     "text": [
      "Overwriting champsbook/_data/toc.yml\n"
     ]
    }
   ],
   "source": [
    "%%writefile $target_dir0/_data/toc.yml\n",
    "# This file contains the order and numbering for all sections in the book.\n",
    "#\n",
    "# Each entry has the following schema:\n",
    "#\n",
    "# - title: mytitle   # Title of chapter or section\n",
    "#   url: /myurl  # URL of section relative to the /content/ folder.\n",
    "#   sections:  # Contains a list of more entries that make up the chapter's sections\n",
    "#   not_numbered: true  # if the section shouldn't have a number in the sidebar\n",
    "#     (e.g. Introduction or appendices)\n",
    "#   expand_sections: true  # if you'd like the sections of this chapter to always\n",
    "#     be expanded in the sidebar.\n",
    "#   external: true  # Whether the URL is an external link or points to content in the book\n",
    "#\n",
    "# Below are some special values that trigger specific behavior:\n",
    "# - search: true  # Will provide a link to a search page\n",
    "# - divider: true  # Will insert a divider in the sidebar\n",
    "# - header: My Header  # Will insert a header with no link in the sidebar\n",
    "\n",
    "\n",
    "- url: /intro\n",
    "  title: Intro\n",
    "\n",
    "- url: /01/ham_bif\n",
    "  title: Steve chapter\n",
    "    \n",
    "- url: /02/booksprinttest_makrina\n",
    "  title: Makrina chapter\n",
    "    \n",
    "- url: /03/Draft\n",
    "  title: Rafa chapter\n",
    "    \n",
    "- url: /04/test\n",
    "  title: Vladi chapter\n",
    "    \n",
    "- url: /contributing\n",
    "  not_numbered: true\n",
    "    \n",
    "- url: https://github.com/broncio123/champs-booksprint-planning\n",
    "  title: GitHub repository\n",
    "  external: true\n",
    "  not_numbered: true"
   ]
  },
  {
   "cell_type": "raw",
   "metadata": {},
   "source": [
    "%%writefile $target_dir0/_data/mytoc.yml\n",
    "# This file contains the order and numbering for all sections in the book.\n",
    "#\n",
    "# Each entry has the following schema:\n",
    "#\n",
    "# - title: mytitle   # Title of chapter or section\n",
    "#   url: /myurl  # URL of section relative to the /content/ folder.\n",
    "#   sections:  # Contains a list of more entries that make up the chapter's sections\n",
    "#   not_numbered: true  # if the section shouldn't have a number in the sidebar\n",
    "#     (e.g. Introduction or appendices)\n",
    "#   expand_sections: true  # if you'd like the sections of this chapter to always\n",
    "#     be expanded in the sidebar.\n",
    "#   external: true  # Whether the URL is an external link or points to content in the book\n",
    "#\n",
    "# Below are some special values that trigger specific behavior:\n",
    "# - search: true  # Will provide a link to a search page\n",
    "# - divider: true  # Will insert a divider in the sidebar\n",
    "# - header: My Header  # Will insert a header with no link in the sidebar\n",
    "\n",
    "\n",
    "- url: /intro\n",
    "  not_numbered: true\n",
    "\n",
    "- url: /guide/01_overview\n",
    "  not_numbered: true\n",
    "  expand_sections: true\n",
    "  sections:\n",
    "  - url: /guide/01-5_tour\n",
    "  - url: /guide/02_create\n",
    "  - url: /guide/03_build\n",
    "  - url: /guide/04_publish\n",
    "    expand_subsections: false\n",
    "    subsections:\n",
    "    - url: /guide/publish/book-html\n",
    "      not_numbered: true\n",
    "    - url: /guide/publish/github-pages\n",
    "      not_numbered: true\n",
    "    - url: /guide/publish/netlify\n",
    "      not_numbered: true\n",
    "\n",
    "  - url: /guide/05_faq\n",
    "  - url: /guide/06_advanced\n",
    "\n",
    "- url: /features/features\n",
    "  not_numbered: true\n",
    "  expand_sections: true\n",
    "  sections:\n",
    "  - url: /features/markdown\n",
    "    not_numbered: true\n",
    "  - url: /features/notebooks\n",
    "    not_numbered: true\n",
    "  - url: /features/hiding\n",
    "    not_numbered: true\n",
    "  - url: /features/interact\n",
    "    not_numbered: true\n",
    "  - url: /features/executing\n",
    "    not_numbered: true\n",
    "  - url: /features/beta\n",
    "    subsections:\n",
    "    - url: /features/interactive_cells\n",
    "      not_numbered: true\n",
    "    - url: /features/math\n",
    "      not_numbered: true\n",
    "    - url: /features/titles\n",
    "      not_numbered: true\n",
    "    - url: /features/citations\n",
    "      not_numbered: true\n",
    "    - url: /features/jupytext\n",
    "      not_numbered: true\n",
    "    - url: /features/layout\n",
    "      not_numbered: true\n",
    "    - url: /features/page\n",
    "      not_numbered: true\n",
    "\n",
    "- url: /advanced/advanced\n",
    "  not_numbered: true\n",
    "  expand_sections: true\n",
    "  sections:\n",
    "  - url: /advanced/circleci\n",
    "    not_numbered: true\n",
    "\n",
    "\n",
    "- url: https://github.com/jupyter/jupyter-book\n",
    "  title: GitHub repository\n",
    "  external: true\n",
    "  not_numbered: true\n",
    "\n",
    "- url: /contributing\n",
    "  not_numbered: true\n",
    "\n",
    "- divider: true\n",
    "- header: Demo textbook\n",
    "\n",
    "- url: /01/what-is-data-science\n",
    "  sections:\n",
    "  - url: /01/1/intro\n",
    "  - url: /01/2/why-data-science\n",
    "  - url: /01/3/Plotting_the_Classics\n",
    "    subsections:\n",
    "    - url: /01/3/subsection/subsections\n",
    "    - url: /01/3/subsection/subsectiontwo\n",
    "\n",
    "- url: /02/causality-and-experiments\n",
    "  sections:\n",
    "  - url: /02/1/observation-and-visualization-john-snow-and-the-broad-street-pump\n",
    "  - url: /02/2/snow-s-grand-experiment\n",
    "  - url: /02/3/establishing-causality\n",
    "  - url: /02/4/randomization\n",
    "  - url: /02/5/endnote\n",
    "\n",
    "- url: /03/programming-in-python\n",
    "  sections:\n",
    "  - url: /03/1/Expressions\n",
    "  - url: /03/2/Names\n",
    "  - url: /03/3/Calls\n",
    "  - url: /03/4/Introduction_to_Tables\n",
    "\n",
    "- url: /04/Types\n",
    "  sections:\n",
    "  - url: /04/1/Numbers\n",
    "  - url: /04/2/Strings\n",
    "  - url: /04/3/Comparison\n",
    "\n",
    "- divider: true\n",
    "\n",
    "- url: /test_pages/test\n",
    "  not_numbered: true\n",
    "  sections:\n",
    "    - url: /test_pages/layout_elements\n",
    "    - url: /test_pages/equations\n",
    "    - url: /test_pages/code\n",
    "    - url: /test_pages/limits"
   ]
  },
  {
   "cell_type": "markdown",
   "metadata": {},
   "source": [
    "## Edit Configuration "
   ]
  },
  {
   "cell_type": "code",
   "execution_count": 180,
   "metadata": {},
   "outputs": [
    {
     "name": "stdout",
     "output_type": "stream",
     "text": [
      "Overwriting champsbook/_config.yml\n"
     ]
    }
   ],
   "source": [
    "%%writefile $target_dir0/_config.yml\n",
    "# Welcome to Jekyll!\n",
    "#\n",
    "# This config file is meant for settings that affect your whole blog, values\n",
    "# which you are expected to set up once and rarely edit after that. If you find\n",
    "# yourself editing this file very often, consider using Jekyll's data files\n",
    "# feature for the data you need to update frequently.\n",
    "#\n",
    "# For technical reasons, this file is *NOT* reloaded automatically when you use\n",
    "# 'bundle exec jekyll serve'. If you change this file, please restart the server process.\n",
    "\n",
    "# Site settings\n",
    "# These are used to personalize your new site. If you look in the HTML files,\n",
    "# you will see them accessed via {{ site.title }}, {{ site.email }}, and so on.\n",
    "# You can create any custom variable you would like, and they will be accessible\n",
    "# in the templates via {{ site.myvariable }}.\n",
    "\n",
    "#######################################################################################\n",
    "# Jekyll site settings\n",
    "title: Jupyter Book\n",
    "author: The Jupyter Book Community\n",
    "email: choldgraf@berkeley.edu\n",
    "description: >- # this means to ignore newlines until \"baseurl:\"\n",
    "  This is an example book built with Jupyter Books.\n",
    "\n",
    "baseurl: \"\" # the subpath of your site, e.g. /blog. If there is no subpath for your site, use an empty string \"\"\n",
    "url: \"https://jupyterbook.org\" # the base hostname & protocol for your site, e.g. http://example.com\n",
    "\n",
    "\n",
    "#######################################################################################\n",
    "# Jupyter Book settings\n",
    "\n",
    "# Main page settings\n",
    "footer_text               : This page was created by <a href=\"https://github.com/jupyter/jupyter-book/graphs/contributors\">The Jupyter Book Community</a>\n",
    "\n",
    "# Sidebar settings\n",
    "show_sidebar              : true  # Show the sidebar. Only set to false if your only wish to host a single page.\n",
    "collapse_inactive_chapters: true  # Whether to collapse the inactive chapters in the sidebar\n",
    "collapse_inactive_sections: true  # Whether to collapse the sub-sections within a non-active section in the sidebar\n",
    "textbook_logo             : images/logo/logo.png  # A logo to be displayed at the top of your textbook sidebar. Should be square\n",
    "textbook_logo_link        : https://jupyterbook.org/intro.html  # A link for the logo.\n",
    "sidebar_footer_text       : 'Powered by <a href=\"https://jupyterbook.org\">Jupyter Book</a>'\n",
    "number_toc_chapters       : true  # Whether to add numbers to chapterse in your Table of Contents. If true, you can control this at the Chapter level in _data/toc.yml\n",
    "\n",
    "# Search settings\n",
    "search_max_words_in_content : 100  # In the search function, use at most this many words (too many words will make search slow)\n",
    "\n",
    "# Controlling page information\n",
    "page_titles                    : infer  # Either `None`, `infer`, or `toc`\n",
    "page_authors                   : None  # Either `None` or `infer`\n",
    "filename_title_split_character : '_'  # If inferring titles based on filename, splt on this character.\n",
    "\n",
    "# Math settings\n",
    "number_equations               : false  # Whether to automatically number all block equations with MathJax\n",
    "\n",
    "#######################################################################################\n",
    "# Interact link settings\n",
    "\n",
    "# General interact settings\n",
    "use_jupyterlab                   : false  # If 'true', interact links will use JupyterLab as the interface\n",
    "\n",
    "# Jupyterhub link settings\n",
    "use_jupyterhub_button            : false  # If 'true', display a button that will direct users to a JupyterHub (that you provide)\n",
    "jupyterhub_url                   : \"\"  # The URL for your JupyterHub. If no URL, use \"\"\n",
    "jupyterhub_interact_text         : \"Interact\"  # The text that interact buttons will contain.\n",
    "\n",
    "# Binder link settings\n",
    "use_binder_button                : true  # If 'true', add a binder button for interactive links\n",
    "binderhub_url                    : \"https://mybinder.org\"  # The URL for your BinderHub. If no URL, use \"\"\n",
    "binder_repo_base                 : \"https://github.com/\"  # The site on which the textbook repository is hosted\n",
    "binder_repo_org                  : \"jupyter\"  # The username or organization that owns this repository\n",
    "binder_repo_name                 : \"jupyter-book\"  # The name of the repository on the web\n",
    "binder_repo_branch               : \"gh-pages\"  # The branch on which your textbook is hosted.\n",
    "binderhub_interact_text          : \"Interact\"  # The text that interact buttons will contain.\n",
    "\n",
    "# Thebelab settings\n",
    "use_thebelab_button              : true  # If 'true', display a button to allow in-page running code cells with Thebelab\n",
    "thebelab_button_text             : \"Thebelab\"  # The text to display inside the Thebelab initialization button\n",
    "codemirror_theme                 : \"abcdef\"  # Theme for codemirror cells, for options see https://codemirror.net/doc/manual.html#config\n",
    "\n",
    "# nbinteract settings\n",
    "use_show_widgets_button              : true  # If 'true', display a button to allow in-page running code cells with nbinteract\n",
    "\n",
    "# Download settings\n",
    "use_download_button              : true  # If 'true', display a button to download a zip file for the notebook\n",
    "download_button_text             : \"Download\" # The text that download buttons will contain\n",
    "download_page_header             : \"Made with Jupyter Book\" # A header that will be displayed at the top of and PDF-printed page\n",
    "\n",
    "#######################################################################################\n",
    "# Jupyter book extensions and additional features\n",
    "\n",
    "# Bibliography and citation settings. See https://github.com/inukshuk/jekyll-scholar#configuration for options\n",
    "scholar:\n",
    "  style: apa\n",
    "\n",
    "#######################################################################################\n",
    "# Option to add a Goggle analytics tracking code\n",
    "\n",
    "# Navigate to https://analytics.google.com, add a new property for your jupyter book and copy the tracking id here.\n",
    "google_analytics:\n",
    "  mytrackingcode: UA-52617120-7\n",
    "\n",
    "#######################################################################################\n",
    "# Jupyter book settings you probably don't need to change\n",
    "\n",
    "content_folder_name       : \"content\"  # The folder where your raw content (notebooks/markdown files) are located\n",
    "images_url                : \"/assets/images\" # Path to static image files\n",
    "css_url                   : \"/assets/css\" # Path to static CSS files\n",
    "js_url                    : \"/assets/js\" # Path to JS files\n",
    "custom_static_url         : \"/assets/custom\" # Path to user's custom CSS/JS files\n",
    "\n",
    "\n",
    "#######################################################################################\n",
    "# Jekyll build settings (only modify if you know what you're doing)\n",
    "\n",
    "# Site settings\n",
    "defaults:\n",
    "  - scope:\n",
    "      path: \"\"\n",
    "    values:\n",
    "      layout: \"default\"\n",
    "      toc: true\n",
    "      toc_label: \"  On this page\"\n",
    "      toc_icon: \"list-ul\"\n",
    "      excerpt: ''\n",
    "\n",
    "favicon_path: \"images/logo/favicon.ico\"\n",
    "\n",
    "# Markdown Processing\n",
    "markdown: kramdown\n",
    "kramdown:\n",
    "  input: GFM\n",
    "  syntax_highlighter: rouge\n",
    "\n",
    "sass:\n",
    "  style: compressed\n",
    "\n",
    "collections:\n",
    "  build:\n",
    "    output: true\n",
    "    permalink: /:path.html\n",
    "\n",
    "# Exclude from processing.\n",
    "# The following items will not be processed, by default. Create a custom list\n",
    "# to override the default setting.\n",
    "exclude:\n",
    "  - scripts/\n",
    "  - Gemfile\n",
    "  - Gemfile.lock\n",
    "  - node_modules\n",
    "  - vendor/bundle/\n",
    "  - vendor/cache/\n",
    "  - vendor/gems/\n",
    "  - vendor/ruby/\n",
    "\n",
    "plugins:\n",
    "  - jekyll-redirect-from\n",
    "  - jekyll-scholar\n",
    "\n",
    "# Jupyter Book version - DO NOT CHANGE THIS. It is generated when a new book is created\n",
    "jupyter_book_version: \"0.6.4dev0\""
   ]
  },
  {
   "cell_type": "markdown",
   "metadata": {},
   "source": [
    "## Build site"
   ]
  },
  {
   "cell_type": "markdown",
   "metadata": {},
   "source": [
    "Then, build book `jupyter-book build champsbook`"
   ]
  },
  {
   "cell_type": "markdown",
   "metadata": {},
   "source": [
    "<span style=\"color:red\">**TO-DO's**</span>\n",
    "* add material/links for preparation\n",
    "* stuff for revision\n"
   ]
  },
  {
   "cell_type": "markdown",
   "metadata": {},
   "source": [
    "# Publishing a site with `GitPages`"
   ]
  },
  {
   "cell_type": "markdown",
   "metadata": {},
   "source": [
    "## Installing `jekyll`"
   ]
  },
  {
   "cell_type": "markdown",
   "metadata": {},
   "source": [
    "This is needed to publish HTML files via GitHub pages"
   ]
  },
  {
   "cell_type": "markdown",
   "metadata": {},
   "source": [
    "Install `jekyll` accrding to specific instructions for your OS and Version\n",
    "\n",
    "For **macOs**, Mojave (10.14) \n",
    "\n",
    "1. Install `brew` (macOS software installer)\n",
    "\n",
    "2. install `ruby`\n",
    "> `brew install ruby`\n",
    "\n",
    "3. Add the brew ruby path to your shell configuration, i.e, Copy the lines below and paste them at the end of your `~./bash_profile` (macOS). \n",
    ">`export PATH=/usr/local/opt/ruby/bin:$PATH`\n",
    "\n",
    "4. Then, relaunch the terminal or do `source ~./bash_profile`\n",
    "\n",
    "5. Check the version or `ruby` installed and whether satisfies `jekyll` installation requirements. Read note below.\n",
    "> `which ruby`\n",
    "\n",
    "**NOTE** `jekyll` requires a `ruby` version `>= 2.4.0` according to the output of Step X\n",
    "\n",
    "6. If your need to change your `ruby` version, install `rbenv`\n",
    ">`brew install rbenv`\n",
    "\n",
    "7. And do\n",
    ">```bash\n",
    "rbenv install 2.6.3\n",
    "rbenv global 2.6.3\n",
    "ruby -v\n",
    "```\n",
    "\n",
    "8. Install `bundler` via `gem` (The Ruby package manager)\n",
    "```bash\n",
    "sudo gem install bundler\n",
    "```\n",
    "\n",
    "9. Finally install `jekyll`\n",
    ">```bash\n",
    "sudo gem install -n /usr/local/bin/ jekyll\n",
    "```\n",
    "\n",
    "**NOTE** In the official documentation it is strongly advised not to do a global installation of ruby in your system https://jekyllrb.com/docs/installation/macos/ Although, in the homepage, there is no information whatsoever about this warning https://jekyllrb.com/\n",
    "\n",
    "For macOS Versions earlier than Mojave (`< 10.14`), do only this instead\n",
    "\n",
    ">```bash\n",
    "sudo gem install bundler jekyll\n",
    "```\n",
    "\n",
    "10. And, check that is thas been correctly installed\n",
    "\n",
    ">`jekyll -v`"
   ]
  },
  {
   "cell_type": "markdown",
   "metadata": {},
   "source": [
    "## Creating a site with `jekyll`"
   ]
  },
  {
   "cell_type": "markdown",
   "metadata": {},
   "source": [
    "Once `jekyll` is installed, just do\n",
    "\n",
    ">```bash\n",
    "jekyll new my-awesome-site\n",
    "cd my-awesome-site\n",
    "bundle exec jekyll serve\n",
    "```"
   ]
  },
  {
   "cell_type": "markdown",
   "metadata": {},
   "source": [
    "<span style=\"color:blue\"><b>NOTE</b></span>\n",
    "\n",
    "If there is any special Ruby library dependecies (i.e., RubyGems or gems)\n",
    "\n",
    "```bash\n",
    "bundle install\n",
    "```\n",
    "\n",
    "will automatically install these as long as they are declared in `Gemfile`, fetching these from the [Ruby server](https://rubygems.org)\n",
    "\n",
    "After installing any needed gems, bundler writes a record file (`Gemfile.lock`) of all installed gems and their versions"
   ]
  },
  {
   "cell_type": "markdown",
   "metadata": {},
   "source": [
    "Then, just browse to [http://localhost:4000](http://localhost:4000/)"
   ]
  },
  {
   "cell_type": "markdown",
   "metadata": {},
   "source": [
    "<span style=\"color:blue\"><b>BREAKDOWN</b></span>"
   ]
  },
  {
   "cell_type": "markdown",
   "metadata": {},
   "source": [
    "1. The first line will create the folder `my-awesome-site` with the following content\n",
    "```bash\n",
    "404.html        Gemfile.lock    _posts/         index.markdown\n",
    "Gemfile         _config.yml     about.markdown\n",
    "```\n",
    "\n",
    "\n",
    "* `Gemfile` is a file were the Ruby dependencies of your application are declared.\n",
    "\n",
    "* `Gemfile.lock` is record of the specific (sub)dependecies installed. This _extremely useful_ to share your environment with people.\n",
    "\n",
    "* `jekyll` command is an executable that you can run in terminal for the `jekyll` RubyGem. Here's a cheatsheet [here](https://jekyllrb.com/docs/usage/) for how to use it."
   ]
  },
  {
   "cell_type": "markdown",
   "metadata": {},
   "source": [
    "2. After moving to the new folder, the last line will (__A__) create the folder `_site`, with the following content\n",
    "\n",
    "```bash\n",
    "404.html    about/      assets/     feed.xml    index.html  jekyll/\n",
    "```\n",
    "where\n",
    "\n",
    "* `jekyll serve` is a command to build our website with a fancy theme\n",
    "* `bundle exec` pipes the list of Ruby library (gems) requirements in `Gemfile` for execution of `jekyll serve`"
   ]
  },
  {
   "cell_type": "markdown",
   "metadata": {},
   "source": [
    "and (__B__) will produce the following output after execution\n",
    "\n",
    "```bash\n",
    "####################################################\n",
    "Configuration file: /Users/bas/research/book_sprint/my-awesome-site/_config.yml\n",
    "            Source: /Users/bas/research/book_sprint/my-awesome-site\n",
    "       Destination: /Users/bas/research/book_sprint/my-awesome-site/_site\n",
    " Incremental build: disabled. Enable with --incremental\n",
    "      Generating... \n",
    "       Jekyll Feed: Generating feed for posts\n",
    "                    done in 1.369 seconds.\n",
    " Auto-regeneration: enabled for '/Users/bas/research/book_sprint/my-awesome-site'\n",
    "    Server address: http://127.0.0.1:4000/\n",
    "  Server running... press ctrl-c to stop.\n",
    "####################################################\n",
    "```\n",
    "\n",
    "After what you can open a browser tab and use the URL `http://127.0.0.1:4000/` or `http://localhost:4000` to see the rendered HTML page with `jekyll`."
   ]
  },
  {
   "cell_type": "markdown",
   "metadata": {},
   "source": [
    "<span style=\"color:blue\"><b>SOURCES</b></span>\n",
    "\n",
    "* What's the difference between `Gemfile` and `Gemfile.lock`?\n",
    "\n",
    "https://medium.com/@davalpargal/gemfile-and-gemfile-lock-in-ruby-65adc918b856\n",
    "\n",
    "https://stackoverflow.com/questions/6927442/what-is-the-difference-between-gemfile-and-gemfile-lock-in-ruby-on-rails\n",
    "\n",
    "* What's Bundler?\n",
    "\n",
    "https://bundler.io/v1.12/rationale.html\n",
    "\n",
    "* Basics of Ruby\n",
    " * `gem` Ruby package (RubyGems) manager\n",
    " * `irb` Interactive Ruby prompt and basic commands\n",
    "\n",
    "https://guides.rubygems.org/rubygems-basics/\n",
    "\n",
    "https://www.digitalocean.com/community/tutorials/how-to-use-irb-to-explore-ruby"
   ]
  },
  {
   "cell_type": "markdown",
   "metadata": {},
   "source": [
    "```\n",
    "FIRST build\n",
    "jupyter-book build champsbook\n",
    "\n",
    "SECOND serve with jekyll\n",
    "\n",
    "bundle exec jekyll serve --watch --port 4444\n",
    "```"
   ]
  },
  {
   "cell_type": "code",
   "execution_count": null,
   "metadata": {},
   "outputs": [],
   "source": []
  },
  {
   "cell_type": "code",
   "execution_count": null,
   "metadata": {},
   "outputs": [],
   "source": []
  },
  {
   "cell_type": "code",
   "execution_count": null,
   "metadata": {},
   "outputs": [],
   "source": []
  },
  {
   "cell_type": "code",
   "execution_count": null,
   "metadata": {},
   "outputs": [],
   "source": []
  },
  {
   "cell_type": "code",
   "execution_count": null,
   "metadata": {},
   "outputs": [],
   "source": []
  },
  {
   "cell_type": "code",
   "execution_count": null,
   "metadata": {},
   "outputs": [],
   "source": []
  },
  {
   "cell_type": "code",
   "execution_count": null,
   "metadata": {},
   "outputs": [],
   "source": []
  },
  {
   "cell_type": "code",
   "execution_count": null,
   "metadata": {},
   "outputs": [],
   "source": []
  },
  {
   "cell_type": "code",
   "execution_count": null,
   "metadata": {},
   "outputs": [],
   "source": []
  },
  {
   "cell_type": "code",
   "execution_count": null,
   "metadata": {},
   "outputs": [],
   "source": []
  },
  {
   "cell_type": "code",
   "execution_count": null,
   "metadata": {},
   "outputs": [],
   "source": []
  },
  {
   "cell_type": "code",
   "execution_count": null,
   "metadata": {},
   "outputs": [],
   "source": []
  },
  {
   "cell_type": "code",
   "execution_count": null,
   "metadata": {},
   "outputs": [],
   "source": []
  },
  {
   "cell_type": "code",
   "execution_count": null,
   "metadata": {},
   "outputs": [],
   "source": []
  },
  {
   "cell_type": "code",
   "execution_count": null,
   "metadata": {},
   "outputs": [],
   "source": []
  },
  {
   "cell_type": "code",
   "execution_count": null,
   "metadata": {},
   "outputs": [],
   "source": []
  }
 ],
 "metadata": {
  "kernelspec": {
   "display_name": "Python 3",
   "language": "python",
   "name": "python3"
  },
  "language_info": {
   "codemirror_mode": {
    "name": "ipython",
    "version": 3
   },
   "file_extension": ".py",
   "mimetype": "text/x-python",
   "name": "python",
   "nbconvert_exporter": "python",
   "pygments_lexer": "ipython3",
   "version": "3.7.1"
  },
  "latex_envs": {
   "LaTeX_envs_menu_present": true,
   "autoclose": false,
   "autocomplete": true,
   "bibliofile": "/Users/bas/research/book_sprint/champs-booksprint-planning/convert_tex2html/article_test/sample.bib",
   "cite_by": "apalike",
   "current_citInitial": 1,
   "eqLabelWithNumbers": true,
   "eqNumInitial": 1,
   "hotkeys": {
    "equation": "Ctrl-E",
    "itemize": "Ctrl-I"
   },
   "labels_anchors": false,
   "latex_user_defs": false,
   "report_style_numbering": false,
   "user_envs_cfg": false
  },
  "toc": {
   "base_numbering": 1,
   "nav_menu": {},
   "number_sections": false,
   "sideBar": true,
   "skip_h1_title": false,
   "title_cell": "Table of Contents",
   "title_sidebar": "Contents",
   "toc_cell": false,
   "toc_position": {},
   "toc_section_display": true,
   "toc_window_display": true
  }
 },
 "nbformat": 4,
 "nbformat_minor": 2
}
