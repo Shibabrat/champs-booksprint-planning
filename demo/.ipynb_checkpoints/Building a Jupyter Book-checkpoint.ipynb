{
 "cells": [
  {
   "cell_type": "markdown",
   "metadata": {},
   "source": [
    "# PROCEDURE"
   ]
  },
  {
   "cell_type": "markdown",
   "metadata": {},
   "source": [
    "## Set up environment "
   ]
  },
  {
   "cell_type": "markdown",
   "metadata": {},
   "source": [
    "Install `jupyter-book`, do: \n",
    "\n",
    "``` bash\n",
    "pip install jupyter-book\n",
    "```"
   ]
  },
  {
   "cell_type": "markdown",
   "metadata": {},
   "source": [
    "## Create JupyterBook template"
   ]
  },
  {
   "cell_type": "code",
   "execution_count": 36,
   "metadata": {},
   "outputs": [
    {
     "name": "stdout",
     "output_type": "stream",
     "text": [
      "Copying new book to: ./champsbook\n",
      "Copying over demo repository content\n"
     ]
    }
   ],
   "source": [
    "!jupyter-book create champsbook --demo"
   ]
  },
  {
   "cell_type": "markdown",
   "metadata": {},
   "source": [
    "## Get files from Cloud  (`rclone`)"
   ]
  },
  {
   "cell_type": "markdown",
   "metadata": {},
   "source": [
    "Install `rclone` before hand."
   ]
  },
  {
   "cell_type": "markdown",
   "metadata": {},
   "source": [
    "<b>STEP 1</b> Configure `rclone` to access remote.\n",
    "\n",
    "Instructions are [here](https://rclone.org/onedrive/). During this process you will set up a name for your remote folder. \n",
    "\n",
    "Here, we have named our remote folder as `booksprint`. This corresponds though to my whole OneDrive folder when using it."
   ]
  },
  {
   "cell_type": "markdown",
   "metadata": {},
   "source": [
    "<b>STEP 2</b> Check content in remote source. \n",
    "\n",
    "This will require contributors to upload their material to the remote folder beforehand."
   ]
  },
  {
   "cell_type": "code",
   "execution_count": 94,
   "metadata": {},
   "outputs": [],
   "source": [
    "remote_name = 'booksprint'\n",
    "remote_source_dir = 'BookSprint-Demo'"
   ]
  },
  {
   "cell_type": "code",
   "execution_count": 96,
   "metadata": {},
   "outputs": [
    {
     "name": "stdout",
     "output_type": "stream",
     "text": [
      "2019/12/03 17:06:04 ERROR : Using --filter is recommended instead of both --include and --exclude as the order they are parsed in is indeterminate\n",
      "    19223 RGM/Draft.md\n",
      "     9287 RGM/myBib.bib\n",
      "     1995 RGM/untitled.md\n",
      "    18151 MK/caldera-1.ipynb\n",
      "    39605 MK/caldera2c.bib\n",
      "     2351 F/test.ipynb\n",
      "   103552 VK/LD manif/allrefs.bib\n",
      "    37036 VK/LD manif/roamld.md\n",
      "   103552 VK/Roamiso/allrefs.bib\n",
      "    35994 VK/Roamiso/roamiso.md\n",
      "    33594 MA/SNreac.bib\n",
      "    40027 MA/booksprinttest_makrina.ipynb\n",
      "     4206 VK/Morse/Morse.bib\n",
      "    28073 VK/Morse/Morse.ipynb\n",
      "    17228 VK/Morse/Morse.md\n",
      "   103670 VK/test/allrefs.bib\n",
      "     6507 VK/test/test.ipynb\n",
      "    30411 VK/Roammass/roamm.bib\n",
      "    79249 VK/Roammass/roamm.md\n",
      "     4330 MK/.ipynb_checkpoints/booksprinttest_makrina(1)-checkpoint.ipynb\n",
      "     3333 MK/.ipynb_checkpoints/caldera-1-checkpoint.ipynb\n",
      "     2521 MK/.ipynb_checkpoints/caldera-checkpoint.ipynb\n",
      "     4399 VGG/LDs/.ipynb\n",
      "    37258 VGG/LDs/LDs.bib\n",
      "     4294 VGG/LDs/booksprinttest_victor.ipynb\n",
      "     6462 SW/2 DoF index 1 saddle/2_dof_index_1_saddle.ipynb\n",
      "     6216 SW/1 DoF saddle/1_DOF_saddle.ipynb\n",
      "    27958 VGG/HamSN/HamSN.bib\n",
      "     8108 SW/Definition of the index of a saddle/saddle_index_definition.ipynb\n",
      "     5907 SW/3 DoF index 1 saddle/3_dof_index_1_saddle.ipynb\n",
      "    30556 SN/barbanis-2n3dof/finding_nhim_2-3dof_nonlinear.bib\n",
      "    36291 SN/barbanis-2n3dof/finding_nhim_2-3dof_nonlinear.md\n",
      "     6290 SW/Hamiltonian bifurcation/ham_bif.ipynb\n",
      "   180516 SN/quad-normal-form/Ham_LD_reaction.bib\n",
      "    86792 SN/quad-normal-form/quad-normal-form.md\n",
      "    28073 VK/Morse/.ipynb_checkpoints/Morse-checkpoint.ipynb\n",
      "     1761 SW/Intro material/book_sprint_bib1.bib\n",
      "     8774 SW/Intro material/booksprint_intro.ipynb\n",
      "    67466 SW/2 DoF index 2 saddle/Ham_dyn.bib\n",
      "     5907 SW/2 DoF index 2 saddle/index_2_saddle.ipynb\n",
      "    33979 SW/2 DoF index 2 saddle/reaction_dynamics.bib\n",
      "    20944 SW/2 DoF index 2 saddle/roaming_v8.bib\n",
      "    98110 SW/2 DoF index 2 saddle/rrkm_1.bib\n",
      "     9425 SW/2 DoF index 2 saddle/vri_1.bib\n",
      "     2647 SN/workflow-demo/paper.bib\n",
      "     9327 SN/workflow-demo/paper.md\n",
      "    29708 SW/Morse/Morse.ipynb\n",
      "     4051 SW/Morse/action_angle.bib\n",
      "    29363 VK/Roaming/refs.bib\n",
      "   105457 VK/Roaming/roam.md\n"
     ]
    }
   ],
   "source": [
    "!rclone ls --include \\*.ipynb --include \\*.md --include \\*.bib --exclude='*checkpoint.ipynb' $remote_name:$remote_source_dir"
   ]
  },
  {
   "cell_type": "markdown",
   "metadata": {},
   "source": [
    "<b>STEP 3</b> Sync remote with local folder.\n",
    "\n",
    "This local folder is an intermmediate folder and **must be** separate from the `_content` (part of the GiHub repo) folder were files are kept after scripted editing and revision to build the book. "
   ]
  },
  {
   "cell_type": "markdown",
   "metadata": {},
   "source": [
    "<span style='color:red'><b>NOTE</b></span> What actually `rclone sync` does.\n",
    "\n",
    "`rclone sync` Sync the source to the destination, changing the destination only. Doesn’t transfer unchanged files, testing by size and modification time or MD5SUM. Destination is updated to match source, including deleting files if necessary.\n",
    "\n",
    "[SOURCE](https://rclone.org/commands/rclone_sync/)"
   ]
  },
  {
   "cell_type": "markdown",
   "metadata": {},
   "source": [
    "OPTIONAL: Enable the flag `--progress` or `-P` "
   ]
  },
  {
   "cell_type": "code",
   "execution_count": 97,
   "metadata": {},
   "outputs": [],
   "source": [
    "remote_name = 'booksprint'\n",
    "remote_source_dir = 'BookSprint-Demo'"
   ]
  },
  {
   "cell_type": "code",
   "execution_count": 98,
   "metadata": {},
   "outputs": [],
   "source": [
    "local_source_dir = 'BookSprint-Demo'"
   ]
  },
  {
   "cell_type": "code",
   "execution_count": 99,
   "metadata": {
    "scrolled": true
   },
   "outputs": [
    {
     "name": "stdout",
     "output_type": "stream",
     "text": [
      "\u001b[2K\u001b[0GTransferred:   \t         0 / 0 Bytes, -, 0 Bytes/s, ETA -\n",
      "Errors:                 0\n",
      "Checks:                12 / 12, 100%\n",
      "Transferred:            0 / 0, -\n",
      "Elapsed time:        1.1s\u001b[2K\u001b[A\u001b[2K\u001b[A\u001b[2K\u001b[A\u001b[2K\u001b[A\u001b[2K\u001b[0GTransferred:   \t   65.280k / 1.383 MBytes, 5%, 38.599 kBytes/s, ETA 35s\n",
      "Errors:                 0\n",
      "Checks:               230 / 230, 100%\n",
      "Transferred:            2 / 8, 25%\n",
      "Elapsed time:        1.6s\n",
      "Transferring:\n",
      " *       SN/quad-normal-form/Ham_LD_reaction.bib: transferring\n",
      " *     SN/quad-normal-form/quad-normal-form.html: transferring\n",
      " * SN/barbanis-2n3dof/fin…_2-3dof_nonlinear.html: transferring\n",
      " * SN/barbanis-2n3dof/fin…m_2-3dof_nonlinear.pdf: transferring\u001b[2K\u001b[A\u001b[2K\u001b[A\u001b[2K\u001b[A\u001b[2K\u001b[A\u001b[2K\u001b[A\u001b[2K\u001b[A\u001b[2K\u001b[A\u001b[2K\u001b[A\u001b[2K\u001b[A\u001b[2K\u001b[0GTransferred:   \t  550.347k / 8.325 MBytes, 6%, 251.252 kBytes/s, ETA 31s\n",
      "Errors:                 0\n",
      "Checks:               396 / 396, 100%\n",
      "Transferred:            6 / 25, 24%\n",
      "Elapsed time:        2.1s\n",
      "Transferring:\n",
      " *         SN/quad-normal-form/figures/.DS_Store: transferring\n",
      " *       SN/quad-normal-form/quad-normal-form.md: transferring\n",
      " *      SN/quad-normal-form/quad-normal-form.pdf: transferring\n",
      " * SN/quad-normal-form/fi…-250_xpx_yneg70e-1.png: transferring\u001b[2K\u001b[A\u001b[2K\u001b[A\u001b[2K\u001b[A\u001b[2K\u001b[A\u001b[2K\u001b[A\u001b[2K\u001b[A\u001b[2K\u001b[A\u001b[2K\u001b[A\u001b[2K\u001b[A\u001b[2K\u001b[0GTransferred:   \t    2.714M / 7.207 MBytes, 38%, 1.009 MBytes/s, ETA 4s\n",
      "Errors:                 0\n",
      "Checks:               396 / 396, 100%\n",
      "Transferred:           12 / 25, 48%\n",
      "Elapsed time:        2.6s\n",
      "Transferring:\n",
      " * SN/quad-normal-form/fi…000_E24_xpx_pz-pos.png: transferring\n",
      " * SN/quad-normal-form/fi…00_E15-125_E15-250.png: transferring\n",
      " * SN/quad-normal-form/fi…exit-saddle-region.png: transferring\n",
      " * SN/quad-normal-form/fi…s_region_E30_eqpts.pdf: transferring\u001b[2K\u001b[A\u001b[2K\u001b[A\u001b[2K\u001b[A\u001b[2K\u001b[A\u001b[2K\u001b[A\u001b[2K\u001b[A\u001b[2K\u001b[A\u001b[2K\u001b[A\u001b[2K\u001b[A\u001b[2K\u001b[0GTransferred:   \t    5.892M / 8.785 MBytes, 67%, 1.848 MBytes/s, ETA 1s\n",
      "Errors:                 0\n",
      "Checks:               396 / 396, 100%\n",
      "Transferred:           17 / 25, 68%\n",
      "Elapsed time:        3.1s\n",
      "Transferring:\n",
      " * SN/quad-normal-form/fi…arbanis_upos_eqpt2.pdf: transferring\n",
      " * SN/quad-normal-form/fi…banis3dof_pes_proj.pdf: transferring\n",
      " * SN/quad-normal-form/fi…eqpt2_DeltaE225e-2.pdf: transferring\n",
      " * SN/quad-normal-form/fi…zpz_py-pos_pzConst.png: transferring\u001b[2K\u001b[A\u001b[2K\u001b[A\u001b[2K\u001b[A\u001b[2K\u001b[A\u001b[2K\u001b[A\u001b[2K\u001b[A\u001b[2K\u001b[A\u001b[2K\u001b[A\u001b[2K\u001b[A\u001b[2K\u001b[0GTransferred:   \t    7.153M / 7.153 MBytes, 100%, 1.939 MBytes/s, ETA 0s\n",
      "Errors:                 0\n",
      "Checks:               396 / 396, 100%\n",
      "Transferred:           23 / 25, 92%\n",
      "Elapsed time:        3.6s\n",
      "Transferring:\n",
      " * SN/quad-normal-form/fi…E15-250_x-px_tau50.png: transferring\n",
      " * SN/quad-normal-form/fi…s_cont_Barbanis_3D.pdf: transferring\u001b[2K\u001b[A\u001b[2K\u001b[A\u001b[2K\u001b[A\u001b[2K\u001b[A\u001b[2K\u001b[A\u001b[2K\u001b[A\u001b[2K\u001b[A\u001b[2K\u001b[0GTransferred:   \t    9.933M / 9.933 MBytes, 100%, 2.525 MBytes/s, ETA 0s\n",
      "Errors:                 0\n",
      "Checks:               396 / 396, 100%\n",
      "Transferred:           25 / 25, 100%\n",
      "Elapsed time:        3.9s\n"
     ]
    }
   ],
   "source": [
    "!rclone sync -P --exclude='*checkpoint.ipynb' $remote_name:$remote_source_dir $local_source_dir"
   ]
  },
  {
   "cell_type": "markdown",
   "metadata": {},
   "source": [
    "<span style='color:red'><b>NOTE</b></span> Daily limits on file transfer.\n",
    "\n"
   ]
  },
  {
   "cell_type": "markdown",
   "metadata": {},
   "source": [
    "Check [this](https://help.github.com/en/github/managing-large-files/what-is-my-disk-quota)"
   ]
  },
  {
   "cell_type": "markdown",
   "metadata": {},
   "source": [
    "## Edit and Relocate Files"
   ]
  },
  {
   "cell_type": "markdown",
   "metadata": {},
   "source": [
    "<b>STEP 1</b> Find all Jupyter Notebooks (`.ipynb`) or Markdown (`.md`) files in common directory"
   ]
  },
  {
   "cell_type": "code",
   "execution_count": 84,
   "metadata": {},
   "outputs": [],
   "source": [
    "import os\n",
    "\n",
    "source_dir = 'BookSprint-Demo'\n",
    "\n",
    "FILE_EXTENSIONS = ['.ipynb', '.md']\n",
    "\n",
    "input_files1 = []\n",
    "for x in list(os.walk(source_dir)):\n",
    "    subdir = x[0]\n",
    "    for f in x[-1]:\n",
    "        filename, file_extension = os.path.splitext(f)\n",
    "        if file_extension in FILE_EXTENSIONS:\n",
    "            input_files1.append(os.path.join(subdir, f))"
   ]
  },
  {
   "cell_type": "code",
   "execution_count": 85,
   "metadata": {},
   "outputs": [
    {
     "data": {
      "text/plain": [
       "['BookSprint-Demo/SW/Hamiltonian bifurcation/ham_bif.ipynb',\n",
       " 'BookSprint-Demo/SW/2 DoF index 1 saddle/2_dof_index_1_saddle.ipynb',\n",
       " 'BookSprint-Demo/SW/2 DoF index 1 saddle/.ipynb_checkpoints/2_dof_index_1_saddle-checkpoint.ipynb',\n",
       " 'BookSprint-Demo/SW/Intro material/booksprint_intro.ipynb',\n",
       " 'BookSprint-Demo/SW/3 DoF index 1 saddle/3_dof_index_1_saddle.ipynb',\n",
       " 'BookSprint-Demo/SW/Definition of the index of a saddle/saddle_index_definition.ipynb',\n",
       " 'BookSprint-Demo/SW/Morse/Morse.ipynb',\n",
       " 'BookSprint-Demo/SW/Morse/.ipynb_checkpoints/Morse-checkpoint.ipynb',\n",
       " 'BookSprint-Demo/SW/1 DoF saddle/1_DOF_saddle.ipynb',\n",
       " 'BookSprint-Demo/SW/2 DoF index 2 saddle/index_2_saddle.ipynb',\n",
       " 'BookSprint-Demo/MA/booksprinttest_makrina.ipynb',\n",
       " 'BookSprint-Demo/MA/.ipynb_checkpoints/booksprinttest_makrina-checkpoint.ipynb',\n",
       " 'BookSprint-Demo/RGM/untitled.md',\n",
       " 'BookSprint-Demo/RGM/Draft.md',\n",
       " 'BookSprint-Demo/F/test.ipynb',\n",
       " 'BookSprint-Demo/VK/test/test.ipynb',\n",
       " 'BookSprint-Demo/VK/Roamiso/roamiso.md',\n",
       " 'BookSprint-Demo/VK/LD manif/roamld.md',\n",
       " 'BookSprint-Demo/VK/Roammass/roamm.md',\n",
       " 'BookSprint-Demo/VK/Morse/Morse.ipynb',\n",
       " 'BookSprint-Demo/VK/Morse/Morse.md',\n",
       " 'BookSprint-Demo/VK/Roaming/roam.md',\n",
       " 'BookSprint-Demo/SN/workflow-demo/paper.md',\n",
       " 'BookSprint-Demo/SN/quad-normal-form/quad-normal-form.md',\n",
       " 'BookSprint-Demo/MK/caldera-1.ipynb',\n",
       " 'BookSprint-Demo/MK/.ipynb_checkpoints/caldera-1-checkpoint.ipynb',\n",
       " 'BookSprint-Demo/VGG/LDs/booksprinttest_victor.ipynb']"
      ]
     },
     "execution_count": 85,
     "metadata": {},
     "output_type": "execute_result"
    }
   ],
   "source": [
    "input_files1"
   ]
  },
  {
   "cell_type": "markdown",
   "metadata": {},
   "source": [
    "<b>STEP 2</b> Find all images and bibliography files"
   ]
  },
  {
   "cell_type": "code",
   "execution_count": 91,
   "metadata": {},
   "outputs": [],
   "source": [
    "import os\n",
    "\n",
    "source_dir = 'BookSprint-Demo'\n",
    "\n",
    "FILE_EXTENSIONS = ['.png', '.jpg', '.pdf']\n",
    "\n",
    "input_files2 = []\n",
    "for x in list(os.walk(source_dir)):\n",
    "    subdir = x[0]\n",
    "    for f in x[-1]:\n",
    "        filename, file_extension = os.path.splitext(f)\n",
    "        if file_extension in FILE_EXTENSIONS:\n",
    "            input_files2.append(os.path.join(subdir, f))"
   ]
  },
  {
   "cell_type": "code",
   "execution_count": 92,
   "metadata": {},
   "outputs": [
    {
     "data": {
      "text/plain": [
       "['BookSprint-Demo/SW/Hamiltonian bifurcation/ham_bif.pdf',\n",
       " 'BookSprint-Demo/SW/Hamiltonian bifurcation/ham_sn.png',\n",
       " 'BookSprint-Demo/SW/Hamiltonian bifurcation/ham_pitch.pdf',\n",
       " 'BookSprint-Demo/SW/Hamiltonian bifurcation/ham_pitch.png',\n",
       " 'BookSprint-Demo/SW/2 DoF index 1 saddle/fig_2_dof_saddle.png',\n",
       " 'BookSprint-Demo/SW/2 DoF index 1 saddle/2 DoF index 1 saddle.pdf',\n",
       " 'BookSprint-Demo/SW/Intro material/book sprint intro.pdf',\n",
       " 'BookSprint-Demo/SW/3 DoF index 1 saddle/3 DoF index 1 saddle.pdf',\n",
       " 'BookSprint-Demo/SW/Definition of the index of a saddle/saddle index definition.pdf',\n",
       " 'BookSprint-Demo/SW/Morse/om5_120_trim.png',\n",
       " 'BookSprint-Demo/SW/Morse/Krajnak Wiggins Morse action angle.pdf',\n",
       " 'BookSprint-Demo/SW/Morse/phase.png',\n",
       " 'BookSprint-Demo/SW/Morse/om1_120_trim.png',\n",
       " 'BookSprint-Demo/SW/1 DoF saddle/1_DOF_saddle.pdf',\n",
       " 'BookSprint-Demo/SW/1 DoF saddle/fig_1_dof_saddle.png',\n",
       " 'BookSprint-Demo/SW/2 DoF index 2 saddle/index 2 saddle.pdf',\n",
       " 'BookSprint-Demo/SW/2 DoF index 2 saddle/global_DS_2.png',\n",
       " 'BookSprint-Demo/SW/2 DoF index 2 saddle/global_DS_1.png',\n",
       " 'BookSprint-Demo/MA/pot_symm_1D.jpg',\n",
       " 'BookSprint-Demo/MA/LD_tau_5_px_0_delta_bif_H_-1div6.jpg',\n",
       " 'BookSprint-Demo/MA/LD_tau_25_y_-1sqrt2_delta_08_H_1.pdf',\n",
       " 'BookSprint-Demo/MA/LD_tau_10_px_0_delta_08_H_02.pdf',\n",
       " 'BookSprint-Demo/MA/LD_tau_5_px_0_delta_0_H_02.pdf',\n",
       " 'BookSprint-Demo/MA/LD_tau_5_y_-1sqrt2_delta_0_H_02.pdf',\n",
       " 'BookSprint-Demo/MA/surface_potential_a_1_b_0_g_0_d_02_curve.png',\n",
       " 'BookSprint-Demo/MA/ds_symm.pdf',\n",
       " 'BookSprint-Demo/MA/ds_symm.jpg',\n",
       " 'BookSprint-Demo/MA/LD_tau_5_px_0_delta_bif_H_-1div6.pdf',\n",
       " 'BookSprint-Demo/MA/phasePort_asymm_1D_xDoF_delta_02.pdf',\n",
       " 'BookSprint-Demo/MA/pot_symm_1D.pdf',\n",
       " 'BookSprint-Demo/MA/surface_potential_a_1_b_0_g_0_d_02_big.png',\n",
       " 'BookSprint-Demo/MA/LD_p_05_tau_5_y_-1sqrt2_H_02.pdf',\n",
       " 'BookSprint-Demo/MA/phasePort_symm_1D_yDoF.jpg',\n",
       " 'BookSprint-Demo/MA/pes_symm_conts.jpg',\n",
       " 'BookSprint-Demo/MA/pes_symm_conts.pdf',\n",
       " 'BookSprint-Demo/MA/pes_conts_asymm_del_08_nocoup_v2.pdf',\n",
       " 'BookSprint-Demo/MA/phasePort_symm_1D_yDoF.pdf',\n",
       " 'BookSprint-Demo/MA/LDfw_tau_5_H_-02_y_-1sqrt2_alpha_1_delta_0_beta_0.pdf',\n",
       " 'BookSprint-Demo/MA/LD_H_02_beta_02_tau_12_y_-1_div_sqrt2.pdf',\n",
       " 'BookSprint-Demo/MA/LD_tau_10_py_0_delta_bif_H_-1div12.pdf',\n",
       " 'BookSprint-Demo/MA/LD_tau_25_x_075_delta_08_H_1.pdf',\n",
       " 'BookSprint-Demo/MA/surface_potential_a_1_b_0_g_0_d_02_plane_curve.png',\n",
       " 'BookSprint-Demo/MA/LD_tau_5_y_-1sqrt2_delta_bif_H_-1div6.pdf',\n",
       " 'BookSprint-Demo/MA/LD_tau_10_px_0_delta_bif_H_02.pdf',\n",
       " 'BookSprint-Demo/MA/LD_tau_10_y_-1sqrt2_delta_bif_H_02.pdf',\n",
       " 'BookSprint-Demo/MA/LD_tau_5_ConfigSp_symmCase.pdf',\n",
       " 'BookSprint-Demo/MA/pot_symm_1D_yDoF.pdf',\n",
       " 'BookSprint-Demo/MA/LD_tau_5_y_-1sqrt2_delta_bif_H_-1div6.jpg',\n",
       " 'BookSprint-Demo/MA/LD_maniDetect_tau_5_H_-02_y_-1sqrt2_alpha_1_delta_0_beta_0.pdf',\n",
       " 'BookSprint-Demo/MA/LD_tau_5_ConfigSp_symmCase.jpg',\n",
       " 'BookSprint-Demo/MA/LD_tau_5_H_-02_y_-1sqrt2_alpha_1_delta_0_beta_0.pdf',\n",
       " 'BookSprint-Demo/MA/LD_tau_10_py_0_delta_bif_H_-1div12.jpg',\n",
       " 'BookSprint-Demo/MA/phasePort_asymm_1D_xDoF_delta_08_v2.pdf',\n",
       " 'BookSprint-Demo/MA/pes_conts_asymm_bif_nocoup.pdf',\n",
       " 'BookSprint-Demo/MA/pot_asymm_1D_xDoF_delta_bif.pdf',\n",
       " 'BookSprint-Demo/MA/pes_asymm_del_08_nocoup_v2.pdf',\n",
       " 'BookSprint-Demo/MA/LD_tau_5_y_-1sqrt2_delta_02_H_02.pdf',\n",
       " 'BookSprint-Demo/MA/pot_asymm_1D_xDoF_delta_02.pdf',\n",
       " 'BookSprint-Demo/MA/LD_p_05_tau_5_y_-1sqrt2_H_02_cfSp.pdf',\n",
       " 'BookSprint-Demo/MA/pes_asymm_del_08_nocoup_v3.pdf',\n",
       " 'BookSprint-Demo/MA/LD_tau_10_y_-1sqrt2_delta_bif_H_1div12.pdf',\n",
       " 'BookSprint-Demo/MA/phasePort_asymm_1D_xDoF_delta_bif_v2.pdf',\n",
       " 'BookSprint-Demo/MA/pes_symm.pdf',\n",
       " 'BookSprint-Demo/MA/pes_asymm_del_08_nocoup_v2.jpg',\n",
       " 'BookSprint-Demo/MA/pes_conts_asymm_bif_nocoup.jpg',\n",
       " 'BookSprint-Demo/MA/LD_tau_8_H_-02_y_-1sqrt2_alpha_1_delta_0_beta_03.pdf',\n",
       " 'BookSprint-Demo/MA/phasePort_asymm_1D_xDoF_delta_bif.pdf',\n",
       " 'BookSprint-Demo/MA/LD_tau_25_py_0_delta_08_H_1.pdf',\n",
       " 'BookSprint-Demo/MA/pes_asymm_bif_nocoup.pdf',\n",
       " 'BookSprint-Demo/MA/enSurf_LDs_symm.pdf',\n",
       " 'BookSprint-Demo/MA/LD_tau_5_y_-1sqrt2_delta_bif_H_-1div12.jpg',\n",
       " 'BookSprint-Demo/MA/LD_tau_5_y_-1sqrt2_delta_bif_H_-1div12.pdf',\n",
       " 'BookSprint-Demo/MA/LDlobes_tau_6_H_-02_y_-1sqrt2_alpha_1_delta_0_beta_03.pdf',\n",
       " 'BookSprint-Demo/MA/enSurf_LDs_symm.jpg',\n",
       " 'BookSprint-Demo/MA/pes_asymm_bif_nocoup.jpg',\n",
       " 'BookSprint-Demo/MA/LD_H_-02_beta_02_tau_12_y_-1_div_sqrt2.pdf',\n",
       " 'BookSprint-Demo/MA/phasePort_symm_1D_xDoF.pdf',\n",
       " 'BookSprint-Demo/MA/saddle_phaseport.pdf',\n",
       " 'BookSprint-Demo/MA/surface_potential_a_1_b_0_g_0_d_02.png',\n",
       " 'BookSprint-Demo/MA/pes_conts_asymm_del_08_nocoup.pdf',\n",
       " 'BookSprint-Demo/MA/pot_asymm_1D_xDoF_delta_08.pdf',\n",
       " 'BookSprint-Demo/MA/phasePort_symm_1D_xDoF.jpg',\n",
       " 'BookSprint-Demo/MA/VRI_delta_08.pdf',\n",
       " 'BookSprint-Demo/MA/phasePort_asymm_1D_xDoF_delta_08.pdf',\n",
       " 'BookSprint-Demo/MA/LD_tau_5_y_bottSaddle_symmCase.pdf',\n",
       " 'BookSprint-Demo/MA/pot_symm_1D_xDoF.pdf',\n",
       " 'BookSprint-Demo/MA/surface_potential_a_1_b_0_g_0_d_02_plane.png',\n",
       " 'BookSprint-Demo/MA/LD_tau_5_y_bottSaddle_symmCase.jpg',\n",
       " 'BookSprint-Demo/MA/pes_asymm_del_08_nocoup.pdf',\n",
       " 'BookSprint-Demo/MA/VRI_delta_08.jpg',\n",
       " 'BookSprint-Demo/MA/surface_potential_a_1_b_0_g_0_d_02_plane_big.png',\n",
       " 'BookSprint-Demo/MA/LD_tau_10_px_0_delta_bif_H_1div12.pdf',\n",
       " 'BookSprint-Demo/MA/LD_tau_5_y_-1sqrt2_delta_02_H_-01.jpg',\n",
       " 'BookSprint-Demo/MA/plot_similarfigure5_a_1_b_0_g_0_d_02_H_05.png',\n",
       " 'BookSprint-Demo/MA/LD_tau_6_H_-02_y_-1sqrt2_alpha_1_delta_0_beta_03.pdf',\n",
       " 'BookSprint-Demo/MA/LD_tau_10_y_-1sqrt2_delta_08_H_02.pdf',\n",
       " 'BookSprint-Demo/MA/LD_tau_5_y_-1sqrt2_delta_02_H_-02.pdf',\n",
       " 'BookSprint-Demo/MA/LDbw_tau_5_H_-02_y_-1sqrt2_alpha_1_delta_0_beta_0.pdf',\n",
       " 'BookSprint-Demo/MA/LD_tau_5_y_-1sqrt2_delta_02_H_-02.jpg',\n",
       " 'BookSprint-Demo/MA/pes_symm_p001.png',\n",
       " 'BookSprint-Demo/MA/LD_tau_5_y_-1sqrt2_delta_02_H_-01.pdf',\n",
       " 'BookSprint-Demo/RGM/LDT1m1_R1P1.png',\n",
       " 'BookSprint-Demo/RGM/Draft.pdf',\n",
       " 'BookSprint-Demo/RGM/Figures/LDSecondSlice.png',\n",
       " 'BookSprint-Demo/RGM/Figures/LDSecondSection.png',\n",
       " 'BookSprint-Demo/RGM/Figures/LDFirst.png',\n",
       " 'BookSprint-Demo/RGM/Figures/SB_model.png',\n",
       " 'BookSprint-Demo/RGM/Figures/TransitT.png',\n",
       " 'BookSprint-Demo/RGM/Figures/LDSecondProjection.png',\n",
       " 'BookSprint-Demo/RGM/Figures/PODS_DSshape.png',\n",
       " 'BookSprint-Demo/RGM/Figures/PES.png',\n",
       " 'BookSprint-Demo/F/orbits_CC_CA.jpg',\n",
       " 'BookSprint-Demo/F/V_c.jpg',\n",
       " 'BookSprint-Demo/VK/test/booksprint_test.pdf',\n",
       " 'BookSprint-Demo/VK/test/figure1.jpg',\n",
       " 'BookSprint-Demo/VK/Roamiso/figure8a.jpg',\n",
       " 'BookSprint-Demo/VK/Roamiso/figure8b.jpg',\n",
       " 'BookSprint-Demo/VK/Roamiso/figure5a.jpg',\n",
       " 'BookSprint-Demo/VK/Roamiso/figure5b.jpg',\n",
       " 'BookSprint-Demo/VK/Roamiso/roamiso.pdf',\n",
       " 'BookSprint-Demo/VK/Roamiso/figure6b.jpg',\n",
       " 'BookSprint-Demo/VK/Roamiso/figure6a.jpg',\n",
       " 'BookSprint-Demo/VK/Roamiso/figure3.jpg',\n",
       " 'BookSprint-Demo/VK/Roamiso/figure2.jpg',\n",
       " 'BookSprint-Demo/VK/Roamiso/figure1.jpg',\n",
       " 'BookSprint-Demo/VK/Roamiso/figure4.jpg',\n",
       " 'BookSprint-Demo/VK/Roamiso/figure7.jpg',\n",
       " 'BookSprint-Demo/VK/LD manif/ldIth0t8.png',\n",
       " 'BookSprint-Demo/VK/LD manif/roamld.pdf',\n",
       " 'BookSprint-Demo/VK/LD manif/ldOr36t20.png',\n",
       " 'BookSprint-Demo/VK/LD manif/ldOth0t8.png',\n",
       " 'BookSprint-Demo/VK/LD manif/ldIr36t8.png',\n",
       " 'BookSprint-Demo/VK/LD manif/ldIr36t6.png',\n",
       " 'BookSprint-Demo/VK/LD manif/figure3.jpg',\n",
       " 'BookSprint-Demo/VK/LD manif/manif_intersection400_labels.png',\n",
       " 'BookSprint-Demo/VK/LD manif/figure2.jpg',\n",
       " 'BookSprint-Demo/VK/LD manif/figure1.jpg',\n",
       " 'BookSprint-Demo/VK/LD manif/ldOr36t10.png',\n",
       " 'BookSprint-Demo/VK/LD manif/figure4.png',\n",
       " 'BookSprint-Demo/VK/Roammass/figure3d.jpg',\n",
       " 'BookSprint-Demo/VK/Roammass/figure3c.jpg',\n",
       " 'BookSprint-Demo/VK/Roammass/figure3b.jpg',\n",
       " 'BookSprint-Demo/VK/Roammass/figure3a.jpg',\n",
       " 'BookSprint-Demo/VK/Roammass/figure8a.jpg',\n",
       " 'BookSprint-Demo/VK/Roammass/figure4b.jpg',\n",
       " 'BookSprint-Demo/VK/Roammass/figure4c.jpg',\n",
       " 'BookSprint-Demo/VK/Roammass/figure8b.jpg',\n",
       " 'BookSprint-Demo/VK/Roammass/figure4a.jpg',\n",
       " 'BookSprint-Demo/VK/Roammass/figure5d.jpg',\n",
       " 'BookSprint-Demo/VK/Roammass/figure8c.jpg',\n",
       " 'BookSprint-Demo/VK/Roammass/figure9c.jpg',\n",
       " 'BookSprint-Demo/VK/Roammass/figure4d.jpg',\n",
       " 'BookSprint-Demo/VK/Roammass/figure5a.jpg',\n",
       " 'BookSprint-Demo/VK/Roammass/figure9b.jpg',\n",
       " 'BookSprint-Demo/VK/Roammass/figure8d.jpg',\n",
       " 'BookSprint-Demo/VK/Roammass/figure5c.jpg',\n",
       " 'BookSprint-Demo/VK/Roammass/figure5b.jpg',\n",
       " 'BookSprint-Demo/VK/Roammass/figure9a.jpg',\n",
       " 'BookSprint-Demo/VK/Roammass/figure6c.jpg',\n",
       " 'BookSprint-Demo/VK/Roammass/figure6b.jpg',\n",
       " 'BookSprint-Demo/VK/Roammass/figure7d.jpg',\n",
       " 'BookSprint-Demo/VK/Roammass/figure6a.jpg',\n",
       " 'BookSprint-Demo/VK/Roammass/figure7a.jpg',\n",
       " 'BookSprint-Demo/VK/Roammass/figure6d.jpg',\n",
       " 'BookSprint-Demo/VK/Roammass/figure7b.jpg',\n",
       " 'BookSprint-Demo/VK/Roammass/figure7c.jpg',\n",
       " 'BookSprint-Demo/VK/Roammass/figure1d.jpg',\n",
       " 'BookSprint-Demo/VK/Roammass/figure2.jpg',\n",
       " 'BookSprint-Demo/VK/Roammass/roamm.pdf',\n",
       " 'BookSprint-Demo/VK/Roammass/figure1b.jpg',\n",
       " 'BookSprint-Demo/VK/Roammass/figure1c.jpg',\n",
       " 'BookSprint-Demo/VK/Roammass/figure4.jpg',\n",
       " 'BookSprint-Demo/VK/Roammass/figure1a.jpg',\n",
       " 'BookSprint-Demo/VK/Morse/om5_120_trim.png',\n",
       " 'BookSprint-Demo/VK/Morse/phase.png',\n",
       " 'BookSprint-Demo/VK/Morse/Morse.pdf',\n",
       " 'BookSprint-Demo/VK/Morse/om1_120_trim.png',\n",
       " 'BookSprint-Demo/VK/Roaming/sos_disA_2_5.png',\n",
       " 'BookSprint-Demo/VK/Roaming/rot2_5.jpg',\n",
       " 'BookSprint-Demo/VK/Roaming/disO_sos1.png',\n",
       " 'BookSprint-Demo/VK/Roaming/bifurcationDiagramEnergyResidue.pdf',\n",
       " 'BookSprint-Demo/VK/Roaming/potentialChesnavichPartVcoup.pdf',\n",
       " 'BookSprint-Demo/VK/Roaming/E25.jpg',\n",
       " 'BookSprint-Demo/VK/Roaming/disO_sos2.png',\n",
       " 'BookSprint-Demo/VK/Roaming/rot2.jpg',\n",
       " 'BookSprint-Demo/VK/Roaming/rot_number2_5.jpg',\n",
       " 'BookSprint-Demo/VK/Roaming/ch4contoura1.jpg',\n",
       " 'BookSprint-Demo/VK/Roaming/rot1.jpg',\n",
       " 'BookSprint-Demo/VK/Roaming/manif5.jpg',\n",
       " 'BookSprint-Demo/VK/Roaming/slice25.jpg',\n",
       " 'BookSprint-Demo/VK/Roaming/rot5.jpg',\n",
       " 'BookSprint-Demo/VK/Roaming/potentialChesnavichPartVCH.pdf',\n",
       " 'BookSprint-Demo/VK/Roaming/ch4contoura5.jpg',\n",
       " 'BookSprint-Demo/VK/Roaming/slice2.jpg',\n",
       " 'BookSprint-Demo/VK/Roaming/rot_number1.jpg',\n",
       " 'BookSprint-Demo/VK/Roaming/BifEnergyAction_abio.png',\n",
       " 'BookSprint-Demo/VK/Roaming/rot_number2.jpg',\n",
       " 'BookSprint-Demo/VK/Roaming/disI_ps_res_2_5.jpg',\n",
       " 'BookSprint-Demo/VK/Roaming/roam.pdf',\n",
       " 'BookSprint-Demo/VK/Roaming/po2.png',\n",
       " 'BookSprint-Demo/VK/Roaming/rot_number5.jpg',\n",
       " 'BookSprint-Demo/VK/Roaming/rlevelsnew0.jpg',\n",
       " 'BookSprint-Demo/VK/Roaming/ConleyContour.jpg',\n",
       " 'BookSprint-Demo/VK/Roaming/rlevelspolar0.jpg',\n",
       " 'BookSprint-Demo/VK/Roaming/longrangepot.pdf',\n",
       " 'BookSprint-Demo/VK/Roaming/sos_disA_2.png',\n",
       " 'BookSprint-Demo/VK/Roaming/disI_ps_res_5.jpg',\n",
       " 'BookSprint-Demo/VK/Roaming/sos_disA_1.png',\n",
       " 'BookSprint-Demo/VK/Roaming/disI_ps_res_1.jpg',\n",
       " 'BookSprint-Demo/VK/Roaming/disI_ps_res_2.jpg',\n",
       " 'BookSprint-Demo/VK/Roaming/BifEnergyRes_abio.png',\n",
       " 'BookSprint-Demo/SN/workflow-demo/paper.pdf',\n",
       " 'BookSprint-Demo/SN/workflow-demo/allinone_tpcd.pdf',\n",
       " 'BookSprint-Demo/SN/workflow-demo/allinone_coupled.pdf',\n",
       " 'BookSprint-Demo/SN/quad-normal-form/quad-normal-form.pdf',\n",
       " 'BookSprint-Demo/MK/caldera.pdf',\n",
       " 'BookSprint-Demo/MK/posld-combo.png',\n",
       " 'BookSprint-Demo/MK/equi-combo.png',\n",
       " 'BookSprint-Demo/VGG/HamSN/fig12b.png',\n",
       " 'BookSprint-Demo/VGG/HamSN/HanSaddleNode.pdf',\n",
       " 'BookSprint-Demo/VGG/HamSN/fig12c.png',\n",
       " 'BookSprint-Demo/VGG/HamSN/fig12a.png',\n",
       " 'BookSprint-Demo/VGG/HamSN/fig5.png',\n",
       " 'BookSprint-Demo/VGG/HamSN/fig12d.png',\n",
       " 'BookSprint-Demo/VGG/HamSN/fig1.png',\n",
       " 'BookSprint-Demo/VGG/HamSN/fig13a.png',\n",
       " 'BookSprint-Demo/VGG/HamSN/fig11.png',\n",
       " 'BookSprint-Demo/VGG/HamSN/fig13b.png',\n",
       " 'BookSprint-Demo/VGG/HamSN/fig6e.png',\n",
       " 'BookSprint-Demo/VGG/HamSN/fig7a.png',\n",
       " 'BookSprint-Demo/VGG/HamSN/fig6d.png',\n",
       " 'BookSprint-Demo/VGG/HamSN/fig7b.png',\n",
       " 'BookSprint-Demo/VGG/HamSN/fig6f.png',\n",
       " 'BookSprint-Demo/VGG/HamSN/fig7c.png',\n",
       " 'BookSprint-Demo/VGG/HamSN/fig6c.png',\n",
       " 'BookSprint-Demo/VGG/HamSN/fig6b.png',\n",
       " 'BookSprint-Demo/VGG/HamSN/fig7d.png',\n",
       " 'BookSprint-Demo/VGG/HamSN/fig6a.png',\n",
       " 'BookSprint-Demo/VGG/HamSN/fig9c.png',\n",
       " 'BookSprint-Demo/VGG/HamSN/fig9b.png',\n",
       " 'BookSprint-Demo/VGG/HamSN/fig9a.png',\n",
       " 'BookSprint-Demo/VGG/HamSN/fig4b.png',\n",
       " 'BookSprint-Demo/VGG/HamSN/fig8a.png',\n",
       " 'BookSprint-Demo/VGG/HamSN/fig9d.png',\n",
       " 'BookSprint-Demo/VGG/HamSN/fig4c.png',\n",
       " 'BookSprint-Demo/VGG/HamSN/fig4a.png',\n",
       " 'BookSprint-Demo/VGG/HamSN/fig8b.png',\n",
       " 'BookSprint-Demo/VGG/HamSN/fig10c.png',\n",
       " 'BookSprint-Demo/VGG/HamSN/fig3b.png',\n",
       " 'BookSprint-Demo/VGG/HamSN/fig2f.png',\n",
       " 'BookSprint-Demo/VGG/HamSN/fig10b.png',\n",
       " 'BookSprint-Demo/VGG/HamSN/fig2d.png',\n",
       " 'BookSprint-Demo/VGG/HamSN/fig2e.png',\n",
       " 'BookSprint-Demo/VGG/HamSN/fig3a.png',\n",
       " 'BookSprint-Demo/VGG/HamSN/fig10a.png',\n",
       " 'BookSprint-Demo/VGG/HamSN/fig2a.png',\n",
       " 'BookSprint-Demo/VGG/HamSN/fig10d.png',\n",
       " 'BookSprint-Demo/VGG/HamSN/fig2b.png',\n",
       " 'BookSprint-Demo/VGG/HamSN/fig2c.png',\n",
       " 'BookSprint-Demo/VGG/LDs/Mani_Henon_tau_50_x_0_E_1div12.png',\n",
       " 'BookSprint-Demo/VGG/LDs/LDs_Henon_tau_10_y_0_E_1div3.png',\n",
       " 'BookSprint-Demo/VGG/LDs/duffing_maniDetect.png',\n",
       " 'BookSprint-Demo/VGG/LDs/duffing_maniDetect_pert_01.png',\n",
       " 'BookSprint-Demo/VGG/LDs/LD_p_05_fishPot_tau_8.png',\n",
       " 'BookSprint-Demo/VGG/LDs/detectMani_Saddle_tau_10.png',\n",
       " 'BookSprint-Demo/VGG/LDs/LDfixTime_p_05_fishPot_tau_3.png',\n",
       " 'BookSprint-Demo/VGG/LDs/manifolds_fishPot_tau_8.png',\n",
       " 'BookSprint-Demo/VGG/LDs/henonheiles_pot.png',\n",
       " 'BookSprint-Demo/VGG/LDs/LDs_Henon_tau_50_x_0_E_1div12.png',\n",
       " 'BookSprint-Demo/VGG/LDs/hen_conts.png',\n",
       " 'BookSprint-Demo/VGG/LDs/Mani_Henon_tau_50_x_0_E_1div6.png',\n",
       " 'BookSprint-Demo/VGG/LDs/duffing_stbl_tau_10_pert_01.png',\n",
       " 'BookSprint-Demo/VGG/LDs/Mani_Henon_tau_10_x_0_E_1div3.png',\n",
       " 'BookSprint-Demo/VGG/LDs/duffing_tau_10.png',\n",
       " 'BookSprint-Demo/VGG/LDs/Mani_Henon_tau_10_y_0_E_1div3.png',\n",
       " 'BookSprint-Demo/VGG/LDs/duffing_tau_2.png',\n",
       " 'BookSprint-Demo/VGG/LDs/duffing_unstbl_tau_10_pert_01.png',\n",
       " 'BookSprint-Demo/VGG/LDs/LagDesc_2.pdf',\n",
       " 'BookSprint-Demo/VGG/LDs/duffing_tau_5.png',\n",
       " 'BookSprint-Demo/VGG/LDs/LD_p_05_Saddle_tau_10.png',\n",
       " 'BookSprint-Demo/VGG/LDs/duffing_tau_10_pert_01.png',\n",
       " 'BookSprint-Demo/VGG/LDs/LDs_Henon_tau_10_x_0_E_1div3.png',\n",
       " 'BookSprint-Demo/VGG/LDs/LDs_Henon_tau_50_x_0_E_1div6.png',\n",
       " 'BookSprint-Demo/VGG/LDs/manifolds_Saddle_tau_10.png']"
      ]
     },
     "execution_count": 92,
     "metadata": {},
     "output_type": "execute_result"
    }
   ],
   "source": [
    "input_files2"
   ]
  },
  {
   "cell_type": "markdown",
   "metadata": {},
   "source": [
    "Find all `.bib` files for the Bibliography"
   ]
  },
  {
   "cell_type": "code",
   "execution_count": 89,
   "metadata": {},
   "outputs": [],
   "source": [
    "import os\n",
    "\n",
    "FILE_EXTENSIONS = ['.bib']\n",
    "\n",
    "input_files3 = []\n",
    "for x in list(os.walk(source_dir)):\n",
    "    subdir = x[0]\n",
    "    for f in x[-1]:\n",
    "        filename, file_extension = os.path.splitext(f)\n",
    "        if file_extension in FILE_EXTENSIONS:\n",
    "            input_files3.append(os.path.join(subdir, f))"
   ]
  },
  {
   "cell_type": "code",
   "execution_count": 90,
   "metadata": {},
   "outputs": [
    {
     "data": {
      "text/plain": [
       "['BookSprint-Demo/SW/Intro material/book_sprint_bib1.bib',\n",
       " 'BookSprint-Demo/SW/Morse/action_angle.bib',\n",
       " 'BookSprint-Demo/SW/2 DoF index 2 saddle/reaction_dynamics.bib',\n",
       " 'BookSprint-Demo/SW/2 DoF index 2 saddle/rrkm_1.bib',\n",
       " 'BookSprint-Demo/SW/2 DoF index 2 saddle/roaming_v8.bib',\n",
       " 'BookSprint-Demo/SW/2 DoF index 2 saddle/vri_1.bib',\n",
       " 'BookSprint-Demo/SW/2 DoF index 2 saddle/Ham_dyn.bib',\n",
       " 'BookSprint-Demo/MA/SNreac.bib',\n",
       " 'BookSprint-Demo/RGM/myBib.bib',\n",
       " 'BookSprint-Demo/VK/test/allrefs.bib',\n",
       " 'BookSprint-Demo/VK/Roamiso/allrefs.bib',\n",
       " 'BookSprint-Demo/VK/LD manif/allrefs.bib',\n",
       " 'BookSprint-Demo/VK/Roammass/roamm.bib',\n",
       " 'BookSprint-Demo/VK/Morse/Morse.bib',\n",
       " 'BookSprint-Demo/VK/Roaming/refs.bib',\n",
       " 'BookSprint-Demo/SN/workflow-demo/paper.bib',\n",
       " 'BookSprint-Demo/MK/caldera2c.bib',\n",
       " 'BookSprint-Demo/VGG/HamSN/HamSN.bib',\n",
       " 'BookSprint-Demo/VGG/LDs/LDs.bib']"
      ]
     },
     "execution_count": 90,
     "metadata": {},
     "output_type": "execute_result"
    }
   ],
   "source": [
    "input_files3"
   ]
  },
  {
   "cell_type": "markdown",
   "metadata": {},
   "source": [
    "<a id='edit_phase'></a>\n",
    "<b>STEP 3</b> Edit all Notebooks and Markdown files to match HTML/`jekyll` syntax and relocate for book compilation."
   ]
  },
  {
   "cell_type": "markdown",
   "metadata": {},
   "source": [
    "<span style=\"color:blue\">Main tasks</span>\n",
    "\n",
    "For figures, tables, sections and subsections.\n",
    "\n",
    "* Swap Markdown/LaTeX Citation syntax in `.md`/`.ipynb` files with `jekyll-scholar` syntax,\n",
    "* Swap Markdown/LaTeX Label/Reference syntax in `.md`/`.ipynb` files with `Markdown` syntax,\n",
    "* Swap Markdown/LaTeX Caption syntax in `.md`/`.ipynb` files with `HTML` syntax to allow centered captions with italic formatting, \n",
    "* Add numbered cross references and labels in captions"
   ]
  },
  {
   "cell_type": "code",
   "execution_count": null,
   "metadata": {},
   "outputs": [],
   "source": []
  },
  {
   "cell_type": "markdown",
   "metadata": {},
   "source": [
    "<span style='color:red'><b>NOTE</b></span> For further details regarding the syntax and the tasks performed alongside with their scripts look [this](#syntax_matching) Section. "
   ]
  },
  {
   "cell_type": "markdown",
   "metadata": {},
   "source": [
    "<b>STEP 4</b> Convert all `.pdf` images to `.png`, if present. Then relocate all image files for compilation.\n",
    "\n",
    "By default, HTML doesn't allow embedding of `.pdf` image files. Neither does Jupyter.\n",
    "Here, we use automate the conversion of image files using ... <span style='color:red'>write me</span>"
   ]
  },
  {
   "cell_type": "code",
   "execution_count": null,
   "metadata": {},
   "outputs": [],
   "source": []
  },
  {
   "cell_type": "markdown",
   "metadata": {},
   "source": [
    "<span style='color:red'><b>NOTE</b></span> If you convert `.pdf` images to a new format, you will have to change the path name to the figure with the new format in your Markdown file or Jupyter notebook."
   ]
  },
  {
   "cell_type": "markdown",
   "metadata": {},
   "source": [
    "<b>STEP 5</b> Move all `.bib` files too."
   ]
  },
  {
   "cell_type": "code",
   "execution_count": 101,
   "metadata": {},
   "outputs": [],
   "source": [
    "target_dir0 = 'champsbook'\n",
    "target_dir1 = os.path.join(target_dir0, \"_bibliography\")"
   ]
  },
  {
   "cell_type": "code",
   "execution_count": 102,
   "metadata": {},
   "outputs": [],
   "source": [
    "from shutil import copyfile\n",
    "\n",
    "for f in input_files3:\n",
    "    author = f.split('/')[1]\n",
    "    filename = f.split('/')[-1]\n",
    "    ###########################\n",
    "    source = f\n",
    "    target = os.path.join(target_dir1, filename)\n",
    "    ###########################\n",
    "    copyfile(f, target)"
   ]
  },
  {
   "cell_type": "markdown",
   "metadata": {},
   "source": [
    "Verify files in directory"
   ]
  },
  {
   "cell_type": "code",
   "execution_count": 104,
   "metadata": {},
   "outputs": [
    {
     "name": "stdout",
     "output_type": "stream",
     "text": [
      "HamSN.bib             allrefs.bib           references.bib\r\n",
      "Ham_dyn.bib           book_sprint_bib1.bib  refs.bib\r\n",
      "LDs.bib               caldera2c.bib         roaming_v8.bib\r\n",
      "Morse.bib             myBib.bib             roamm.bib\r\n",
      "SNreac.bib            paper.bib             rrkm_1.bib\r\n",
      "action_angle.bib      reaction_dynamics.bib vri_1.bib\r\n"
     ]
    }
   ],
   "source": [
    "!ls $target_dir1 "
   ]
  },
  {
   "cell_type": "markdown",
   "metadata": {},
   "source": [
    "<span style='color:red'><b>NOTE</b></span> About `.bib` syntax .... "
   ]
  },
  {
   "cell_type": "code",
   "execution_count": null,
   "metadata": {},
   "outputs": [],
   "source": []
  },
  {
   "cell_type": "code",
   "execution_count": null,
   "metadata": {},
   "outputs": [],
   "source": []
  },
  {
   "cell_type": "code",
   "execution_count": null,
   "metadata": {},
   "outputs": [],
   "source": []
  },
  {
   "cell_type": "code",
   "execution_count": null,
   "metadata": {},
   "outputs": [],
   "source": []
  },
  {
   "cell_type": "markdown",
   "metadata": {},
   "source": [
    "Define folder structure per author"
   ]
  },
  {
   "cell_type": "code",
   "execution_count": 15,
   "metadata": {},
   "outputs": [],
   "source": [
    "folder_structure = {\n",
    "    'SW' : '01', \n",
    "    'MA' : '02',\n",
    "    'RGM': '03',\n",
    "    'VK' : '04',\n",
    "    'SN' : '05',\n",
    "    'MK' : '06',\n",
    "    'VGG': '07',\n",
    "    'F'  : '08'\n",
    "}"
   ]
  },
  {
   "cell_type": "markdown",
   "metadata": {},
   "source": [
    "Make dirs and subdirs "
   ]
  },
  {
   "cell_type": "code",
   "execution_count": 16,
   "metadata": {},
   "outputs": [
    {
     "name": "stdout",
     "output_type": "stream",
     "text": [
      "The directory ' champsbook/content/01/images ' already exists!\n",
      "The directory ' champsbook/content/02/images ' already exists!\n",
      "The directory ' champsbook/content/03/images ' already exists!\n",
      "The directory ' champsbook/content/04/images ' already exists!\n",
      "The directory ' champsbook/content/05/images ' already exists!\n",
      "The directory ' champsbook/content/06/images ' already exists!\n",
      "The directory ' champsbook/content/07/images ' already exists!\n",
      "The directory ' champsbook/content/08/images ' already exists!\n"
     ]
    }
   ],
   "source": [
    "for author in folder_structure.keys():\n",
    "    author_dir1 = os.path.join(target_dir1, folder_structure[author],\"images\")\n",
    "\n",
    "    for path in [author_dir1]:\n",
    "        if not os.path.isdir(path):\n",
    "            try:\n",
    "                os.makedirs(path)\n",
    "            except OSError:\n",
    "                print(\"Creation of the directory %s failed\" % path)\n",
    "            else:\n",
    "                print(\"Successfully created the directory %s\" % path)\n",
    "        else:\n",
    "            print(\"The directory ' %s ' already exists!\" % path)"
   ]
  },
  {
   "cell_type": "markdown",
   "metadata": {},
   "source": [
    "Copy all input files into author folders "
   ]
  },
  {
   "cell_type": "code",
   "execution_count": 17,
   "metadata": {},
   "outputs": [],
   "source": [
    "from shutil import copyfile\n",
    "\n",
    "for f in input_files1:\n",
    "    author = f.split('/')[1]\n",
    "    filename = f.split('/')[-1]\n",
    "    ###########################\n",
    "    source = f\n",
    "    target = os.path.join(target_dir1, folder_structure[author], filename)\n",
    "    ###########################\n",
    "    copyfile(f, target)"
   ]
  },
  {
   "cell_type": "code",
   "execution_count": 18,
   "metadata": {},
   "outputs": [],
   "source": [
    "from shutil import copyfile\n",
    "\n",
    "for f in input_files2:\n",
    "    author = f.split('/')[1]\n",
    "    filename = f.split('/')[-1]\n",
    "    ###########################\n",
    "    source = f\n",
    "    target = os.path.join(target_dir2, filename)\n",
    "    ###########################\n",
    "    copyfile(f, target)"
   ]
  },
  {
   "cell_type": "markdown",
   "metadata": {},
   "source": [
    "Verify that input files were correctly copied to `content`"
   ]
  },
  {
   "cell_type": "code",
   "execution_count": 19,
   "metadata": {},
   "outputs": [
    {
     "name": "stdout",
     "output_type": "stream",
     "text": [
      "booksprinttest_makrina.ipynb phasePort_symm_1D_xDoF.pdf\r\n",
      "\u001b[1m\u001b[34mimages\u001b[m\u001b[m                       potential.jpg\r\n"
     ]
    }
   ],
   "source": [
    "!ls $target_dir1/02"
   ]
  },
  {
   "cell_type": "code",
   "execution_count": 17,
   "metadata": {},
   "outputs": [
    {
     "name": "stdout",
     "output_type": "stream",
     "text": [
      "Ham_dyn.bib           caldera2c.bib         roaming_v8.bib\r\n",
      "LDs.bib               myBib.bib             rrkm_1.bib\r\n",
      "SNreac.bib            paper.bib             vri_1.bib\r\n",
      "allrefs.bib           reaction_dynamics.bib\r\n",
      "book_sprint_bib1.bib  references.bib\r\n"
     ]
    }
   ],
   "source": [
    "!ls $target_dir2"
   ]
  },
  {
   "cell_type": "markdown",
   "metadata": {},
   "source": [
    "## Edit Table of Contents"
   ]
  },
  {
   "cell_type": "markdown",
   "metadata": {},
   "source": [
    "Edit  `_data/toc.yml` specifying the relative paths in for files (`.ipynb`,`.md`) to appear as (sub)sections in book. \n",
    "\n",
    "See below."
   ]
  },
  {
   "cell_type": "code",
   "execution_count": 54,
   "metadata": {},
   "outputs": [
    {
     "name": "stdout",
     "output_type": "stream",
     "text": [
      "Overwriting champsbook/_data/toc.yml\n"
     ]
    }
   ],
   "source": [
    "%%writefile champsbook/_data/toc.yml\n",
    "# This file contains the order and numbering for all sections in the book.\n",
    "#\n",
    "# Each entry has the following schema:\n",
    "#\n",
    "# - title: mytitle   # Title of chapter or section\n",
    "#   url: /myurl  # URL of section relative to the /content/ folder.\n",
    "#   sections:  # Contains a list of more entries that make up the chapter's sections\n",
    "#   not_numbered: true  # if the section shouldn't have a number in the sidebar\n",
    "#     (e.g. Introduction or appendices)\n",
    "#   expand_sections: true  # if you'd like the sections of this chapter to always\n",
    "#     be expanded in the sidebar.\n",
    "#   external: true  # Whether the URL is an external link or points to content in the book\n",
    "#\n",
    "# Below are some special values that trigger specific behavior:\n",
    "# - search: true  # Will provide a link to a search page\n",
    "# - divider: true  # Will insert a divider in the sidebar\n",
    "# - header: My Header  # Will insert a header with no link in the sidebar\n",
    "\n",
    "\n",
    "- url: /01/ham_bif_html-captions\n",
    "  title: Dynamical Systems Concepts\n",
    "  author: Stephen Wiggins  \n",
    "    \n",
    "- url: /02/booksprinttest_makrina_html-captions\n",
    "  title: Makrina chapter\n",
    "  author: Makrina Agaoglou\n",
    "    \n",
    "- url: /03/Draft_captions-html\n",
    "  title: Rafa chapter\n",
    "  author: Rafael Garcia-Meseguer\n",
    "\n",
    "- url: /04/test\n",
    "  title: Vladi chapter\n",
    "  author: Vladimir Krajnak\n",
    "\n",
    "- url: /05/paper_new\n",
    "  title: Naik paper\n",
    "  author: S. Naik \n",
    "\n",
    "- url: /06/caldera-1_new3\n",
    "  title: Dynamical Matching in a Caldera Potential energy surface\n",
    "  author: Matthaios Katsanikas\n",
    "\n",
    "- url: /test_page\n",
    "  title: Writing LaTeX-like in Jupyter\n",
    "  author: Broncio Aguilar-Sanjuan\n",
    "        \n",
    "- url: /contributing\n",
    "  not_numbered: true\n",
    "    \n",
    "- url: https://github.com/broncio123/champs-booksprint-planning\n",
    "  title: GitHub repository\n",
    "  external: true\n",
    "  not_numbered: true"
   ]
  },
  {
   "cell_type": "markdown",
   "metadata": {},
   "source": [
    "<a id='config'></a>\n",
    "## Edit Configuration "
   ]
  },
  {
   "cell_type": "markdown",
   "metadata": {},
   "source": [
    "* Turned on equation numbering. See under `#Maths settings`"
   ]
  },
  {
   "cell_type": "code",
   "execution_count": 39,
   "metadata": {},
   "outputs": [
    {
     "name": "stdout",
     "output_type": "stream",
     "text": [
      "Overwriting champsbook/_config.yml\n"
     ]
    }
   ],
   "source": [
    "%%writefile $target_dir0/_config.yml\n",
    "# Welcome to Jekyll!\n",
    "#\n",
    "# This config file is meant for settings that affect your whole blog, values\n",
    "# which you are expected to set up once and rarely edit after that. If you find\n",
    "# yourself editing this file very often, consider using Jekyll's data files\n",
    "# feature for the data you need to update frequently.\n",
    "#\n",
    "# For technical reasons, this file is *NOT* reloaded automatically when you use\n",
    "# 'bundle exec jekyll serve'. If you change this file, please restart the server process.\n",
    "\n",
    "# Site settings\n",
    "# These are used to personalize your new site. If you look in the HTML files,\n",
    "# you will see them accessed via {{ site.title }}, {{ site.email }}, and so on.\n",
    "# You can create any custom variable you would like, and they will be accessible\n",
    "# in the templates via {{ site.myvariable }}.\n",
    "\n",
    "#######################################################################################\n",
    "# Jekyll site settings\n",
    "title: CHAMPS Dynamical Systems Book\n",
    "author: The CHAMPS group\n",
    "email: s.wiggins@bristol.ac.uk\n",
    "description: >- # this means to ignore newlines until \"baseurl:\"\n",
    "  This book was built with Jupyter Books.\n",
    "\n",
    "baseurl: \"\" # the subpath of your site, e.g. /blog. If there is no subpath for your site, use an empty string \"\"\n",
    "url: \"https://jupyterbook.org\" # the base hostname & protocol for your site, e.g. http://example.com\n",
    "\n",
    "\n",
    "#######################################################################################\n",
    "# Jupyter Book settings\n",
    "\n",
    "# Main page settings\n",
    "footer_text               : This page was created by <a href=\"https://github.com/jupyter/jupyter-book/graphs/contributors\">The Jupyter Book Community</a>\n",
    "\n",
    "# Sidebar settings\n",
    "show_sidebar              : true  # Show the sidebar. Only set to false if your only wish to host a single page.\n",
    "collapse_inactive_chapters: true  # Whether to collapse the inactive chapters in the sidebar\n",
    "collapse_inactive_sections: true  # Whether to collapse the sub-sections within a non-active section in the sidebar\n",
    "textbook_logo             : images/logo/champs_logo.jpg  # A logo to be displayed at the top of your textbook sidebar. Should be square\n",
    "textbook_logo_link        : https://champsproject.com  # A link for the logo.\n",
    "sidebar_footer_text       : 'Powered by <a href=\"https://jupyterbook.org\">Jupyter Book</a>'\n",
    "number_toc_chapters       : true  # Whether to add numbers to chapterse in your Table of Contents. If true, you can control this at the Chapter level in _data/toc.yml\n",
    "\n",
    "# Search settings\n",
    "search_max_words_in_content : 100  # In the search function, use at most this many words (too many words will make search slow)\n",
    "\n",
    "# Controlling page information\n",
    "page_titles                    : infer  # Either `None`, `infer`, or `toc`\n",
    "page_authors                   : None  # Either `None` or `infer`\n",
    "filename_title_split_character : '_'  # If inferring titles based on filename, splt on this character.\n",
    "\n",
    "# Math settings\n",
    "number_equations               : true  # Whether to automatically number all block equations with MathJax\n",
    "\n",
    "#######################################################################################\n",
    "# Interact link settings\n",
    "\n",
    "# General interact settings\n",
    "use_jupyterlab                   : false  # If 'true', interact links will use JupyterLab as the interface\n",
    "\n",
    "# Jupyterhub link settings\n",
    "use_jupyterhub_button            : false  # If 'true', display a button that will direct users to a JupyterHub (that you provide)\n",
    "jupyterhub_url                   : \"\"  # The URL for your JupyterHub. If no URL, use \"\"\n",
    "jupyterhub_interact_text         : \"Interact\"  # The text that interact buttons will contain.\n",
    "\n",
    "# Binder link settings\n",
    "use_binder_button                : true  # If 'true', add a binder button for interactive links\n",
    "binderhub_url                    : \"https://mybinder.org\"  # The URL for your BinderHub. If no URL, use \"\"\n",
    "binder_repo_base                 : \"https://github.com/\"  # The site on which the textbook repository is hosted\n",
    "binder_repo_org                  : \"jupyter\"  # The username or organization that owns this repository\n",
    "binder_repo_name                 : \"jupyter-book\"  # The name of the repository on the web\n",
    "binder_repo_branch               : \"gh-pages\"  # The branch on which your textbook is hosted.\n",
    "binderhub_interact_text          : \"Interact\"  # The text that interact buttons will contain.\n",
    "\n",
    "# Thebelab settings\n",
    "use_thebelab_button              : true  # If 'true', display a button to allow in-page running code cells with Thebelab\n",
    "thebelab_button_text             : \"Thebelab\"  # The text to display inside the Thebelab initialization button\n",
    "codemirror_theme                 : \"abcdef\"  # Theme for codemirror cells, for options see https://codemirror.net/doc/manual.html#config\n",
    "\n",
    "# nbinteract settings\n",
    "use_show_widgets_button              : true  # If 'true', display a button to allow in-page running code cells with nbinteract\n",
    "\n",
    "# Download settings\n",
    "use_download_button              : true  # If 'true', display a button to download a zip file for the notebook\n",
    "download_button_text             : \"Download\" # The text that download buttons will contain\n",
    "download_page_header             : \"Made with Jupyter Book\" # A header that will be displayed at the top of and PDF-printed page\n",
    "\n",
    "#######################################################################################\n",
    "# Jupyter book extensions and additional features\n",
    "\n",
    "# Bibliography and citation settings. See https://github.com/inukshuk/jekyll-scholar#configuration for options\n",
    "scholar:\n",
    "  style: apa\n",
    "\n",
    "#######################################################################################\n",
    "# Option to add a Goggle analytics tracking code\n",
    "\n",
    "# Navigate to https://analytics.google.com, add a new property for your jupyter book and copy the tracking id here.\n",
    "google_analytics:\n",
    "  mytrackingcode: UA-52617120-7\n",
    "\n",
    "#######################################################################################\n",
    "# Jupyter book settings you probably don't need to change\n",
    "\n",
    "content_folder_name       : \"content\"  # The folder where your raw content (notebooks/markdown files) are located\n",
    "images_url                : \"/assets/images\" # Path to static image files\n",
    "css_url                   : \"/assets/css\" # Path to static CSS files\n",
    "js_url                    : \"/assets/js\" # Path to JS files\n",
    "custom_static_url         : \"/assets/custom\" # Path to user's custom CSS/JS files\n",
    "\n",
    "\n",
    "#######################################################################################\n",
    "# Jekyll build settings (only modify if you know what you're doing)\n",
    "\n",
    "# Site settings\n",
    "defaults:\n",
    "  - scope:\n",
    "      path: \"\"\n",
    "    values:\n",
    "      layout: \"default\"\n",
    "      toc: true\n",
    "      toc_label: \"  On this page\"\n",
    "      toc_icon: \"list-ul\"\n",
    "      excerpt: ''\n",
    "\n",
    "favicon_path: \"images/logo/favicon.ico\"\n",
    "\n",
    "# Markdown Processing\n",
    "markdown: kramdown\n",
    "kramdown:\n",
    "  input: GFM\n",
    "  syntax_highlighter: rouge\n",
    "\n",
    "sass:\n",
    "  style: compressed\n",
    "\n",
    "collections:\n",
    "  build:\n",
    "    output: true\n",
    "    permalink: /:path.html\n",
    "\n",
    "# Exclude from processing.\n",
    "# The following items will not be processed, by default. Create a custom list\n",
    "# to override the default setting.\n",
    "exclude:\n",
    "  - scripts/\n",
    "  - Gemfile\n",
    "  - Gemfile.lock\n",
    "  - node_modules\n",
    "  - vendor/bundle/\n",
    "  - vendor/cache/\n",
    "  - vendor/gems/\n",
    "  - vendor/ruby/\n",
    "\n",
    "plugins:\n",
    "  - jekyll-redirect-from\n",
    "  - jekyll-scholar\n",
    "\n",
    "# NOTE: Line below not native to Jupyter-book demo files\n",
    "# The line below controls the style of the citation printer inline\n",
    "# This will enable numbers in square brackets to be printed\n",
    "scholar:\n",
    "  source: ./_bibliography\n",
    "  style: _styles/modified-ieee.csl\n",
    "  order: ascending\n",
    "\n",
    "# Jupyter Book version - DO NOT CHANGE THIS. It is generated when a new book is created\n",
    "jupyter_book_version: \"0.6.4dev0\""
   ]
  },
  {
   "cell_type": "markdown",
   "metadata": {},
   "source": [
    "## Build the site"
   ]
  },
  {
   "cell_type": "markdown",
   "metadata": {},
   "source": [
    "Then, build book `jupyter-book build champsbook`"
   ]
  },
  {
   "cell_type": "markdown",
   "metadata": {},
   "source": [
    "<span style=\"color:red\">**TO-DO's**</span>\n",
    "* add material/links for preparation\n",
    "* stuff for revision\n"
   ]
  },
  {
   "cell_type": "markdown",
   "metadata": {},
   "source": [
    "After building the site ..."
   ]
  },
  {
   "cell_type": "markdown",
   "metadata": {},
   "source": [
    "```bash\n",
    "bundle exec jekyll serve --watch --port 4444\n",
    "```"
   ]
  },
  {
   "cell_type": "markdown",
   "metadata": {},
   "source": [
    "## Publish the site"
   ]
  },
  {
   "cell_type": "markdown",
   "metadata": {},
   "source": [
    "https://www.youtube.com/watch?v=nN6QuNqmAwk&list=PLqR1Mci_1R_eeoYDZt6mp-3hNUEbnRwSp&index=13&t=485s"
   ]
  },
  {
   "cell_type": "markdown",
   "metadata": {},
   "source": [
    "# Publishing a site with `jekyll`"
   ]
  },
  {
   "cell_type": "markdown",
   "metadata": {},
   "source": [
    "`GitHub Pages` only allows you to show static websites. Moreover, the custom appearance is pretty basic. We could do some `CSS` or `javascript` to edit our site look pretty and able to do something more than just showing pictures and text.\n",
    "\n",
    "`jekyll` allows us to build dynamic websites.\n",
    "Can run Ruby or Python code on the website."
   ]
  },
  {
   "cell_type": "markdown",
   "metadata": {},
   "source": [
    "## Installing `jekyll`"
   ]
  },
  {
   "cell_type": "markdown",
   "metadata": {},
   "source": [
    "This is needed to publish HTML files via GitHub pages"
   ]
  },
  {
   "cell_type": "markdown",
   "metadata": {},
   "source": [
    "Install `jekyll` accrding to specific instructions for your OS and Version\n",
    "\n",
    "For **macOs**, Mojave (10.14) \n",
    "\n",
    "1. Install `brew` (macOS software installer)\n",
    "\n",
    "2. install `ruby`\n",
    "> `brew install ruby`\n",
    "\n",
    "3. Add the brew ruby path to your shell configuration, i.e, Copy the lines below and paste them at the end of your `~./bash_profile` (macOS). \n",
    ">`export PATH=/usr/local/opt/ruby/bin:$PATH`\n",
    "\n",
    "4. Then, relaunch the terminal or do `source ~./bash_profile`\n",
    "\n",
    "5. Check the version or `ruby` installed and whether satisfies `jekyll` installation requirements. Read note below.\n",
    "> `which ruby`\n",
    "\n",
    "**NOTE** `jekyll` requires a `ruby` version `>= 2.4.0` according to the output of Step X\n",
    "\n",
    "6. If your need to change your `ruby` version, install `rbenv`\n",
    ">`brew install rbenv`\n",
    "\n",
    "7. And do\n",
    ">```bash\n",
    "rbenv install 2.6.3\n",
    "rbenv global 2.6.3\n",
    "ruby -v\n",
    "```\n",
    "\n",
    "8. Install `bundler` via `gem` (The Ruby package manager)\n",
    "```bash\n",
    "sudo gem install bundler\n",
    "```\n",
    "\n",
    "9. Finally install `jekyll`\n",
    ">```bash\n",
    "sudo gem install -n /usr/local/bin/ jekyll\n",
    "```\n",
    "\n",
    "**NOTE** In the official documentation it is strongly advised not to do a global installation of ruby in your system https://jekyllrb.com/docs/installation/macos/ Although, in the homepage, there is no information whatsoever about this warning https://jekyllrb.com/\n",
    "\n",
    "For macOS Versions earlier than Mojave (`< 10.14`), do only this instead\n",
    "\n",
    ">```bash\n",
    "sudo gem install bundler jekyll\n",
    "```\n",
    "\n",
    "10. And, check that is thas been correctly installed\n",
    "\n",
    ">`jekyll -v`"
   ]
  },
  {
   "cell_type": "markdown",
   "metadata": {},
   "source": [
    "## Creating a site with `jekyll`"
   ]
  },
  {
   "cell_type": "markdown",
   "metadata": {},
   "source": [
    "Once `jekyll` is installed, just do\n",
    "\n",
    ">```bash\n",
    "jekyll new my-awesome-site\n",
    "cd my-awesome-site\n",
    "bundle exec jekyll serve\n",
    "```"
   ]
  },
  {
   "cell_type": "markdown",
   "metadata": {},
   "source": [
    "<span style=\"color:blue\"><b>NOTE</b></span>\n",
    "\n",
    "If there is any special Ruby library dependecies (i.e., RubyGems or gems)\n",
    "\n",
    "```bash\n",
    "bundle install\n",
    "```\n",
    "\n",
    "will automatically install these as long as they are declared in `Gemfile`, fetching these from the [Ruby server](https://rubygems.org)\n",
    "\n",
    "After installing any needed gems, bundler writes a record file (`Gemfile.lock`) of all installed gems and their versions"
   ]
  },
  {
   "cell_type": "markdown",
   "metadata": {},
   "source": [
    "Then, just browse to [http://localhost:4000](http://localhost:4000/)"
   ]
  },
  {
   "cell_type": "markdown",
   "metadata": {},
   "source": [
    "<span style=\"color:blue\"><b>BREAKDOWN</b></span>"
   ]
  },
  {
   "cell_type": "markdown",
   "metadata": {},
   "source": [
    "1. The first line will create the folder `my-awesome-site` with the following content\n",
    "```bash\n",
    "404.html        Gemfile.lock    _posts/         index.markdown\n",
    "Gemfile         _config.yml     about.markdown\n",
    "```\n",
    "\n",
    "\n",
    "* `Gemfile` is a file were the Ruby dependencies of your application are declared.\n",
    "\n",
    "* `Gemfile.lock` is record of the specific (sub)dependecies installed. This _extremely useful_ to share your environment with people.\n",
    "\n",
    "* `jekyll` command is an executable that you can run in terminal for the `jekyll` RubyGem. Here's a cheatsheet [here](https://jekyllrb.com/docs/usage/) for how to use it."
   ]
  },
  {
   "cell_type": "markdown",
   "metadata": {},
   "source": [
    "2. After moving to the new folder, the last line will (__A__) create the folder `_site`, with the following content\n",
    "\n",
    "```bash\n",
    "404.html    about/      assets/     feed.xml    index.html  jekyll/\n",
    "```\n",
    "where\n",
    "\n",
    "* `jekyll serve` is a command to build our website with a fancy theme\n",
    "* `bundle exec` pipes the list of Ruby library (gems) requirements in `Gemfile` for execution of `jekyll serve`"
   ]
  },
  {
   "cell_type": "markdown",
   "metadata": {},
   "source": [
    "and (__B__) will produce the following output after execution\n",
    "\n",
    "```bash\n",
    "####################################################\n",
    "Configuration file: /Users/bas/research/book_sprint/my-awesome-site/_config.yml\n",
    "            Source: /Users/bas/research/book_sprint/my-awesome-site\n",
    "       Destination: /Users/bas/research/book_sprint/my-awesome-site/_site\n",
    " Incremental build: disabled. Enable with --incremental\n",
    "      Generating... \n",
    "       Jekyll Feed: Generating feed for posts\n",
    "                    done in 1.369 seconds.\n",
    " Auto-regeneration: enabled for '/Users/bas/research/book_sprint/my-awesome-site'\n",
    "    Server address: http://127.0.0.1:4000/\n",
    "  Server running... press ctrl-c to stop.\n",
    "####################################################\n",
    "```\n",
    "\n",
    "After what you can open a browser tab and use the URL `http://127.0.0.1:4000/` or `http://localhost:4000` to see the rendered HTML page with `jekyll`."
   ]
  },
  {
   "cell_type": "markdown",
   "metadata": {},
   "source": [
    "<span style=\"color:blue\"><b>SOURCES</b></span>\n",
    "\n",
    "* What's the difference between `Gemfile` and `Gemfile.lock`?\n",
    "\n",
    "https://medium.com/@davalpargal/gemfile-and-gemfile-lock-in-ruby-65adc918b856\n",
    "\n",
    "https://stackoverflow.com/questions/6927442/what-is-the-difference-between-gemfile-and-gemfile-lock-in-ruby-on-rails\n",
    "\n",
    "* What's Bundler?\n",
    "\n",
    "https://bundler.io/v1.12/rationale.html\n",
    "\n",
    "* Basics of Ruby\n",
    " * `gem` Ruby package (RubyGems) manager\n",
    " * `irb` Interactive Ruby prompt and basic commands\n",
    "\n",
    "https://guides.rubygems.org/rubygems-basics/\n",
    "\n",
    "https://www.digitalocean.com/community/tutorials/how-to-use-irb-to-explore-ruby"
   ]
  },
  {
   "cell_type": "markdown",
   "metadata": {},
   "source": [
    "```\n",
    "FIRST build\n",
    "jupyter-book build champsbook\n",
    "\n",
    "SECOND serve with jekyll\n",
    "\n",
    "bundle exec jekyll serve --watch --port 4444\n",
    "```"
   ]
  },
  {
   "cell_type": "markdown",
   "metadata": {},
   "source": [
    "# Appendices"
   ]
  },
  {
   "cell_type": "markdown",
   "metadata": {},
   "source": [
    "## Configuring the bibliography"
   ]
  },
  {
   "cell_type": "markdown",
   "metadata": {},
   "source": [
    "By defult, `jupyter-book` will consider by default the file `_bibliography/references.bib` to construct the bibliography.\n",
    "\n",
    "However, the directory and the default bibliography file can be changes in [`config.yml`](#config) by adding the following commands within `scholar`, the section that controls the functions of `jekyll-scholar`\n",
    "\n",
    "```yml\n",
    "scholar:\n",
    "  source: ./_bibliography\n",
    "  bibliography: my_references.bib\n",
    "```\n",
    "\n",
    "\n"
   ]
  },
  {
   "cell_type": "markdown",
   "metadata": {},
   "source": [
    "In this example, we change the default bibliography to `my_references.bib`. \n",
    "\n",
    "Note that bibliographies in `.bibtex` format (an unpgraded version of conventional `.bib` files. Read [this](https://tex.stackexchange.com/questions/25701/bibtex-vs-biber-and-biblatex-vs-natbib)) are also in principle accepted. "
   ]
  },
  {
   "cell_type": "markdown",
   "metadata": {},
   "source": [
    "<span style=\"color:red\"><b>NOTE</b></span> Although the `jekyll-scholar` documentation states that the `bibliography` option can point out to multiple files using regular expressions \n",
    "\n",
    "```yml\n",
    "bibliography: **/*.bib{,tex}\n",
    "```\n",
    "\n",
    "this doesn't seem to work when doing `jupyter-book build`, either when trying other variants: `**/*.bib`, `*.bib`, `\"*.bib\"`, etc. All of these variants lead to error."
   ]
  },
  {
   "cell_type": "markdown",
   "metadata": {},
   "source": [
    "See next wection for a provisional solution."
   ]
  },
  {
   "cell_type": "markdown",
   "metadata": {},
   "source": [
    "## Citation style"
   ]
  },
  {
   "cell_type": "markdown",
   "metadata": {},
   "source": [
    "This controls how the citation is printen in the rendered HTML, either using the first author's surename (e.g., `R. Jimenez et al.`) or simply by adding numbers in square brackets (e.g., `[1]`), as done below.\n",
    "\n",
    "For this you need a style file `.csl`. You can download one from [here](https://github.com/krafczyk/citetest-page)\n",
    "\n",
    "Once downloaded, add this to a new folder called `_styles`. Then, just enable the `style` option of `jekyll-scholar`, as below"
   ]
  },
  {
   "cell_type": "markdown",
   "metadata": {},
   "source": [
    "```yml\n",
    "scholar:\n",
    "  style: _styles/modified-ieee.csl\n",
    "  \n",
    "```"
   ]
  },
  {
   "cell_type": "markdown",
   "metadata": {},
   "source": [
    "## Citation odering"
   ]
  },
  {
   "cell_type": "markdown",
   "metadata": {},
   "source": [
    "This controls the order of the printed numbers for added citations."
   ]
  },
  {
   "cell_type": "markdown",
   "metadata": {},
   "source": [
    "```yml\n",
    "scholar:\n",
    "  order: ascending\n",
    "```"
   ]
  },
  {
   "cell_type": "markdown",
   "metadata": {},
   "source": [
    "## Managing multiple bibliographies"
   ]
  },
  {
   "cell_type": "markdown",
   "metadata": {},
   "source": [
    "In this section we continue the study of {% cite pechukas1981 naik2019b --file snreac %} {% cite DeLeon_Marston_1989 --file paper %} by considering the phase space structures that govern different reaction pathways and we  then consider the influence of symmetry breaking, bifurcation, and energy on these phase space reaction pathways.\n",
    "\n",
    "Another citation `{% raw %}{% cite suits14 --file roaming_v8 %}{% endraw %}`"
   ]
  },
  {
   "cell_type": "markdown",
   "metadata": {},
   "source": [
    "`{% raw %}{% bibliography --file snreac --file roaming_v8 --cited %}{% endraw %}`"
   ]
  },
  {
   "cell_type": "markdown",
   "metadata": {},
   "source": [
    "NOTe: Remains open issue"
   ]
  },
  {
   "cell_type": "markdown",
   "metadata": {},
   "source": [
    "<span style=\"color:red\"><b>NOTE</b></span> Bibliographies must be saved with string unicode (UTF8)"
   ]
  },
  {
   "cell_type": "markdown",
   "metadata": {},
   "source": [
    "Problem with `allrefs.bib`"
   ]
  },
  {
   "cell_type": "markdown",
   "metadata": {},
   "source": [
    "## Solution bib file merging"
   ]
  },
  {
   "cell_type": "markdown",
   "metadata": {},
   "source": [
    "Merging `.bib` files seems an easy way to to avoid using the chunky `jekyll-scholar` syntax to add citations when manually editing a Jupyter Notebook (`.ipynb`) or Markdown file.\n",
    "\n",
    "Thus, instead of doing \n",
    "\n",
    "```\n",
    "{% cite bib_tag11 bib_tag12 --file1 %} {% cite bib_tag21 bib_tag22 --file2 %}\n",
    "``` \n",
    "\n",
    "we could just do \n",
    "\n",
    "```\n",
    "{% cite bib_tag11 bib_tag12 bib_tag21 bib_tag22 %}\n",
    "```\n",
    "\n",
    "were the merged file will be the default file `_bibliography/references.bib`"
   ]
  },
  {
   "cell_type": "markdown",
   "metadata": {},
   "source": [
    "However, this comes with a few caveats. Below, we summaries the pros and cons of this approach.\n",
    "\n",
    "\n",
    "|Pros|Cons|\n",
    "---- |----|\n",
    "| - | - |"
   ]
  },
  {
   "cell_type": "markdown",
   "metadata": {},
   "source": [
    "<a id='syntax_matching'></a>\n",
    "## Syntax Matching"
   ]
  },
  {
   "cell_type": "markdown",
   "metadata": {},
   "source": [
    "As introduced [previously](#edit_phase) section, here we deal with the details of syntax matching for the book compilation."
   ]
  },
  {
   "cell_type": "markdown",
   "metadata": {},
   "source": [
    "<span style=\"color:blue\">Main tasks</span>\n",
    "\n",
    "For figures, tables, sections and subsections.\n",
    "\n",
    "* Swap Markdown/LaTeX Citation syntax in `.md`/`.ipynb` files with `jekyll-scholar` syntax,\n",
    "* Swap Markdown/LaTeX Label/Reference syntax in `.md`/`.ipynb` files with `Markdown` syntax,\n",
    "* Swap Markdown/LaTeX Caption syntax in `.md`/`.ipynb` files with `HTML` syntax to allow centered captions with italic formatting, \n",
    "* Add numbered cross references and labels in captions"
   ]
  },
  {
   "cell_type": "markdown",
   "metadata": {},
   "source": [
    "This a different for Markdown files and Jupyter notebooks. \n",
    "\n",
    "In the following subsections we introduce the details of these tasks."
   ]
  },
  {
   "cell_type": "markdown",
   "metadata": {},
   "source": [
    "### Markdown files"
   ]
  },
  {
   "cell_type": "markdown",
   "metadata": {},
   "source": [
    "<span style='color:blue'><b>TASKS</b></span>"
   ]
  },
  {
   "cell_type": "markdown",
   "metadata": {},
   "source": [
    "1. <b>Markdown citation syntax</b>\n",
    "\n",
    "Replace `Markdown` syntax in `.md` files\n",
    ">```\n",
    "[@bit_tag1; @bib_tag2]  # Inline citations\n",
    "```\n",
    "\n",
    "with `jekyll-scholar` syntax\n",
    "\n",
    ">```jekyll\n",
    "{% cite bib_tag1 bib_tag2 --file bib_filename %}  # Inline citations\n",
    ".\n",
    ".\n",
    ".\n",
    "{% bibliography --file bib_filename --cited %} # Generate refence list\n",
    "```"
   ]
  },
  {
   "cell_type": "markdown",
   "metadata": {},
   "source": [
    "2. <b>Markdown label/reference syntax</b>"
   ]
  },
  {
   "cell_type": "markdown",
   "metadata": {},
   "source": [
    "3. <b>Markdown caption syntax</b>\n",
    "\n",
    "Replace `Markdown` syntax in `.md` files\n",
    ">```\n",
    "![This is a caption](mypic.png)\n",
    "```\n",
    "\n",
    "with styled HTML syntax \n",
    "\n",
    "```html\n",
    "<figcaption style=\"text-align:center;font-size:14px\"><b>fig:1 </b><em> This is a caption</em></figcaption>\n",
    "```"
   ]
  },
  {
   "cell_type": "markdown",
   "metadata": {},
   "source": [
    "Rafa's notebook"
   ]
  },
  {
   "cell_type": "code",
   "execution_count": 102,
   "metadata": {},
   "outputs": [],
   "source": [
    "import re\n",
    "\n",
    "doc_infile = open(\"champsbook/content/03/Draft.md\",'r')\n",
    "doc_lines = doc_infile.readlines()\n",
    "\n",
    "doc_outfile = open(\"champsbook/content/03/Draft_new.md\",'w')\n",
    "\n",
    "bib_filename = 'myBib'\n",
    "\n",
    "with open(\"champsbook/content/03/Draft_new.md\",'w') as doc_outfile:\n",
    "    for line in doc_lines:\n",
    "        line_matched = re.search(r'\\[@(.+?)\\]',line)\n",
    "        if line_matched:\n",
    "            chunk_matched = line_matched.group(1)\n",
    "            bib_tags_raw = re.split(\";|,\", chunk_matched)\n",
    "            bib_tags_clean = [x.replace(\"@\",'').strip() for x in bib_tags_raw]\n",
    "            jekyll_syntax_items = [\"{% cite\"]+bib_tags_clean+['--file '+bib_filename]+[\"%}\"]\n",
    "            separator = ' '\n",
    "            chunk_new = separator.join(jekyll_syntax_items)\n",
    "            chunk_original = '[@'+chunk_matched+']'\n",
    "            line_modified = line.replace(chunk_original, chunk_new)\n",
    "            doc_outfile.write(line_modified)\n",
    "        else:\n",
    "            doc_outfile.write(line)\n",
    "    bib_endline = \"\\n{% bibliography --file \"+bib_filename+\" --cited %}\"\n",
    "    doc_outfile.write(bib_endline)\n",
    "    doc_infile.close()\n",
    "    doc_outfile.close()"
   ]
  },
  {
   "cell_type": "markdown",
   "metadata": {},
   "source": [
    "Naik's notebook"
   ]
  },
  {
   "cell_type": "code",
   "execution_count": 103,
   "metadata": {},
   "outputs": [],
   "source": [
    "import re\n",
    "\n",
    "doc_infile = open(\"champsbook/content/05/paper.md\",'r')\n",
    "doc_lines = doc_infile.readlines()\n",
    "\n",
    "doc_outfile = open(\"champsbook/content/05/paper_new.md\",'w')\n",
    "\n",
    "bib_filename = 'paper'\n",
    "\n",
    "with open(\"champsbook/content/05/paper_new.md\",'w') as doc_outfile:\n",
    "    for line in doc_lines:\n",
    "        line_matched = re.search(r'\\[@(.+?)\\]',line)\n",
    "        if line_matched:\n",
    "            chunk_matched = line_matched.group(1)\n",
    "            bib_tags_raw = re.split(\";|,\", chunk_matched)\n",
    "            bib_tags_clean = [x.replace(\"@\",'').strip() for x in bib_tags_raw]\n",
    "            jekyll_syntax_items = [\"{% cite\"]+bib_tags_clean+['--file '+bib_filename]+[\"%}\"]\n",
    "            separator = ' '\n",
    "            chunk_new = separator.join(jekyll_syntax_items)\n",
    "            chunk_original = '[@'+chunk_matched+']'\n",
    "            line_modified = line.replace(chunk_original, chunk_new)\n",
    "            doc_outfile.write(line_modified)\n",
    "        else:\n",
    "            doc_outfile.write(line)\n",
    "    bib_endline = \"\\n{% bibliography --file \"+bib_filename+\" --cited %}\"\n",
    "    doc_outfile.write(bib_endline)\n",
    "    doc_infile.close()\n",
    "    doc_outfile.close()"
   ]
  },
  {
   "cell_type": "markdown",
   "metadata": {},
   "source": [
    "Method for Python Script"
   ]
  },
  {
   "cell_type": "code",
   "execution_count": 2,
   "metadata": {},
   "outputs": [],
   "source": [
    "import re\n",
    "\n",
    "def markdown_to_jekyll_bib(md_infile, md_outfile, bib_filename):\n",
    "    #############################################\n",
    "    # Extract all lines from input MD file\n",
    "    #############################################\n",
    "    try:\n",
    "        doc_infile = open(md_infile, 'r')\n",
    "        doc_lines = doc_infile.readlines()\n",
    "    except:\n",
    "        print(\"Couldn't find Markdown file. Check your input path\")\n",
    "\n",
    "    with open(md_outfile, 'w') as doc_outfile:\n",
    "        for line in doc_lines:\n",
    "            #############################################\n",
    "            # Filter all lines containing bibliography syntax\n",
    "            #############################################\n",
    "            line_matched = re.search(r'\\[@(.+?)\\]',line)\n",
    "            if line_matched:\n",
    "                #############################################\n",
    "                # Extract Bib tags from substrings in filtered lines\n",
    "                #############################################\n",
    "                chunk_matched = line_matched.group(1)\n",
    "                bib_tags_raw = re.split(\";|,\", chunk_matched)\n",
    "                bib_tags_clean = [x.replace(\"@\",'').strip() for x in bib_tags_raw]\n",
    "                #############################################\n",
    "                # Replace Markdown syntax with jekyll's in filtered lines\n",
    "                #############################################\n",
    "                jekyll_syntax_items = [\"{% cite\"]+bib_tags_clean+['--file '+bib_filename]+[\"%}\"]\n",
    "                separator = ' '\n",
    "                chunk_new = separator.join(jekyll_syntax_items)\n",
    "                chunk_original = '[@'+chunk_matched+']'\n",
    "                line_modified = line.replace(chunk_original, chunk_new)\n",
    "                #############################################\n",
    "                # Write syntax modified line in output file\n",
    "                #############################################\n",
    "                doc_outfile.write(line_modified)\n",
    "            else:\n",
    "                doc_outfile.write(line)\n",
    "        #############################################\n",
    "        # Add jekyll line to generate list of references at document end\n",
    "        #############################################        \n",
    "        bib_endline = \"\\n{% bibliography --file \"+bib_filename+\" --cited %}\"\n",
    "        doc_outfile.write(bib_endline)\n",
    "        # Close all files\n",
    "        doc_infile.close()\n",
    "        doc_outfile.close()"
   ]
  },
  {
   "cell_type": "markdown",
   "metadata": {},
   "source": [
    "**TEST** function "
   ]
  },
  {
   "cell_type": "code",
   "execution_count": 3,
   "metadata": {},
   "outputs": [],
   "source": [
    "md_infile = \"champsbook/content/05/paper.md\"\n",
    "md_outfile = \"champsbook/content/05/paper_new.md\"\n",
    "bib_filename = 'paper'\n",
    "\n",
    "markdown_to_jekyll_bib(md_infile, md_outfile, bib_filename)"
   ]
  },
  {
   "cell_type": "markdown",
   "metadata": {},
   "source": [
    "#### SCRIPT"
   ]
  },
  {
   "cell_type": "code",
   "execution_count": 78,
   "metadata": {},
   "outputs": [
    {
     "name": "stdout",
     "output_type": "stream",
     "text": [
      "Overwriting scripts/bib_md2jekyll.py\n"
     ]
    }
   ],
   "source": [
    "%%writefile scripts/bib_md2jekyll.py\n",
    "\n",
    "def markdown_to_jekyll_bib(md_infile, md_outfile, bib_filename):\n",
    "    #############################################\n",
    "    # Extract all lines from input MD file\n",
    "    #############################################\n",
    "    try:\n",
    "        doc_infile = open(md_infile, 'r')\n",
    "        doc_lines = doc_infile.readlines()\n",
    "\n",
    "        with open(md_outfile, 'w') as doc_outfile:\n",
    "            for line in doc_lines:\n",
    "                #############################################\n",
    "                # Filter all lines containing bibliography syntax\n",
    "                #############################################\n",
    "                line_matched = re.search(r'\\[@(.+?)\\]',line)\n",
    "                if line_matched:\n",
    "                    #############################################\n",
    "                    # Extract Bib tags from substrings in filtered lines\n",
    "                    #############################################\n",
    "                    chunk_matched = line_matched.group(1)\n",
    "                    bib_tags_raw = re.split(\";|,\", chunk_matched)\n",
    "                    bib_tags_clean = [x.replace(\"@\",'').strip() for x in bib_tags_raw]\n",
    "                    #############################################\n",
    "                    # Replace Markdown syntax with jekyll's in filtered lines\n",
    "                    #############################################\n",
    "                    jekyll_syntax_items = [\"{% cite\"]+bib_tags_clean+['--file '+bib_filename]+[\"%}\"]\n",
    "                    separator = ' '\n",
    "                    chunk_new = separator.join(jekyll_syntax_items)\n",
    "                    chunk_original = '[@'+chunk_matched+']'\n",
    "                    line_modified = line.replace(chunk_original, chunk_new)\n",
    "                    #############################################\n",
    "                    # Write syntax modified line in output file\n",
    "                    #############################################\n",
    "                    doc_outfile.write(line_modified)\n",
    "                else:\n",
    "                    doc_outfile.write(line)\n",
    "                    \n",
    "            #############################################\n",
    "            # Add jekyll line to generate list of references at document end\n",
    "            #############################################        \n",
    "            bib_endline = \"\\n{% bibliography --file \"+bib_filename+\" --cited %}\"\n",
    "            doc_outfile.write(bib_endline)\n",
    "            # Close all files\n",
    "            doc_infile.close()\n",
    "            doc_outfile.close()\n",
    "    except:\n",
    "        print(\"Couldn't find Markdown file. Check your input path\")\n",
    "\n",
    "\n",
    "if __name__ == \"__main__\":\n",
    "    import sys\n",
    "    import re\n",
    "    #############################################\n",
    "    # Script input arguments (self-explanatory)\n",
    "    #############################################\n",
    "    md_infile = sys.argv[1]\n",
    "    md_outfile = sys.argv[2]\n",
    "    bib_filename = sys.argv[3]\n",
    "    #############################################\n",
    "    # Turn MD file into jekyll-syntax modified file\n",
    "    #############################################\n",
    "    markdown_to_jekyll_bib(md_infile, md_outfile, bib_filename)"
   ]
  },
  {
   "cell_type": "markdown",
   "metadata": {},
   "source": [
    "**TEST** Script"
   ]
  },
  {
   "cell_type": "markdown",
   "metadata": {},
   "source": [
    "https://stackoverflow.com/questions/51551056/running-a-python-script-in-jupyter-notebook-with-arguments-passing"
   ]
  },
  {
   "cell_type": "code",
   "execution_count": 79,
   "metadata": {},
   "outputs": [],
   "source": [
    "%run scripts/bib_md2jekyll.py champsbook/content/05/paper.md champsbook/content/05/paper_new.md paper"
   ]
  },
  {
   "cell_type": "markdown",
   "metadata": {},
   "source": [
    "#### Markdown label/reference syntax"
   ]
  },
  {
   "cell_type": "markdown",
   "metadata": {},
   "source": [
    "<span style='color:blue'>**TASK**</span>\n",
    "\n",
    "Replace `Markdown` syntax in `.md` files\n",
    ">```\n",
    "@fig:my_label  # Inline citations\n",
    "```\n",
    "\n",
    "with `jekyll` syntax\n",
    "\n",
    ">```markdown\n",
    "![Some caption goes here.](my_figure_path){#fig:my_label some more stuff here}\n",
    "```\n"
   ]
  },
  {
   "cell_type": "markdown",
   "metadata": {},
   "source": [
    "For figure and table referencing"
   ]
  },
  {
   "cell_type": "markdown",
   "metadata": {},
   "source": [
    "<span style='color:red'>**TO-DO**</span> Script for editing of figure/table captions"
   ]
  },
  {
   "cell_type": "markdown",
   "metadata": {},
   "source": [
    "Markers:\n",
    "\n",
    "* `fig`\n",
    "* `tab`\n",
    "* `ch`\n",
    "* `sec`\n",
    "* `subsec`"
   ]
  },
  {
   "cell_type": "markdown",
   "metadata": {},
   "source": [
    "**CASE 1** Markdown `@`-`{#}` syntax"
   ]
  },
  {
   "cell_type": "markdown",
   "metadata": {},
   "source": [
    "TESTING"
   ]
  },
  {
   "cell_type": "raw",
   "metadata": {},
   "source": [
    "doc_infile = open(\"champsbook/content/03/Draft_new.md\",'r')\n",
    "doc_lines = doc_infile.readlines()"
   ]
  },
  {
   "cell_type": "raw",
   "metadata": {},
   "source": [
    "import re\n",
    "marker = 'fig'\n",
    "strings_for_removal = ').,;:'\n",
    "labels_pattern = re.compile('#'+marker+'(.+?)\\s')\n",
    "refs_pattern = re.compile('@'+marker+'(.+?)\\s')"
   ]
  },
  {
   "cell_type": "raw",
   "metadata": {},
   "source": [
    "def replace_ref_syntax(refs_matched_raw, line):\n",
    "    refs_tags = [s.translate({ord(i): None for i in strings_for_removal}) for s in refs_matched_raw]\n",
    "    refs_tags = list(set(refs_tags))\n",
    "    #############################################\n",
    "    # Replace Markdown reference syntax\n",
    "    #############################################\n",
    "    line_modified = line\n",
    "    for x in refs_tags:\n",
    "        chunk_original = '@fig:'+x\n",
    "        chunk_new = '[Figure here](#'+x+')'\n",
    "        line_modified = line_modified.replace(chunk_original, chunk_new)\n",
    "    \n",
    "    return line_modified\n",
    "    \n",
    "def replace_label_syntax(labels_matched_raw, line):\n",
    "    labels_tags = [s.translate({ord(i): None for i in strings_for_removal}) for s in labels_matched_raw]\n",
    "    labels_tags = list(set(labels_tags))\n",
    "    #############################################\n",
    "    # Replace Markdown reference syntax\n",
    "    #############################################    \n",
    "    for x in labels_tags:\n",
    "        chunk_original = '{#fig:'+x+'}'\n",
    "        chunk_new = '\\n<a id=\"'+x+'\"></a>'\n",
    "        line_modified = re.sub(r'\\{#fig:'+x+'(.+?)\\}', chunk_new, line)\n",
    "    \n",
    "    return line_modified"
   ]
  },
  {
   "cell_type": "raw",
   "metadata": {},
   "source": [
    "for line in doc_lines:\n",
    "    refs_matched_raw = re.findall(refs_pattern,line)\n",
    "    labels_matched_raw = re.findall(labels_pattern, line)\n",
    "\n",
    "    if refs_matched_raw and not labels_matched_raw:\n",
    "        line_modified = replace_ref_syntax(refs_matched_raw, line)\n",
    "        print(line_modified)\n",
    "\n",
    "    elif labels_matched_raw and not refs_matched_raw:\n",
    "        line_modified = replace_label_syntax(labels_matched_raw, line)\n",
    "        print(line_modified)\n",
    "        \n",
    "    elif labels_matched_raw and refs_matched_raw:\n",
    "        line_modified = replace_label_syntax(labels_matched_raw, line)\n",
    "        line_modified = replace_ref_syntax(refs_matched_raw, line_modified)\n",
    "        print(line_modified)\n",
    "        \n",
    "    else:\n",
    "        line_modified = line\n",
    "        print(line_modified)"
   ]
  },
  {
   "cell_type": "raw",
   "metadata": {},
   "source": [
    "for line in doc_lines:\n",
    "    print(line)"
   ]
  },
  {
   "cell_type": "markdown",
   "metadata": {},
   "source": [
    "SILENT TEST"
   ]
  },
  {
   "cell_type": "code",
   "execution_count": 41,
   "metadata": {},
   "outputs": [],
   "source": [
    "import re"
   ]
  },
  {
   "cell_type": "code",
   "execution_count": 42,
   "metadata": {},
   "outputs": [],
   "source": [
    "doc_infile = open(\"champsbook/content/03/Draft_new.md\",'r')\n",
    "doc_lines = doc_infile.readlines()"
   ]
  },
  {
   "cell_type": "code",
   "execution_count": 43,
   "metadata": {},
   "outputs": [],
   "source": [
    "marker = 'fig'\n",
    "strings_for_removal = ').,;:'\n",
    "\n",
    "labels_pattern = re.compile('#'+marker+'(.+?)\\s')\n",
    "refs_pattern = re.compile('@'+marker+'(.+?)\\s')"
   ]
  },
  {
   "cell_type": "code",
   "execution_count": 44,
   "metadata": {},
   "outputs": [],
   "source": [
    "def minimal_ordered_set(seq):\n",
    "    seen = set()\n",
    "    seen_add = seen.add\n",
    "    return [x for x in seq if not (x in seen or seen_add(x))]\n",
    "\n",
    "def get_labels_tags_dic(labels_pattern, doc_lines):\n",
    "    COUNTER = 0\n",
    "    labels_tags_all = []\n",
    "\n",
    "    for line in doc_lines:\n",
    "        labels_matched_raw = re.findall(labels_pattern, line)\n",
    "        if labels_matched_raw:\n",
    "            COUNTER +=1\n",
    "            labels_tags = [s.translate({ord(i): None for i in strings_for_removal}) for s in labels_matched_raw]\n",
    "            labels_tags = list(minimal_ordered_set(labels_tags))\n",
    "            labels_tags_all += labels_tags\n",
    "\n",
    "    #############################################\n",
    "    # Test for non-repeated labels\n",
    "    #############################################\n",
    "    if COUNTER == len(labels_tags_all):\n",
    "        print(\"Good! There aren't repeated labels in your file\")\n",
    "        labels_tags_dic = {labels_tags_all[n]:str(n+1) for n in range(COUNTER)}\n",
    "        return labels_tags_dic\n",
    "    else:\n",
    "        print(\"There are repeated labels in your file. This will lead to errors\")"
   ]
  },
  {
   "cell_type": "code",
   "execution_count": 45,
   "metadata": {},
   "outputs": [
    {
     "name": "stdout",
     "output_type": "stream",
     "text": [
      "Good! There aren't repeated labels in your file\n"
     ]
    }
   ],
   "source": [
    "labels_tags_dic = get_labels_tags_dic(labels_pattern, doc_lines)\n",
    "\n",
    "def replace_ref_syntax(refs_matched_raw, line):\n",
    "    refs_tags = [s.translate({ord(i): None for i in strings_for_removal}) for s in refs_matched_raw]\n",
    "    refs_tags = list(set(refs_tags))\n",
    "    #############################################\n",
    "    # Replace Markdown reference syntax\n",
    "    #############################################\n",
    "    line_modified = line\n",
    "    for x in refs_tags:\n",
    "        chunk_original = '@'+marker+':'+x\n",
    "        x_number = labels_tags_dic[x]\n",
    "        chunk_new = '['+marker+':'+x_number+'](#'+x+')'\n",
    "        line_modified = line_modified.replace(chunk_original, chunk_new)\n",
    "    \n",
    "    return line_modified\n",
    "    \n",
    "def replace_label_syntax(labels_matched_raw, line):\n",
    "    labels_tags = [s.translate({ord(i): None for i in strings_for_removal}) for s in labels_matched_raw]\n",
    "    labels_tags = list(set(labels_tags))\n",
    "    #############################################\n",
    "    # Replace Markdown reference syntax\n",
    "    #############################################    \n",
    "    for x in labels_tags:\n",
    "        chunk_original = '{#'+marker+':'+x+'}'\n",
    "        chunk_new = '\\n<a id=\"'+x+'\"></a>'\n",
    "        line_modified = re.sub(r'\\{#'+marker+':'+x+'(.+?)\\}', chunk_new, line)\n",
    "    \n",
    "    return line_modified"
   ]
  },
  {
   "cell_type": "code",
   "execution_count": 46,
   "metadata": {
    "scrolled": true
   },
   "outputs": [],
   "source": [
    "with open(\"champsbook/content/03/Draft_new2.md\",'w') as doc_outfile:\n",
    "    for line in doc_lines:\n",
    "        refs_matched_raw = re.findall(refs_pattern,line)\n",
    "        labels_matched_raw = re.findall(labels_pattern, line)\n",
    "\n",
    "        if refs_matched_raw and not labels_matched_raw:\n",
    "            line_modified = replace_ref_syntax(refs_matched_raw, line)\n",
    "            doc_outfile.write(line_modified)\n",
    "\n",
    "        elif labels_matched_raw and not refs_matched_raw:\n",
    "            line_modified = replace_label_syntax(labels_matched_raw, line)\n",
    "            doc_outfile.write(line_modified)\n",
    "\n",
    "        elif labels_matched_raw and refs_matched_raw:\n",
    "            line_modified = replace_label_syntax(labels_matched_raw, line)\n",
    "            line_modified = replace_ref_syntax(refs_matched_raw, line_modified)\n",
    "            doc_outfile.write(line_modified)\n",
    "\n",
    "        else:\n",
    "            line_modified = line\n",
    "            doc_outfile.write(line_modified)\n",
    "    doc_outfile.close()\n",
    "doc_infile.close()   "
   ]
  },
  {
   "cell_type": "markdown",
   "metadata": {},
   "source": [
    "#### SCRIPT"
   ]
  },
  {
   "cell_type": "code",
   "execution_count": 60,
   "metadata": {},
   "outputs": [
    {
     "name": "stdout",
     "output_type": "stream",
     "text": [
      "Overwriting scripts/labels_refs_md2jekyll.py\n"
     ]
    }
   ],
   "source": [
    "%%writefile scripts/labels_refs_md2jekyll.py\n",
    "\n",
    "def minimal_ordered_set(seq):\n",
    "    seen = set()\n",
    "    seen_add = seen.add\n",
    "    return [x for x in seq if not (x in seen or seen_add(x))]\n",
    "\n",
    "def get_labels_tags_dic(labels_pattern, doc_lines):\n",
    "    COUNTER = 0\n",
    "    labels_tags_all = []\n",
    "\n",
    "    for line in doc_lines:\n",
    "        labels_matched_raw = re.findall(labels_pattern, line)\n",
    "        if labels_matched_raw:\n",
    "            COUNTER +=1\n",
    "            labels_tags = [s.translate({ord(i): None for i in strings_for_removal}) for s in labels_matched_raw]\n",
    "            labels_tags = list(minimal_ordered_set(labels_tags))\n",
    "            labels_tags_all += labels_tags\n",
    "\n",
    "    #############################################\n",
    "    # Test for non-repeated labels\n",
    "    #############################################\n",
    "    if COUNTER == len(labels_tags_all):\n",
    "        print(\"Good! There aren't repeated labels in your file\")\n",
    "        labels_tags_dic = {labels_tags_all[n]:str(n+1) for n in range(COUNTER)}\n",
    "        return labels_tags_dic\n",
    "    else:\n",
    "        print(\"There are repeated labels in your file. This will lead to errors\")\n",
    "\n",
    "def replace_ref_syntax(refs_matched_raw, line):\n",
    "    refs_tags = [s.translate({ord(i): None for i in strings_for_removal}) for s in refs_matched_raw]\n",
    "    refs_tags = list(set(refs_tags))\n",
    "    #############################################\n",
    "    # Replace Markdown reference syntax\n",
    "    #############################################\n",
    "    line_modified = line\n",
    "    for x in refs_tags:\n",
    "        chunk_original = '@'+marker+':'+x\n",
    "        x_number = labels_tags_dic[x]\n",
    "        chunk_new = '['+marker+':'+x_number+'](#'+x+')'\n",
    "        line_modified = line_modified.replace(chunk_original, chunk_new)\n",
    "    \n",
    "    return line_modified\n",
    "    \n",
    "def replace_label_syntax(labels_matched_raw, line):\n",
    "    labels_tags = [s.translate({ord(i): None for i in strings_for_removal}) for s in labels_matched_raw]\n",
    "    labels_tags = list(set(labels_tags))\n",
    "    #############################################\n",
    "    # Replace Markdown reference syntax\n",
    "    #############################################    \n",
    "    for x in labels_tags:\n",
    "        chunk_original = '{#'+marker+':'+x+'}'\n",
    "        chunk_new = '\\n<a id=\"'+x+'\"></a>'\n",
    "        line_modified = re.sub(r'\\{#'+marker+':'+x+'(.+?)\\}', chunk_new, line)\n",
    "    \n",
    "    return line_modified\n",
    "\n",
    "def markdown_to_jekyll_labels_refs_V1(doc_lines, md_outfile):\n",
    "    with open(md_outfile,'w') as doc_outfile:\n",
    "        for line in doc_lines:\n",
    "            refs_matched_raw = re.findall(refs_pattern,line)\n",
    "            labels_matched_raw = re.findall(labels_pattern, line)\n",
    "\n",
    "            if refs_matched_raw and not labels_matched_raw:\n",
    "                line_modified = replace_ref_syntax(refs_matched_raw, line)\n",
    "                doc_outfile.write(line_modified)\n",
    "\n",
    "            elif labels_matched_raw and not refs_matched_raw:\n",
    "                line_modified = replace_label_syntax(labels_matched_raw, line)\n",
    "                doc_outfile.write(line_modified)\n",
    "\n",
    "            elif labels_matched_raw and refs_matched_raw:\n",
    "                line_modified = replace_label_syntax(labels_matched_raw, line)\n",
    "                line_modified = replace_ref_syntax(refs_matched_raw, line_modified)\n",
    "                doc_outfile.write(line_modified)\n",
    "\n",
    "            else:\n",
    "                line_modified = line\n",
    "                doc_outfile.write(line_modified)\n",
    "        \n",
    "    doc_outfile.close()\n",
    "    print(\"New Markdown file successfully generated!\")\n",
    "        \n",
    "        \n",
    "if __name__ == \"__main__\":\n",
    "    import re\n",
    "    import sys\n",
    "    #############################################\n",
    "    # Settings\n",
    "    #############################################\n",
    "    marker = 'fig'\n",
    "    strings_for_removal = ').,;:'\n",
    "\n",
    "    labels_pattern = re.compile('#'+marker+'(.+?)\\s')\n",
    "    refs_pattern = re.compile('@'+marker+'(.+?)\\s')\n",
    "    #############################################\n",
    "    # Script input arguments (self-explanatory)\n",
    "    #############################################\n",
    "    md_infile = sys.argv[1]\n",
    "    md_outfile = sys.argv[2]\n",
    "    #############################################\n",
    "    # Extract all lines from input MD file\n",
    "    #############################################\n",
    "    try:\n",
    "        doc_infile = open(md_infile, 'r')\n",
    "        doc_lines = doc_infile.readlines()\n",
    "        doc_infile.close()\n",
    "        #############################################\n",
    "        # Turn MD file into jekyll-syntax modified file\n",
    "        #############################################\n",
    "        labels_tags_dic = get_labels_tags_dic(labels_pattern, doc_lines)\n",
    "        markdown_to_jekyll_labels_refs_V1(doc_lines, md_outfile)\n",
    "    except:\n",
    "        print(\"Couldn't find Markdown file. Check your input path\")\n"
   ]
  },
  {
   "cell_type": "markdown",
   "metadata": {},
   "source": [
    "**TESTS**"
   ]
  },
  {
   "cell_type": "code",
   "execution_count": 10,
   "metadata": {},
   "outputs": [
    {
     "name": "stdout",
     "output_type": "stream",
     "text": [
      "Good! There aren't repeated labels in your file\n",
      "New Markdown file successfully generated!\n"
     ]
    }
   ],
   "source": [
    "%run scripts/labels_refs_md2jekyll.py champsbook/content/03/Draft_new.md champsbook/content/03/Draft_new2.md"
   ]
  },
  {
   "cell_type": "code",
   "execution_count": 9,
   "metadata": {},
   "outputs": [
    {
     "name": "stdout",
     "output_type": "stream",
     "text": [
      "Good! There aren't repeated labels in your file\n",
      "New Markdown file successfully generated!\n"
     ]
    }
   ],
   "source": [
    "%run scripts/labels_refs_md2jekyll.py champsbook/content/05/paper_new.md champsbook/content/05/paper_new2.md"
   ]
  },
  {
   "cell_type": "markdown",
   "metadata": {},
   "source": [
    "<span style=\"color:red\"><b>KNOWN ISSUES</b></span>\n",
    "\n",
    "* For Markdown syntax need to use a differen syntax to capture better figure labels. See Naik's original md file."
   ]
  },
  {
   "cell_type": "markdown",
   "metadata": {},
   "source": [
    "**CASE 2**  Markdown `(#)`-`{#}` syntax"
   ]
  },
  {
   "cell_type": "markdown",
   "metadata": {},
   "source": [
    "### Jupyter Notebooks"
   ]
  },
  {
   "cell_type": "markdown",
   "metadata": {},
   "source": [
    "<span style='color:blue'><b>TASKS</b></span>"
   ]
  },
  {
   "cell_type": "markdown",
   "metadata": {},
   "source": [
    "1. <b>LaTeX citation syntax </b>\n",
    "\n",
    "Replace $\\LaTeX$ syntax in Jupyter Notebook (or even Markdown file)\n",
    ">```latex\n",
    "\\cite{bib_tag1, bib_tag2}  # Inline citations\n",
    ".\n",
    ".\n",
    ".\n",
    "\\bibliography{bib_filename} # Generate refence list\n",
    "```\n",
    "\n",
    "with `jekyll` syntax\n",
    "\n",
    ">```jekyll\n",
    "{% cite bib_tag1 bib_tag2 --file bib_filename %}  # Inline citations\n",
    ".\n",
    ".\n",
    ".\n",
    "{% bibliography --file bib_filename --cited %} # Generate refence list\n",
    "```\n"
   ]
  },
  {
   "cell_type": "markdown",
   "metadata": {},
   "source": [
    "2. <b>LaTeX label/reference syntax</b>\n",
    "\n",
    "\n",
    "\n",
    "Replace `LaTeX` syntax in Jupyter Notebooks (`ipynb`)\n",
    "\n",
    "```latex\n",
    "# In some cell: inline reference\n",
    "Some text ... \\ref{maker:mylabel} ... and more text ...\n",
    ".\n",
    ".\n",
    ".\n",
    "# In another cell: a figure/table/section/subsection  with a label\n",
    "\\label{marker:mylabel}\n",
    "```\n",
    "\n",
    "with `Markdown` syntax\n",
    "\n",
    "```html\n",
    "# In some cell: inline reference\n",
    "Some text ... [maker:mylabel](#maker:mylabel) ... and more text ...\n",
    ".\n",
    ".\n",
    ".\n",
    "# In another cell: a figure/table/section/subsection  with a label\n",
    "<a id=\"maker:mylabel\"></a>\n",
    "```\n"
   ]
  },
  {
   "cell_type": "markdown",
   "metadata": {},
   "source": [
    "3. <b> LaTeX captions </b> \n",
    "\n",
    "Replace $\\LaTeX$ syntax in Jupyter Notebook (or even Markdown file)\n",
    ">```latex\n",
    "\\# Some figure/table with a label \n",
    "\\caption{This is a caption}\n",
    "```\n",
    "\n",
    "with styled HTML syntax\n",
    "\n",
    "```html\n",
    "<figcaption style=\"text-align:center;font-size:14px\"><b>latex_marker:latex_label </b><em>This is a caption</em></figcaption>\n",
    "```\n"
   ]
  },
  {
   "cell_type": "markdown",
   "metadata": {},
   "source": []
  },
  {
   "cell_type": "markdown",
   "metadata": {},
   "source": [
    "#### SCRIPT"
   ]
  },
  {
   "cell_type": "code",
   "execution_count": 152,
   "metadata": {},
   "outputs": [
    {
     "name": "stdout",
     "output_type": "stream",
     "text": [
      "Writing scripts/bib_latex2jekyll.py\n"
     ]
    }
   ],
   "source": [
    "%%writefile scripts/bib_latex2jekyll.py\n",
    "\n",
    "def replace_citation_syntax(citations_matched_raw, item):\n",
    "    item_modified = item\n",
    "    for match in citations_matched_raw:\n",
    "        bib_tags_raw = re.split(\",\", match)\n",
    "        bib_tags_clean = [x.strip() for x in bib_tags_raw]\n",
    "        #############################################\n",
    "        # Replace LaTeX syntax with jekyll's in cell items\n",
    "        #############################################\n",
    "        jekyll_syntax_items = [\"{% cite\"]+bib_tags_clean+['--file '+bib_filename]+[\"%}\"]\n",
    "        separator = ' '\n",
    "        chunk_new = separator.join(jekyll_syntax_items)\n",
    "        chunk_original = '\\cite{'+match+'}'\n",
    "        item_modified = item_modified.replace(chunk_original, chunk_new)\n",
    "    return item_modified\n",
    "\n",
    "def replace_bibliography_syntax(bibliography_matched_raw, item):\n",
    "    # Only one single bibliography line exists\n",
    "    bib_tags_raw = re.split(\",\", bibliography_matched_raw[0])\n",
    "    bib_tags_clean = [x.strip() for x in bib_tags_raw]\n",
    "    separator = ' '\n",
    "    jekyll_syntax_items = [\"{% bibliography\"]+[separator.join(['--file', x]) for x in bib_tags_clean]+[\"--cited %}\"]\n",
    "    chunk_new = separator.join(jekyll_syntax_items)\n",
    "    chunk_original = r'\\bibliography{'+bibliography_matched_raw[0]+'}'\n",
    "    item_modified = item.replace(chunk_original, chunk_new)\n",
    "    return item_modified\n",
    "\n",
    "def latex_to_jekyll_bib(nb, nb_outfile):\n",
    "    for i in range(len(nb['cells'])):\n",
    "        cell = nb['cells'][i]\n",
    "        for j in range(len(cell['source'])):\n",
    "            item = cell['source'][j]\n",
    "\n",
    "            citations_matched_raw = re.findall(citations_pattern,item)\n",
    "            bibliography_matched_raw = re.findall(bibliography_pattern,item)\n",
    "\n",
    "            if citations_matched_raw:\n",
    "                item_modified = replace_citation_syntax(citations_matched_raw, item)\n",
    "                nb['cells'][i]['source'][j] = item_modified\n",
    "\n",
    "            elif bibliography_matched_raw:\n",
    "                item_modified = replace_bibliography_syntax(bibliography_matched_raw, item)\n",
    "                nb['cells'][i]['source'][j] = item_modified\n",
    "                \n",
    "            else:\n",
    "                pass\n",
    "    #############################################\n",
    "    # Modify cell content with new syntax accordingly\n",
    "    #############################################\n",
    "    with open(nb_outfile,'w') as fp:\n",
    "        json.dump(nb, fp)\n",
    "    fp.close()\n",
    "    print(\"New Notebook successfully generated\")\n",
    "    \n",
    "\n",
    "if __name__ == \"__main__\":\n",
    "    import re\n",
    "    import sys\n",
    "    import json\n",
    "    #############################################\n",
    "    # Settings\n",
    "    #############################################\n",
    "    citations_pattern = re.compile(r'\\\\cite\\{(.+?)\\}')\n",
    "    bibliography_pattern = re.compile(r'\\\\bibliography\\{(.+?)\\}')\n",
    "    #############################################\n",
    "    # Script input arguments (self-explanatory)\n",
    "    #############################################\n",
    "    nb_infile = sys.argv[1] \n",
    "    nb_outfile = sys.argv[2]\n",
    "    bib_filename = sys.argv[3]\n",
    "    #############################################\n",
    "    # Load Jupyter Notebook as Dictionary\n",
    "    #############################################\n",
    "    try:\n",
    "        with open(nb_infile,'r') as fp:\n",
    "            nb = json.load(fp)\n",
    "        fp.close()\n",
    "        #############################################\n",
    "        # Turn LaTeX label/ref syntax in Jupyter Noteboks into MD syntax\n",
    "        #############################################\n",
    "        latex_to_jekyll_bib(nb, nb_outfile)\n",
    "    except:\n",
    "        print(\"Couldn't find Jupyter Notebook. Check your input path\")"
   ]
  },
  {
   "cell_type": "markdown",
   "metadata": {},
   "source": [
    "TEST SCRIPT"
   ]
  },
  {
   "cell_type": "code",
   "execution_count": 156,
   "metadata": {},
   "outputs": [
    {
     "name": "stdout",
     "output_type": "stream",
     "text": [
      "New Notebook successfully generated\n"
     ]
    }
   ],
   "source": [
    "%run scripts/bib_latex2jekyll.py champsbook/content/02/booksprinttest_makrina_new.ipynb champsbook/content/02/booksprinttest_makrina_new2.ipynb snreac"
   ]
  },
  {
   "cell_type": "markdown",
   "metadata": {},
   "source": [
    "Matthaios JNB"
   ]
  },
  {
   "cell_type": "code",
   "execution_count": 28,
   "metadata": {},
   "outputs": [
    {
     "name": "stdout",
     "output_type": "stream",
     "text": [
      "New Notebook successfully generated\n"
     ]
    }
   ],
   "source": [
    "%run scripts/bib_latex2jekyll.py champsbook/content/06/caldera-1.ipynb champsbook/content/06/caldera-1_new.ipynb caldera2c"
   ]
  },
  {
   "cell_type": "code",
   "execution_count": null,
   "metadata": {},
   "outputs": [],
   "source": []
  },
  {
   "cell_type": "code",
   "execution_count": null,
   "metadata": {},
   "outputs": [],
   "source": []
  },
  {
   "cell_type": "code",
   "execution_count": null,
   "metadata": {},
   "outputs": [],
   "source": []
  },
  {
   "cell_type": "code",
   "execution_count": null,
   "metadata": {},
   "outputs": [],
   "source": []
  },
  {
   "cell_type": "code",
   "execution_count": null,
   "metadata": {},
   "outputs": [],
   "source": []
  },
  {
   "cell_type": "code",
   "execution_count": null,
   "metadata": {},
   "outputs": [],
   "source": []
  },
  {
   "cell_type": "code",
   "execution_count": 147,
   "metadata": {},
   "outputs": [],
   "source": [
    "nb_infile = 'champsbook/content/02/booksprinttest_makrina_new.ipynb'\n",
    "\n",
    "with open(nb_infile,'r') as fp:\n",
    "    nb = json.load(fp)\n",
    "fp.close()"
   ]
  },
  {
   "cell_type": "code",
   "execution_count": 148,
   "metadata": {},
   "outputs": [],
   "source": [
    "citations_pattern = re.compile(r'\\\\cite\\{(.+?)\\}')\n",
    "bibliography_pattern = re.compile(r'\\\\bibliography\\{(.+?)\\}')"
   ]
  },
  {
   "cell_type": "code",
   "execution_count": 149,
   "metadata": {},
   "outputs": [],
   "source": [
    "def replace_citation_syntax(citations_matched_raw, item):\n",
    "    item_modified = item\n",
    "    for match in citations_matched_raw:\n",
    "        bib_tags_raw = re.split(\",\", match)\n",
    "        bib_tags_clean = [x.strip() for x in bib_tags_raw]\n",
    "        #############################################\n",
    "        # Replace LaTeX syntax with jekyll's in cell items\n",
    "        #############################################\n",
    "        jekyll_syntax_items = [\"{% cite\"]+bib_tags_clean+['--file '+bib_filename]+[\"%}\"]\n",
    "        separator = ' '\n",
    "        chunk_new = separator.join(jekyll_syntax_items)\n",
    "        chunk_original = '\\cite{'+match+'}'\n",
    "        item_modified = item_modified.replace(chunk_original, chunk_new)\n",
    "    return item_modified\n",
    "\n",
    "def replace_bibliography_syntax(bibliography_matched_raw, item):\n",
    "    # Only one single bibliography line exists\n",
    "    bib_tags_raw = re.split(\",\", bibliography_matched_raw[0])\n",
    "    bib_tags_clean = [x.strip() for x in bib_tags_raw]\n",
    "    separator = ' '\n",
    "    jekyll_syntax_items = [\"{% bibliography\"]+[separator.join(['--file', x]) for x in bib_tags_clean]+[\"--cited %}\"]\n",
    "    chunk_new = separator.join(jekyll_syntax_items)\n",
    "    chunk_original = r'\\bibliography{'+bibliography_matched_raw[0]+'}'\n",
    "    item_modified = item.replace(chunk_original, chunk_new)\n",
    "    return item_modified"
   ]
  },
  {
   "cell_type": "raw",
   "metadata": {},
   "source": [
    "bib_filename = 'mybib'\n",
    "\n",
    "for i in range(len(nb['cells'])):\n",
    "    cell = nb['cells'][i]\n",
    "    for j in range(len(cell['source'])):\n",
    "        item = cell['source'][j]\n",
    "        \n",
    "        citations_matched_raw = re.findall(citations_pattern,item)\n",
    "        bibliography_matched_raw = re.findall(bibliography_pattern,item)\n",
    "        \n",
    "        if citations_matched_raw:\n",
    "            item_modified = replace_citation_syntax(citations_matched_raw, item)\n",
    "            nb['cells'][i]['source'][j] = item_modified\n",
    "\n",
    "        elif bibliography_matched_raw:\n",
    "            # Only one single bibliography line exists\n",
    "            bib_tags_raw = re.split(\",\", bibliography_matched_raw[0])\n",
    "            bib_tags_clean = [x.strip() for x in bib_tags_raw]\n",
    "            separator = ' '\n",
    "            jekyll_syntax_items = [\"{% bibliography\"]+[separator.join(['--file', x]) for x in bib_tags_clean]+[\"--cited %}\"]\n",
    "            chunk_new = separator.join(jekyll_syntax_items)\n",
    "            chunk_original = r'\\bibliography{'+bibliography_matched_raw[0]+'}'\n",
    "            item_modified = item.replace(chunk_original, chunk_new)\n",
    "            nb['cells'][i]['source'][j] = item_modified"
   ]
  },
  {
   "cell_type": "code",
   "execution_count": 150,
   "metadata": {},
   "outputs": [],
   "source": [
    "bib_filename = 'mybib'\n",
    "\n",
    "for i in range(len(nb['cells'])):\n",
    "    cell = nb['cells'][i]\n",
    "    for j in range(len(cell['source'])):\n",
    "        item = cell['source'][j]\n",
    "        \n",
    "        citations_matched_raw = re.findall(citations_pattern,item)\n",
    "        bibliography_matched_raw = re.findall(bibliography_pattern,item)\n",
    "        \n",
    "        if citations_matched_raw:\n",
    "            item_modified = replace_citation_syntax(citations_matched_raw, item)\n",
    "            nb['cells'][i]['source'][j] = item_modified\n",
    "\n",
    "        elif bibliography_matched_raw:\n",
    "            item_modified = replace_bibliography_syntax(bibliography_matched_raw, item)\n",
    "            nb['cells'][i]['source'][j] = item_modified"
   ]
  },
  {
   "cell_type": "code",
   "execution_count": 151,
   "metadata": {},
   "outputs": [],
   "source": [
    "with open('champsbook/content/02/booksprinttest_makrina_new2.ipynb','w') as fp:\n",
    "    json.dump(nb, fp)\n",
    "fp.close()"
   ]
  },
  {
   "cell_type": "code",
   "execution_count": null,
   "metadata": {},
   "outputs": [],
   "source": []
  },
  {
   "cell_type": "code",
   "execution_count": null,
   "metadata": {},
   "outputs": [],
   "source": []
  },
  {
   "cell_type": "code",
   "execution_count": null,
   "metadata": {},
   "outputs": [],
   "source": []
  },
  {
   "cell_type": "code",
   "execution_count": null,
   "metadata": {},
   "outputs": [],
   "source": []
  },
  {
   "cell_type": "markdown",
   "metadata": {},
   "source": [
    "#### LaTeX label/reference syntax"
   ]
  },
  {
   "cell_type": "markdown",
   "metadata": {},
   "source": [
    "Typical $\\LaTeX$ Markers:\n",
    "\n",
    "* `fig`\n",
    "* `tab`\n",
    "* `ch`\n",
    "* `sec`\n",
    "* `subsec`"
   ]
  },
  {
   "cell_type": "markdown",
   "metadata": {},
   "source": [
    "<span style='color:blue'>**TASK**</span>\n",
    "\n",
    "Replace `LaTeX` syntax in Jupyter Notebooks (`ipynb`)\n",
    "\n",
    "```latex\n",
    "# In some cell: inline reference\n",
    "Some text ... \\ref{maker:mylabel} ... and more text ...\n",
    "\n",
    ".\n",
    ".\n",
    ".\n",
    "# In another cell: a figure/table/section/subsection  with a label\n",
    "\\label{marker:mylabel}\n",
    "```\n",
    "\n",
    "with `Markdown` syntax\n",
    "\n",
    "```html\n",
    "# In some cell: inline reference\n",
    "Some text ... [maker:mylabel](#maker:mylabel) ... and more text ...\n",
    "\n",
    ".\n",
    ".\n",
    ".\n",
    "# In another cell: a figure/table/section/subsection  with a label\n",
    "<a id=\"maker:mylabel\"></a>\n",
    "```\n"
   ]
  },
  {
   "cell_type": "code",
   "execution_count": 14,
   "metadata": {},
   "outputs": [],
   "source": [
    "import json\n",
    "\n",
    "with open('champsbook/content/02/booksprinttest_makrina.ipynb','r') as fp:\n",
    "    nb = json.load(fp)\n",
    "fp.close()"
   ]
  },
  {
   "cell_type": "code",
   "execution_count": 17,
   "metadata": {},
   "outputs": [
    {
     "name": "stdout",
     "output_type": "stream",
     "text": [
      "Good! There aren't repeated labels in your file\n"
     ]
    }
   ],
   "source": [
    "def minimal_ordered_set(seq):\n",
    "    seen = set()\n",
    "    seen_add = seen.add\n",
    "    return [x for x in seq if not (x in seen or seen_add(x))]\n",
    "\n",
    "def get_labels_tags_dic(labels_pattern, nb):\n",
    "    COUNTER = 0\n",
    "    labels_tags_all = []\n",
    "    \n",
    "    for i in range(len(nb['cells'])):\n",
    "        cell = nb['cells'][i]\n",
    "        for j in range(len(cell['source'])):\n",
    "            item = cell['source'][j]\n",
    "            labels_matched_raw = re.findall(labels_pattern, item)\n",
    "\n",
    "            if labels_matched_raw:\n",
    "                COUNTER +=1\n",
    "                labels_tags = [s.translate({ord(i): None for i in strings_for_removal}) for s in labels_matched_raw]\n",
    "                labels_tags = list(set(labels_tags))\n",
    "                labels_tags_all += labels_tags\n",
    "    #############################################\n",
    "    # Test for non-repeated labels\n",
    "    #############################################\n",
    "    if COUNTER == len(labels_tags_all):\n",
    "        print(\"Good! There aren't repeated labels in your file\")\n",
    "        labels_tags_dic = {labels_tags_all[n]:str(n+1) for n in range(COUNTER)}\n",
    "        return labels_tags_dic\n",
    "    else:\n",
    "        print(\"There are repeated labels in your file. This will lead to errors\")\n",
    "\n",
    "labels_tags_dic = get_labels_tags_dic(labels_pattern, nb)\n",
    "        \n",
    "def replace_ref_syntax(refs_matched_raw, item):\n",
    "    refs_tags = [s.translate({ord(i): None for i in strings_for_removal}) for s in refs_matched_raw]\n",
    "    refs_tags = list(set(refs_tags))\n",
    "    #############################################\n",
    "    # Replace Markdown reference syntax\n",
    "    #############################################\n",
    "    x = refs_tags[0]\n",
    "    chunk_original = r'\\ref{'+marker+':'+x+'}'\n",
    "    x_number = labels_tags_dic[x]\n",
    "    chunk_new = '['+marker+':'+x_number+'](#'+x+')'\n",
    "    item_modified = item.replace(chunk_original, chunk_new)\n",
    "    return item_modified\n",
    "    \n",
    "def replace_label_syntax(labels_matched_raw, item):\n",
    "    labels_tags = [s.translate({ord(i): None for i in strings_for_removal}) for s in labels_matched_raw]\n",
    "    labels_tags = list(set(labels_tags))\n",
    "    #############################################\n",
    "    # Replace Markdown reference syntax\n",
    "    #############################################\n",
    "    x = labels_tags[0]\n",
    "    chunk_original = r'\\label{'+marker+':'+x+'}'\n",
    "    chunk_new = '\\n<a id=\"'+x+'\"></a>'\n",
    "    item_modified = item.replace(chunk_original, chunk_new)\n",
    "    return item_modified"
   ]
  },
  {
   "cell_type": "code",
   "execution_count": 18,
   "metadata": {
    "scrolled": true
   },
   "outputs": [],
   "source": [
    "marker = 'fig'\n",
    "strings_for_removal = ').,;:'\n",
    "\n",
    "labels_pattern = re.compile(r'\\\\label\\{'+marker+'(.+?)\\}')\n",
    "refs_pattern = re.compile(r'\\\\ref\\{'+marker+'(.+?)\\}')\n",
    "\n",
    "for i in range(len(nb['cells'])):\n",
    "    cell = nb['cells'][i]\n",
    "    for j in range(len(cell['source'])):\n",
    "        item = cell['source'][j]\n",
    "        refs_matched_raw = re.findall(refs_pattern,item)\n",
    "        labels_matched_raw = re.findall(labels_pattern, item)\n",
    "        \n",
    "        if refs_matched_raw and not labels_matched_raw:\n",
    "            item_modified = replace_ref_syntax(refs_matched_raw, item)\n",
    "            nb['cells'][i]['source'][j] = item_modified\n",
    "\n",
    "        elif labels_matched_raw and not refs_matched_raw:\n",
    "            item_modified = replace_label_syntax(labels_matched_raw, item)\n",
    "            nb['cells'][i]['source'][j] = item_modified\n",
    "\n",
    "        else:\n",
    "            pass"
   ]
  },
  {
   "cell_type": "code",
   "execution_count": null,
   "metadata": {},
   "outputs": [],
   "source": []
  },
  {
   "cell_type": "markdown",
   "metadata": {},
   "source": [
    "Save new JNB"
   ]
  },
  {
   "cell_type": "code",
   "execution_count": 19,
   "metadata": {},
   "outputs": [],
   "source": [
    "with open('champsbook/content/02/booksprinttest_makrina_new.ipynb','w') as fp:\n",
    "    json.dump(nb, fp)\n",
    "\n",
    "fp.close()"
   ]
  },
  {
   "cell_type": "markdown",
   "metadata": {},
   "source": [
    "#### SCRIPT"
   ]
  },
  {
   "cell_type": "code",
   "execution_count": 7,
   "metadata": {},
   "outputs": [
    {
     "name": "stdout",
     "output_type": "stream",
     "text": [
      "Overwriting scripts/labels_refs_latex2jekyll.py\n"
     ]
    }
   ],
   "source": [
    "%%writefile scripts/labels_refs_latex2jekyll.py\n",
    "\n",
    "def minimal_ordered_set(seq):\n",
    "    seen = set()\n",
    "    seen_add = seen.add\n",
    "    return [x for x in seq if not (x in seen or seen_add(x))]\n",
    "\n",
    "def get_labels_tags_dic(labels_pattern, nb):\n",
    "    COUNTER = 0\n",
    "    labels_tags_all = []\n",
    "    \n",
    "    for i in range(len(nb['cells'])):\n",
    "        cell = nb['cells'][i]\n",
    "        for j in range(len(cell['source'])):\n",
    "            item = cell['source'][j]\n",
    "            labels_matched_raw = re.findall(labels_pattern, item)\n",
    "\n",
    "            if labels_matched_raw:\n",
    "                COUNTER +=1\n",
    "                labels_tags = [s.translate({ord(i): None for i in strings_for_removal}) for s in labels_matched_raw]\n",
    "                labels_tags = list(set(labels_tags))\n",
    "                labels_tags_all += labels_tags\n",
    "    #############################################\n",
    "    # Test for non-repeated labels\n",
    "    #############################################\n",
    "    if COUNTER == len(labels_tags_all):\n",
    "        print(\"Good! There aren't repeated labels in your file\")\n",
    "        labels_tags_dic = {labels_tags_all[n]:str(n+1) for n in range(COUNTER)}\n",
    "        return labels_tags_dic\n",
    "    else:\n",
    "        print(\"There are repeated labels in your file. This will lead to errors\")\n",
    "\n",
    "def replace_ref_syntax(refs_matched_raw, item):\n",
    "    refs_tags = [s.translate({ord(i): None for i in strings_for_removal}) for s in refs_matched_raw]\n",
    "    refs_tags = list(set(refs_tags))\n",
    "    #############################################\n",
    "    # Replace Markdown reference syntax\n",
    "    #############################################\n",
    "    x = refs_tags[0]\n",
    "    chunk_original = r'\\ref{'+marker+':'+x+'}'\n",
    "    x_number = labels_tags_dic[x]\n",
    "    chunk_new = '['+marker+':'+x_number+'](#'+x+')'\n",
    "    item_modified = item.replace(chunk_original, chunk_new)\n",
    "    return item_modified\n",
    "    \n",
    "def replace_label_syntax(labels_matched_raw, item):\n",
    "    labels_tags = [s.translate({ord(i): None for i in strings_for_removal}) for s in labels_matched_raw]\n",
    "    labels_tags = list(set(labels_tags))\n",
    "    #############################################\n",
    "    # Replace Markdown reference syntax\n",
    "    #############################################\n",
    "    x = labels_tags[0]\n",
    "    chunk_original = r'\\label{'+marker+':'+x+'}'\n",
    "    chunk_new = '\\n<a id=\"'+x+'\"></a>'\n",
    "    item_modified = item.replace(chunk_original, chunk_new)\n",
    "    return item_modified\n",
    "\n",
    "def latex_to_jekyll_labels_refs(nb_infile, nb_outfile):\n",
    "    #############################################\n",
    "    # Search for LaTeX label/ref commands within cells' content (source)\n",
    "    #############################################\n",
    "    for i in range(len(nb['cells'])):\n",
    "        cell = nb['cells'][i]\n",
    "        for j in range(len(cell['source'])):\n",
    "            item = cell['source'][j]\n",
    "            refs_matched_raw = re.findall(refs_pattern,item)\n",
    "            labels_matched_raw = re.findall(labels_pattern, item)\n",
    "            #############################################\n",
    "            # Modify cell content with new syntax accordingly\n",
    "            #############################################\n",
    "            if refs_matched_raw and not labels_matched_raw:\n",
    "                item_modified = replace_ref_syntax(refs_matched_raw, item)\n",
    "                nb['cells'][i]['source'][j] = item_modified\n",
    "\n",
    "            elif labels_matched_raw and not refs_matched_raw:\n",
    "                item_modified = replace_label_syntax(labels_matched_raw, item)\n",
    "                nb['cells'][i]['source'][j] = item_modified\n",
    "\n",
    "            else:\n",
    "                pass\n",
    "    #############################################\n",
    "    # Modify cell content with new syntax accordingly\n",
    "    #############################################\n",
    "    with open(nb_outfile,'w') as fp:\n",
    "        json.dump(nb, fp)\n",
    "    fp.close()\n",
    "    print(\"New Notebook successfully generated\")\n",
    "\n",
    "if __name__ == \"__main__\":\n",
    "    import re\n",
    "    import sys\n",
    "    import json\n",
    "    #############################################\n",
    "    # Settings\n",
    "    #############################################\n",
    "    marker = 'fig'\n",
    "    strings_for_removal = ').,;:'\n",
    "\n",
    "    labels_pattern = re.compile(r'\\\\label\\{'+marker+'(.+?)\\}')\n",
    "    refs_pattern = re.compile(r'\\\\ref\\{'+marker+'(.+?)\\}')\n",
    "    #############################################\n",
    "    # Script input arguments \n",
    "    #############################################\n",
    "    nb_infile = sys.argv[1] \n",
    "    nb_outfile = sys.argv[2]\n",
    "    #############################################\n",
    "    # Load Jupyter Notebook as Dictionary\n",
    "    #############################################\n",
    "    try:\n",
    "        with open(nb_infile,'r') as fp:\n",
    "            nb = json.load(fp)\n",
    "        fp.close()\n",
    "        #############################################\n",
    "        # Turn LaTeX label/ref syntax in Jupyter Noteboks into MD syntax\n",
    "        #############################################\n",
    "        labels_tags_dic = get_labels_tags_dic(labels_pattern, nb)\n",
    "        latex_to_jekyll_labels_refs(nb_infile, nb_outfile)\n",
    "    except:\n",
    "        print(\"Couldn't find Jupyter Notebook. Check your input path\")"
   ]
  },
  {
   "cell_type": "markdown",
   "metadata": {},
   "source": [
    "TEST SCRIPT"
   ]
  },
  {
   "cell_type": "code",
   "execution_count": 66,
   "metadata": {},
   "outputs": [
    {
     "name": "stdout",
     "output_type": "stream",
     "text": [
      "Good! There aren't repeated labels in your file\n",
      "New Notebook successfully generated\n"
     ]
    }
   ],
   "source": [
    "%run scripts/labels_refs_latex2jekyll.py champsbook/content/02/booksprinttest_makrina.ipynb champsbook/content/02/booksprinttest_makrina_new.ipynb"
   ]
  },
  {
   "cell_type": "code",
   "execution_count": 67,
   "metadata": {},
   "outputs": [
    {
     "name": "stdout",
     "output_type": "stream",
     "text": [
      "Good! There aren't repeated labels in your file\n",
      "New Notebook successfully generated\n"
     ]
    }
   ],
   "source": [
    "%run scripts/labels_refs_latex2jekyll.py champsbook/content/01/ham_bif.ipynb champsbook/content/01/ham_bif_new.ipynb"
   ]
  },
  {
   "cell_type": "markdown",
   "metadata": {},
   "source": [
    "Matthaios JNB"
   ]
  },
  {
   "cell_type": "code",
   "execution_count": 29,
   "metadata": {},
   "outputs": [
    {
     "name": "stdout",
     "output_type": "stream",
     "text": [
      "Good! There aren't repeated labels in your file\n",
      "New Notebook successfully generated\n"
     ]
    }
   ],
   "source": [
    "%run scripts/labels_refs_latex2jekyll.py champsbook/content/06/caldera-1_new.ipynb champsbook/content/06/caldera-1_new2.ipynb"
   ]
  },
  {
   "cell_type": "markdown",
   "metadata": {},
   "source": [
    "##  Captions to Figures and Tables"
   ]
  },
  {
   "cell_type": "markdown",
   "metadata": {},
   "source": [
    "### <span style=\"color:red\">Markdown files</span>"
   ]
  },
  {
   "cell_type": "markdown",
   "metadata": {},
   "source": [
    "<span style='color:blue'>**TASK**</span>\n",
    "\n",
    "Replace `Markdown` syntax in `.md` files\n",
    ">```\n",
    "![This is a caption](mypic.png)\n",
    "```\n",
    "\n",
    "with styled HTML syntax \n",
    "\n",
    "```html\n",
    "<figcaption style=\"text-align:center;font-size:14px\"><b>fig:1 </b><em> This is a caption</em></figcaption>\n",
    "```"
   ]
  },
  {
   "cell_type": "markdown",
   "metadata": {},
   "source": [
    "TEST"
   ]
  },
  {
   "cell_type": "code",
   "execution_count": 38,
   "metadata": {},
   "outputs": [
    {
     "name": "stdout",
     "output_type": "stream",
     "text": [
      "Overwriting scripts/captions_md2html.py\n"
     ]
    }
   ],
   "source": [
    "%%writefile scripts/captions_md2html.py\n",
    "def replace_caption_syntax(captions_matched_raw, line):\n",
    "    caption = captions_matched_raw[0]\n",
    "    html_syntax_items = (\n",
    "        '<figcaption style=\"text-align:center;font-size:14px\">',\n",
    "        '<b>',\n",
    "        marker+':latex_label ',\n",
    "        '</b>',\n",
    "        '<em>'+' ',\n",
    "        caption,\n",
    "        '</em>',\n",
    "        '</figcaption>'\n",
    "    )\n",
    "    chunk_new = ''.join(html_syntax_items)\n",
    "    return line+chunk_new\n",
    "\n",
    "def markdown_to_html_captions(doc_lines, md_outfile):\n",
    "    with open(md_outfile,'w') as doc_outfile:\n",
    "        for line in doc_lines:\n",
    "            captions_matched_raw = re.findall(captions_pattern,line)\n",
    "            labels_matched_raw = re.findall(captions_pattern,line)\n",
    "            if captions_matched_raw:\n",
    "                line_modified = replace_caption_syntax(captions_matched_raw, line)\n",
    "                doc_outfile.write(line_modified)\n",
    "            else:\n",
    "                line_modified = line\n",
    "                doc_outfile.write(line_modified)\n",
    "        doc_outfile.close()\n",
    "        print(\"New Markdown file successfully generated!\")\n",
    "    \n",
    "if __name__ == \"__main__\":\n",
    "    import re\n",
    "    import sys\n",
    "    #############################################\n",
    "    # Settings\n",
    "    #############################################\n",
    "    marker = 'fig'\n",
    "    strings_for_removal = ').,;:'\n",
    "    \n",
    "    captions_pattern = re.compile(r'!\\[(.+?)\\]')\n",
    "    labels_pattern = re.compile('#'+marker+'(.+?)\\s')\n",
    "    #############################################\n",
    "    # Script input arguments (self-explanatory)\n",
    "    #############################################\n",
    "    md_infile = sys.argv[1]\n",
    "    md_outfile = sys.argv[2]\n",
    "    #############################################\n",
    "    # Extract all lines from input MD file\n",
    "    #############################################\n",
    "    try:\n",
    "        doc_infile = open(md_infile, 'r')\n",
    "        doc_lines = doc_infile.readlines()\n",
    "        doc_infile.close()\n",
    "        #############################################\n",
    "        # Turn MD file into jekyll-syntax modified file\n",
    "        #############################################\n",
    "        markdown_to_html_captions(doc_lines, md_outfile)\n",
    "    except:\n",
    "        print(\"Couldn't find Markdown file. Check your input path\")"
   ]
  },
  {
   "cell_type": "code",
   "execution_count": 39,
   "metadata": {},
   "outputs": [
    {
     "name": "stdout",
     "output_type": "stream",
     "text": [
      "New Markdown file successfully generated!\n"
     ]
    }
   ],
   "source": [
    "%run scripts/captions_md2html.py champsbook/content/03/Draft_new2.md champsbook/content/03/Draft_captions-html.md"
   ]
  },
  {
   "cell_type": "code",
   "execution_count": null,
   "metadata": {},
   "outputs": [],
   "source": [
    "import re\n",
    "marker = 'fig'\n",
    "strings_for_removal = ').,;:'\n",
    "labels_pattern = re.compile('#'+marker+'(.+?)\\s')\n",
    "refs_pattern = re.compile('@'+marker+'(.+?)\\s')"
   ]
  },
  {
   "cell_type": "raw",
   "metadata": {},
   "source": [
    "def replace_ref_syntax(refs_matched_raw, line):\n",
    "    refs_tags = [s.translate({ord(i): None for i in strings_for_removal}) for s in refs_matched_raw]\n",
    "    refs_tags = list(set(refs_tags))\n",
    "    #############################################\n",
    "    # Replace Markdown reference syntax\n",
    "    #############################################\n",
    "    line_modified = line\n",
    "    for x in refs_tags:\n",
    "        chunk_original = '@fig:'+x\n",
    "        chunk_new = '[Figure here](#'+x+')'\n",
    "        line_modified = line_modified.replace(chunk_original, chunk_new)\n",
    "    \n",
    "    return line_modified\n",
    "    \n",
    "def replace_label_syntax(labels_matched_raw, line):\n",
    "    labels_tags = [s.translate({ord(i): None for i in strings_for_removal}) for s in labels_matched_raw]\n",
    "    labels_tags = list(set(labels_tags))\n",
    "    #############################################\n",
    "    # Replace Markdown reference syntax\n",
    "    #############################################    \n",
    "    for x in labels_tags:\n",
    "        chunk_original = '{#fig:'+x+'}'\n",
    "        chunk_new = '\\n<a id=\"'+x+'\"></a>'\n",
    "        line_modified = re.sub(r'\\{#fig:'+x+'(.+?)\\}', chunk_new, line)\n",
    "    \n",
    "    return line_modified"
   ]
  },
  {
   "cell_type": "raw",
   "metadata": {},
   "source": [
    "for line in doc_lines:\n",
    "    refs_matched_raw = re.findall(refs_pattern,line)\n",
    "    labels_matched_raw = re.findall(labels_pattern, line)\n",
    "\n",
    "    if refs_matched_raw and not labels_matched_raw:\n",
    "        line_modified = replace_ref_syntax(refs_matched_raw, line)\n",
    "        print(line_modified)\n",
    "\n",
    "    elif labels_matched_raw and not refs_matched_raw:\n",
    "        line_modified = replace_label_syntax(labels_matched_raw, line)\n",
    "        print(line_modified)\n",
    "        \n",
    "    elif labels_matched_raw and refs_matched_raw:\n",
    "        line_modified = replace_label_syntax(labels_matched_raw, line)\n",
    "        line_modified = replace_ref_syntax(refs_matched_raw, line_modified)\n",
    "        print(line_modified)\n",
    "        \n",
    "    else:\n",
    "        line_modified = line\n",
    "        print(line_modified)"
   ]
  },
  {
   "cell_type": "raw",
   "metadata": {},
   "source": [
    "for line in doc_lines:\n",
    "    print(line)"
   ]
  },
  {
   "cell_type": "markdown",
   "metadata": {},
   "source": [
    "### Jupyter Notebooks"
   ]
  },
  {
   "cell_type": "markdown",
   "metadata": {},
   "source": [
    "<span style='color:blue'>**TASK**</span>\n",
    "\n",
    "Replace $\\LaTeX$ syntax in Jupyter Notebook (or even Markdown file)\n",
    ">```latex\n",
    "\\# Some figure with a label \n",
    "\\caption{This is a caption}\n",
    "```\n",
    "\n",
    "with styled HTML syntax\n",
    "\n",
    "```html\n",
    "<figcaption style=\"text-align:center;font-size:14px\"><b>latex_marker:latex_label </b><em>This is a caption</em></figcaption>\n",
    "```\n"
   ]
  },
  {
   "cell_type": "markdown",
   "metadata": {},
   "source": [
    "#### SCRIPT Version 1"
   ]
  },
  {
   "cell_type": "code",
   "execution_count": 4,
   "metadata": {},
   "outputs": [
    {
     "name": "stdout",
     "output_type": "stream",
     "text": [
      "Overwriting scripts/captions_latex2html.py\n"
     ]
    }
   ],
   "source": [
    "%%writefile scripts/captions_latex2html.py\n",
    "\n",
    "def replace_caption_syntax(captions_matched_raw, item):\n",
    "    caption = captions_matched_raw[0]\n",
    "    html_syntax_items = (\n",
    "        '<figcaption style=\"text-align:center;font-size:14px\">',\n",
    "        '<b>latex_marker:latex_label </b>',\n",
    "        '<em>'+' ',\n",
    "        caption,\n",
    "        '</em>',\n",
    "        '</figcaption>'\n",
    "    )\n",
    "    chunk_new = ''.join(html_syntax_items)\n",
    "    chunk_original = r'\\caption{'+caption+'}'\n",
    "    item_modified = item.replace(chunk_original, chunk_new)\n",
    "    return item_modified\n",
    "\n",
    "def latex_to_html_captions(nb, nb_outfile):\n",
    "    for i in range(len(nb['cells'])):\n",
    "        cell = nb['cells'][i]\n",
    "        for j in range(len(cell['source'])):\n",
    "            item = cell['source'][j]\n",
    "\n",
    "            captions_matched_raw = re.findall(captions_pattern,item)\n",
    "            if captions_matched_raw:\n",
    "                item_modified = replace_caption_syntax(captions_matched_raw, item)\n",
    "                nb['cells'][i]['source'][j] = item_modified\n",
    "\n",
    "    #############################################\n",
    "    # Modify cell content with new syntax accordingly\n",
    "    #############################################\n",
    "    with open(nb_outfile,'w') as fp:\n",
    "        json.dump(nb, fp)\n",
    "    fp.close()\n",
    "    print(\"New Notebook successfully generated\")\n",
    "    \n",
    "\n",
    "if __name__ == \"__main__\":\n",
    "    import re\n",
    "    import sys\n",
    "    import json\n",
    "    #############################################\n",
    "    # Settings\n",
    "    #############################################\n",
    "    captions_pattern = re.compile(r'\\\\caption\\{(.+?)\\}$')\n",
    "    #############################################\n",
    "    # Script input arguments (self-explanatory)\n",
    "    #############################################\n",
    "    nb_infile = sys.argv[1]\n",
    "    nb_outfile = sys.argv[2]\n",
    "    #############################################\n",
    "    # Load Jupyter Notebook as Dictionary\n",
    "    #############################################\n",
    "    try:\n",
    "        with open(nb_infile,'r') as fp:\n",
    "            nb = json.load(fp)\n",
    "        fp.close()\n",
    "        #############################################\n",
    "        # Turn LaTeX label/ref syntax in Jupyter Noteboks into MD syntax\n",
    "        #############################################\n",
    "        latex_to_html_captions(nb, nb_outfile)\n",
    "    except:\n",
    "        print(\"Couldn't find Jupyter Notebook. Check your input path\")"
   ]
  },
  {
   "cell_type": "markdown",
   "metadata": {},
   "source": [
    "**SCRIPT TEST**"
   ]
  },
  {
   "cell_type": "code",
   "execution_count": 1,
   "metadata": {},
   "outputs": [
    {
     "name": "stdout",
     "output_type": "stream",
     "text": [
      "New Notebook successfully generated\n"
     ]
    }
   ],
   "source": [
    "nb_infile = 'champsbook/content/02/booksprinttest_makrina_latex-captions.ipynb'\n",
    "nb_outfile = 'champsbook/content/02/booksprinttest_makrina_html-captions.ipynb'\n",
    "%run scripts/captions_latex2html.py $nb_infile $nb_outfile"
   ]
  },
  {
   "cell_type": "code",
   "execution_count": 2,
   "metadata": {},
   "outputs": [
    {
     "name": "stdout",
     "output_type": "stream",
     "text": [
      "New Notebook successfully generated\n"
     ]
    }
   ],
   "source": [
    "nb_infile = 'champsbook/content/01/ham_bif_latex-captions.ipynb'\n",
    "nb_outfile = 'champsbook/content/01/ham_bif_html-captions.ipynb'\n",
    "%run scripts/captions_latex2html.py $nb_infile $nb_outfile"
   ]
  },
  {
   "cell_type": "code",
   "execution_count": 5,
   "metadata": {},
   "outputs": [
    {
     "name": "stdout",
     "output_type": "stream",
     "text": [
      "New Notebook successfully generated\n"
     ]
    }
   ],
   "source": [
    "%run scripts/captions_latex2html.py champsbook/content/06/caldera-1_new2.ipynb champsbook/content/06/caldera-1_new3.ipynb"
   ]
  },
  {
   "cell_type": "markdown",
   "metadata": {},
   "source": [
    "#### SCRIPT Version 2"
   ]
  },
  {
   "cell_type": "markdown",
   "metadata": {},
   "source": [
    "Turn LaTeX captions to HTML and add Figure labels in caption"
   ]
  },
  {
   "cell_type": "code",
   "execution_count": 106,
   "metadata": {},
   "outputs": [
    {
     "name": "stdout",
     "output_type": "stream",
     "text": [
      "Overwriting scripts/captions_latex2html.py\n"
     ]
    }
   ],
   "source": [
    "%%writefile scripts/captions_latex2html.py\n",
    "def minimal_ordered_set(seq):\n",
    "    seen = set()\n",
    "    seen_add = seen.add\n",
    "    return [x for x in seq if not (x in seen or seen_add(x))]\n",
    "\n",
    "def get_labels_tags_dic(labels_pattern, nb):\n",
    "    COUNTER = 0\n",
    "    labels_tags_all = []\n",
    "    \n",
    "    for i in range(len(nb['cells'])):\n",
    "        cell = nb['cells'][i]\n",
    "        for j in range(len(cell['source'])):\n",
    "            item = cell['source'][j]\n",
    "            labels_matched_raw = re.findall(labels_pattern, item)\n",
    "\n",
    "            if labels_matched_raw:\n",
    "                COUNTER +=1\n",
    "                labels_tags = [s.translate({ord(i): None for i in strings_for_removal}) for s in labels_matched_raw]\n",
    "                labels_tags = list(set(labels_tags))\n",
    "                labels_tags_all += labels_tags\n",
    "    #############################################\n",
    "    # Test for non-repeated labels\n",
    "    #############################################\n",
    "    if COUNTER == len(labels_tags_all):\n",
    "        print(\"Good! There aren't repeated labels in your file\")\n",
    "        labels_tags_dic = {labels_tags_all[n]:str(n+1) for n in range(COUNTER)}\n",
    "        return labels_tags_dic\n",
    "    else:\n",
    "        print(\"There are repeated labels in your file. This will lead to errors\")\n",
    "\n",
    "def replace_caption_syntax(captions_matched_raw, cell_number, item):\n",
    "    caption = captions_matched_raw[0]\n",
    "    cell_content = nb['cells'][cell_number]['source']\n",
    "    labels_matched_raw = [x for x in cell_content if re.search(labels_pattern_html, x)]\n",
    "    #############################################\n",
    "    # Here the label pattern can be modified either as LaTeX or HTML\n",
    "    #############################################\n",
    "    labels_tags_dic = get_labels_tags_dic(labels_pattern_html, nb)\n",
    "    label = re.findall(labels_pattern_html, labels_matched_raw[0])\n",
    "    #############################################\n",
    "    html_syntax_items = (\n",
    "        '<figcaption style=\"text-align:center;font-size:14px\">',\n",
    "        '<b>',\n",
    "        marker+':'+labels_tags_dic[label[0]]+' ',\n",
    "        '</b>',\n",
    "        '<em>'+' ',\n",
    "        caption,\n",
    "        '</em>',\n",
    "        '</figcaption>'\n",
    "    )\n",
    "    chunk_new = ''.join(html_syntax_items)\n",
    "    chunk_original = r'\\caption{'+caption+'}'\n",
    "    item_modified = item.replace(chunk_original, chunk_new)\n",
    "    return item_modified\n",
    "\n",
    "def latex_to_html_captions(nb, nb_outfile):\n",
    "    for i in range(len(nb['cells'])):\n",
    "        cell = nb['cells'][i]\n",
    "        for j in range(len(cell['source'])):\n",
    "            item = cell['source'][j]\n",
    "\n",
    "            captions_matched_raw = re.findall(captions_pattern,item)\n",
    "            if captions_matched_raw:\n",
    "                cell_number = i\n",
    "                item_modified = replace_caption_syntax(captions_matched_raw, cell_number, item)\n",
    "                nb['cells'][i]['source'][j] = item_modified\n",
    "\n",
    "    #############################################\n",
    "    # Modify cell content with new syntax accordingly\n",
    "    #############################################\n",
    "    with open(nb_outfile,'w') as fp:\n",
    "        json.dump(nb, fp)\n",
    "    fp.close()\n",
    "    print(\"New Notebook successfully generated\")\n",
    "    \n",
    "\n",
    "if __name__ == \"__main__\":\n",
    "    import re\n",
    "    import sys\n",
    "    import json\n",
    "    #############################################\n",
    "    # Settings\n",
    "    #############################################\n",
    "    marker = 'fig'\n",
    "    strings_for_removal = ').,;:'\n",
    "#     labels_pattern_latex = re.compile(r'\\\\label\\{'+marker+'(.+?)\\}')\n",
    "    labels_pattern_html = re.compile(r'<a id=(.+?)></a>')\n",
    "    captions_pattern = re.compile(r'\\\\caption\\{(.+?)\\}$')\n",
    "    #############################################\n",
    "    # Script input arguments (self-explanatory)\n",
    "    #############################################\n",
    "    nb_infile = sys.argv[1]\n",
    "    nb_outfile = sys.argv[2]\n",
    "    #############################################\n",
    "    # Load Jupyter Notebook as Dictionary\n",
    "    #############################################\n",
    "    try:\n",
    "        with open(nb_infile,'r') as fp:\n",
    "            nb = json.load(fp)\n",
    "        fp.close()\n",
    "        #############################################\n",
    "        # Turn LaTeX label/ref syntax in Jupyter Noteboks into MD syntax\n",
    "        #############################################\n",
    "        latex_to_html_captions(nb, nb_outfile)\n",
    "    except:\n",
    "        print(\"Couldn't find Jupyter Notebook. Check your input path\")"
   ]
  },
  {
   "cell_type": "markdown",
   "metadata": {},
   "source": [
    "**SCRIPT TESTS**"
   ]
  },
  {
   "cell_type": "code",
   "execution_count": 108,
   "metadata": {},
   "outputs": [
    {
     "name": "stdout",
     "output_type": "stream",
     "text": [
      "Good! There aren't repeated labels in your file\n",
      "New Notebook successfully generated\n"
     ]
    }
   ],
   "source": [
    "nb_infile = 'champsbook/content/02/booksprinttest_makrina_latex-captions.ipynb'\n",
    "nb_outfile = 'champsbook/content/02/booksprinttest_makrina_html-captions.ipynb'\n",
    "%run scripts/captions_latex2html.py $nb_infile $nb_outfile"
   ]
  },
  {
   "cell_type": "code",
   "execution_count": 107,
   "metadata": {},
   "outputs": [
    {
     "name": "stdout",
     "output_type": "stream",
     "text": [
      "Good! There aren't repeated labels in your file\n",
      "Good! There aren't repeated labels in your file\n",
      "New Notebook successfully generated\n"
     ]
    }
   ],
   "source": [
    "nb_infile = 'champsbook/content/01/ham_bif_latex-captions.ipynb'\n",
    "nb_outfile = 'champsbook/content/01/ham_bif_html-captions.ipynb'\n",
    "%run scripts/captions_latex2html.py $nb_infile $nb_outfile"
   ]
  },
  {
   "cell_type": "markdown",
   "metadata": {},
   "source": [
    "## **CURATED METHODS**"
   ]
  },
  {
   "cell_type": "code",
   "execution_count": null,
   "metadata": {},
   "outputs": [],
   "source": []
  },
  {
   "cell_type": "markdown",
   "metadata": {},
   "source": [
    "## Converting Image Formats "
   ]
  },
  {
   "cell_type": "markdown",
   "metadata": {},
   "source": [
    "Embedding of PDF images in Jupyter and HTML is not supported.\n",
    "\n",
    "So, this require either to convert the image to a differnt format (`jpg`, `.png`) or to encode the PDF image as an econded string chain (`Base64`)"
   ]
  },
  {
   "cell_type": "markdown",
   "metadata": {},
   "source": [
    "There are multiple options available to acchieve the first this task. While for the other, "
   ]
  },
  {
   "cell_type": "markdown",
   "metadata": {},
   "source": [
    "<span style='color:red'><b>TO-DO</b></span>\n"
   ]
  },
  {
   "cell_type": "code",
   "execution_count": 25,
   "metadata": {},
   "outputs": [
    {
     "name": "stdout",
     "output_type": "stream",
     "text": [
      "Draft.md                Draft_new2.md           SB_model.png\r\n",
      "Draft.pdf               LDT1m1_R1P1.png         TransitT.png\r\n",
      "Draft_captions-html.md  PES.png                 \u001b[1m\u001b[34mimages\u001b[m\u001b[m/\r\n",
      "Draft_new.md            PODS_DSshape.png        untitled.md\r\n"
     ]
    }
   ],
   "source": [
    "ls champsbook/content/03/"
   ]
  },
  {
   "cell_type": "code",
   "execution_count": 16,
   "metadata": {},
   "outputs": [
    {
     "name": "stderr",
     "output_type": "stream",
     "text": [
      "convert: unable to open image 'champsbook/content/01/2': No such file or directory @ error/blob.c/OpenBlob/3485.\n",
      "convert: no decode delegate for this image format `' @ error/constitute.c/ReadImage/556.\n",
      "convert: no images defined `champsbook/content/01/2jpg' @ error/convert.c/ConvertImageCommand/3300.\n",
      "convert: unable to open image 'DoF': No such file or directory @ error/blob.c/OpenBlob/3485.\n",
      "convert: no decode delegate for this image format `' @ error/constitute.c/ReadImage/556.\n",
      "convert: no images defined `DoFjpg' @ error/convert.c/ConvertImageCommand/3300.\n",
      "convert: unable to open image 'index': No such file or directory @ error/blob.c/OpenBlob/3485.\n",
      "convert: no decode delegate for this image format `' @ error/constitute.c/ReadImage/556.\n",
      "convert: no images defined `indexjpg' @ error/convert.c/ConvertImageCommand/3300.\n",
      "convert: unable to open image '1': No such file or directory @ error/blob.c/OpenBlob/3485.\n",
      "convert: no decode delegate for this image format `' @ error/constitute.c/ReadImage/556.\n",
      "convert: no images defined `1jpg' @ error/convert.c/ConvertImageCommand/3300.\n",
      "convert: unable to open image 'saddle.pdf': No such file or directory @ error/blob.c/OpenBlob/3485.\n",
      "convert: no images defined `saddle.jpg' @ error/convert.c/ConvertImageCommand/3300.\n",
      "convert: unable to open image 'champsbook/content/01/3': No such file or directory @ error/blob.c/OpenBlob/3485.\n",
      "convert: no decode delegate for this image format `' @ error/constitute.c/ReadImage/556.\n",
      "convert: no images defined `champsbook/content/01/3jpg' @ error/convert.c/ConvertImageCommand/3300.\n",
      "convert: unable to open image 'DoF': No such file or directory @ error/blob.c/OpenBlob/3485.\n",
      "convert: no decode delegate for this image format `' @ error/constitute.c/ReadImage/556.\n",
      "convert: no images defined `DoFjpg' @ error/convert.c/ConvertImageCommand/3300.\n",
      "convert: unable to open image 'index': No such file or directory @ error/blob.c/OpenBlob/3485.\n",
      "convert: no decode delegate for this image format `' @ error/constitute.c/ReadImage/556.\n",
      "convert: no images defined `indexjpg' @ error/convert.c/ConvertImageCommand/3300.\n",
      "convert: unable to open image '1': No such file or directory @ error/blob.c/OpenBlob/3485.\n",
      "convert: no decode delegate for this image format `' @ error/constitute.c/ReadImage/556.\n",
      "convert: no images defined `1jpg' @ error/convert.c/ConvertImageCommand/3300.\n",
      "convert: unable to open image 'saddle.pdf': No such file or directory @ error/blob.c/OpenBlob/3485.\n",
      "convert: no images defined `saddle.jpg' @ error/convert.c/ConvertImageCommand/3300.\n",
      "convert: unable to open image 'champsbook/content/01/book': No such file or directory @ error/blob.c/OpenBlob/3485.\n",
      "convert: no decode delegate for this image format `' @ error/constitute.c/ReadImage/556.\n",
      "convert: no images defined `champsbook/content/01/bookjpg' @ error/convert.c/ConvertImageCommand/3300.\n",
      "convert: unable to open image 'sprint': No such file or directory @ error/blob.c/OpenBlob/3485.\n",
      "convert: no decode delegate for this image format `' @ error/constitute.c/ReadImage/556.\n",
      "convert: no images defined `sprintjpg' @ error/convert.c/ConvertImageCommand/3300.\n",
      "convert: unable to open image 'intro.pdf': No such file or directory @ error/blob.c/OpenBlob/3485.\n",
      "convert: no images defined `intro.jpg' @ error/convert.c/ConvertImageCommand/3300.\n",
      "convert: unable to open image 'champsbook/content/01/index': No such file or directory @ error/blob.c/OpenBlob/3485.\n",
      "convert: no decode delegate for this image format `' @ error/constitute.c/ReadImage/556.\n",
      "convert: no images defined `champsbook/content/01/indexjpg' @ error/convert.c/ConvertImageCommand/3300.\n",
      "convert: unable to open image '2': No such file or directory @ error/blob.c/OpenBlob/3485.\n",
      "convert: no decode delegate for this image format `' @ error/constitute.c/ReadImage/556.\n",
      "convert: no images defined `2jpg' @ error/convert.c/ConvertImageCommand/3300.\n",
      "convert: unable to open image 'saddle.pdf': No such file or directory @ error/blob.c/OpenBlob/3485.\n",
      "convert: no images defined `saddle.jpg' @ error/convert.c/ConvertImageCommand/3300.\n",
      "convert: unable to open image 'champsbook/content/01/saddle': No such file or directory @ error/blob.c/OpenBlob/3485.\n",
      "convert: no decode delegate for this image format `' @ error/constitute.c/ReadImage/556.\n",
      "convert: no images defined `champsbook/content/01/saddlejpg' @ error/convert.c/ConvertImageCommand/3300.\n",
      "convert: unable to open image 'index': No such file or directory @ error/blob.c/OpenBlob/3485.\n",
      "convert: no decode delegate for this image format `' @ error/constitute.c/ReadImage/556.\n",
      "convert: no images defined `indexjpg' @ error/convert.c/ConvertImageCommand/3300.\n",
      "convert: unable to open image 'definition.pdf': No such file or directory @ error/blob.c/OpenBlob/3485.\n",
      "convert: no images defined `definition.jpg' @ error/convert.c/ConvertImageCommand/3300.\n"
     ]
    }
   ],
   "source": [
    "%%bash\n",
    "for f in `ls champsbook/content/*/*.pdf`; do convert -density 144 \"$f\" \"${f%pdf}png\"; done"
   ]
  },
  {
   "cell_type": "code",
   "execution_count": 19,
   "metadata": {},
   "outputs": [
    {
     "name": "stdout",
     "output_type": "stream",
     "text": [
      "champsbook/content/01/1_DOF_saddle.pdf\r\n",
      "champsbook/content/01/2 DoF index 1 saddle.pdf\r\n",
      "champsbook/content/01/3 DoF index 1 saddle.pdf\r\n",
      "champsbook/content/01/book sprint intro.pdf\r\n",
      "champsbook/content/01/ham_bif.pdf\r\n",
      "champsbook/content/01/ham_pitch.pdf\r\n",
      "champsbook/content/01/index 2 saddle.pdf\r\n",
      "champsbook/content/01/saddle index definition.pdf\r\n",
      "champsbook/content/02/phasePort_symm_1D_xDoF.pdf\r\n",
      "champsbook/content/03/Draft.pdf\r\n",
      "champsbook/content/04/booksprint_test.pdf\r\n",
      "champsbook/content/05/allinone_coupled.pdf\r\n",
      "champsbook/content/05/allinone_tpcd.pdf\r\n",
      "champsbook/content/05/paper.pdf\r\n",
      "champsbook/content/05/quad-normal-form.pdf\r\n",
      "champsbook/content/06/caldera.pdf\r\n",
      "champsbook/content/07/LagDesc.pdf\r\n"
     ]
    }
   ],
   "source": [
    "ls champsbook/content/*/*.pdf"
   ]
  },
  {
   "cell_type": "markdown",
   "metadata": {},
   "source": [
    "## Customising the appearance"
   ]
  },
  {
   "cell_type": "markdown",
   "metadata": {},
   "source": [
    "Most of the changes to the apperance of the output `jekyll` pages should be dones through the file\n",
    "\n",
    "`_sass/page/components/_components.page.scss`\n"
   ]
  },
  {
   "cell_type": "markdown",
   "metadata": {},
   "source": [
    "Check this file\n",
    "\n",
    "http://localhost:8888/edit/champs-booksprint-planning/demo/champsbook/_sass/page/settings/settings.global.scss"
   ]
  },
  {
   "cell_type": "markdown",
   "metadata": {},
   "source": [
    "### Modify alignment of main text"
   ]
  },
  {
   "cell_type": "markdown",
   "metadata": {},
   "source": [
    "To modify the text-alignment do this under the CSS class `jb_cell`, as below\n",
    "\n",
    "```css\n",
    "div.jb_cell {\n",
    "  width: 100%;\n",
    "  position: relative;\n",
    "  text-align: justify; /* Add this line to justify text */\n",
    "  .\n",
    "  .\n",
    "  .\n",
    "}\n",
    "```"
   ]
  },
  {
   "cell_type": "markdown",
   "metadata": {},
   "source": [
    "### Modification of image elements"
   ]
  },
  {
   "cell_type": "markdown",
   "metadata": {},
   "source": [
    "As above, to modify image features just modify the attributes of `img { ... }` as below"
   ]
  },
  {
   "cell_type": "markdown",
   "metadata": {},
   "source": [
    "```css\n",
    ".output_png img,\n",
    "div.text_cell_render > p > img,\n",
    "div.text_cell_render > p > a > img {\n",
    "  max-width: 500px; /* Given by default. Important to keep image within textwidth */\n",
    "  width: auto; /* Adjuts all image widths to maximum */\n",
    "  height: auto; /* Adjusts height automatically to preserve aspect ratio */\n",
    "  display: block;\n",
    "  margin-left: auto;\n",
    "  margin-right: auto;\n",
    "}\n",
    "```"
   ]
  },
  {
   "cell_type": "markdown",
   "metadata": {},
   "source": [
    "## Things to avoid during editing"
   ]
  },
  {
   "cell_type": "markdown",
   "metadata": {},
   "source": [
    "### SUGGESSTIONS"
   ]
  },
  {
   "cell_type": "markdown",
   "metadata": {},
   "source": [
    "* Avoid using `\\today` in Markdown files.\n",
    "* Add common `media` folder to their working directory for ease\n",
    "* Turn `.pdf` images to `.png`\n",
    "* For unumbered equations, avoid using `\\[ ... \\]` syntax. This doesn't get renderred in site.\n",
    "* Logo must be square\n",
    "* It accepts `*` notation to disable numbered equations, that is\n",
    ">```\n",
    "\\begin{equation*}\n",
    ".\n",
    ".\n",
    ".\n",
    "\\end{equation*}\n",
    "```\n",
    "* Avoid identical labels for different equations\n",
    "* `title`s in Markdown `.md` files will be chosen over titles defined in the configuration (`config.yml`) file"
   ]
  },
  {
   "cell_type": "markdown",
   "metadata": {},
   "source": [
    "**R Markdown stuff to avoid**"
   ]
  },
  {
   "cell_type": "markdown",
   "metadata": {},
   "source": [
    "Original "
   ]
  },
  {
   "cell_type": "raw",
   "metadata": {},
   "source": [
    "$$ \\frac{p_x^2}{2\\mu_x}+\\frac{p_y^2}{2\\mu_y}=E-V(x_i,y_i) $${#eq:DSGeomEq}"
   ]
  },
  {
   "cell_type": "markdown",
   "metadata": {},
   "source": [
    "Do instead"
   ]
  },
  {
   "cell_type": "raw",
   "metadata": {},
   "source": [
    "$$ \\frac{p_x^2}{2\\mu_x}+\\frac{p_y^2}{2\\mu_y}=E-V(x_i,y_i) \\label{DSGeomEq}$$"
   ]
  },
  {
   "cell_type": "markdown",
   "metadata": {},
   "source": [
    "### Unicode symbols"
   ]
  },
  {
   "cell_type": "markdown",
   "metadata": {},
   "source": [
    "https://www.w3schools.com/charsets/ref_utf_letterlike.asp"
   ]
  },
  {
   "cell_type": "markdown",
   "metadata": {},
   "source": [
    "`$\\unicode{x212B}$` renders as $\\unicode{x212B}$"
   ]
  },
  {
   "cell_type": "markdown",
   "metadata": {},
   "source": [
    "### Errors in bibliography files"
   ]
  },
  {
   "cell_type": "markdown",
   "metadata": {},
   "source": [
    "```bibtex\n",
    "@Article{Ezra2019,\n",
    "  AUTHOR= { Ezra, G. S. and Wiggins, S. },\n",
    "  TITLE\t\t= {The Chesnavich Model for Ion-Molecule Reactions: A Rigid Body Coupled to a Particle },\n",
    "  JOURNAL\t= {Int. J. Bifurcation Chaos},\n",
    "  VOLUME\t= {29},\n",
    "  YEAR\t\t=  {2019},\n",
    "  NUMBER\t= {2},\n",
    "  PAGES\t\t= {1950025},\n",
    "  DOI\t\t= {10.1142/S0218127419500251}\n",
    "}\n",
    "```"
   ]
  },
  {
   "cell_type": "markdown",
   "metadata": {},
   "source": [
    "All tags should be in bib file, if there is one missing, this will lead to error"
   ]
  },
  {
   "cell_type": "markdown",
   "metadata": {},
   "source": [
    "Latex Syntax fails\n"
   ]
  },
  {
   "cell_type": "code",
   "execution_count": null,
   "metadata": {},
   "outputs": [],
   "source": []
  }
 ],
 "metadata": {
  "kernelspec": {
   "display_name": "Python 3",
   "language": "python",
   "name": "python3"
  },
  "language_info": {
   "codemirror_mode": {
    "name": "ipython",
    "version": 3
   },
   "file_extension": ".py",
   "mimetype": "text/x-python",
   "name": "python",
   "nbconvert_exporter": "python",
   "pygments_lexer": "ipython3",
   "version": "3.7.1"
  },
  "latex_envs": {
   "LaTeX_envs_menu_present": true,
   "autoclose": false,
   "autocomplete": true,
   "bibliofile": "/Users/bas/research/book_sprint/champs-booksprint-planning/convert_tex2html/article_test/sample.bib",
   "cite_by": "apalike",
   "current_citInitial": 1,
   "eqLabelWithNumbers": true,
   "eqNumInitial": 1,
   "hotkeys": {
    "equation": "Ctrl-E",
    "itemize": "Ctrl-I"
   },
   "labels_anchors": false,
   "latex_user_defs": false,
   "report_style_numbering": false,
   "user_envs_cfg": false
  },
  "toc": {
   "base_numbering": 1,
   "nav_menu": {},
   "number_sections": false,
   "sideBar": true,
   "skip_h1_title": false,
   "title_cell": "Table of Contents",
   "title_sidebar": "Contents",
   "toc_cell": false,
   "toc_position": {
    "height": "calc(100% - 180px)",
    "left": "10px",
    "top": "150px",
    "width": "384px"
   },
   "toc_section_display": true,
   "toc_window_display": true
  }
 },
 "nbformat": 4,
 "nbformat_minor": 2
}
