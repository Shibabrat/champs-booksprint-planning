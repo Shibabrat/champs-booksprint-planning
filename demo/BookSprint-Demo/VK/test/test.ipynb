{
 "cells": [
  {
   "cell_type": "markdown",
   "metadata": {},
   "source": [
    "# Introduction\n",
    "\\label{sec:intro}"
   ]
  },
  {
   "cell_type": "markdown",
   "metadata": {},
   "source": [
    "This paper is outlined as follows: In Sec. \\ref{sec:CMR} we introduce Chesnavich's Hamiltonian model  \n",
    "for ion-molecule reaction and discuss the dynamical mechanism underlying roaming in \n",
    "terms of families of unstable periodic orbits and their associated invariant manifolds."
   ]
  },
  {
   "cell_type": "markdown",
   "metadata": {},
   "source": [
    "# Chesnavich's Model and Roaming\n",
    "\\label{sec:CMR}"
   ]
  },
  {
   "cell_type": "markdown",
   "metadata": {},
   "source": [
    "## Chesnavich's Model Hamiltonian"
   ]
  },
  {
   "cell_type": "markdown",
   "metadata": {},
   "source": [
    "The  CH$_4^+$ model due to Chesnavich  is a 2 degree of freedom Hamiltonian system  \n",
    "comprised of a rigid CH$_3^+$ molecule (core) and a mobile H atom {% cite Chesnavich1986 %}. \n",
    "The system Hamiltonian is {% cite ezra2019chesnavich %}\n",
    "\n",
    "\\begin{equation}\n",
    "H(r,\\theta,p_r, p_\\theta) = \\frac{1}{2} \\frac{p_r^2}{\\mu} + \\frac{1}{2}p_\\theta^2 \\left(\\frac{1}{\\mu r^2}+\\frac{1}{I_{CH_3}}\\right) + U(r,\\theta),\n",
    "\\label{eq:chesHam}\n",
    "\\end{equation}\n",
    "\n",
    "where $(r, \\theta, \\phi)$ are polar coordinates describing the position of the \n",
    "H-atom in a body-fixed frame attached to the CH$_3^+$ core\n",
    "(the coordinate $\\phi$ is ignorable in this model).  \n",
    "The reduced mass of the system is given by the expression \n",
    "$\\mu=\\frac{m_{CH_3}m_{H}}{m_{CH_3}+m_{H}}$, where $m_{H}=1.007825$ u and $m_{CH_3}=3m_{H}+12.0$ u, \n",
    "and the moment of inertia of the rigid body CH$_3^+$ has the value  $I_{CH_3}=2.373409$~u\\AA$^2$.\n",
    "\n",
    "The potential energy function $U(r,\\theta)$ is made up  of a radial long range potential\n",
    "energy term $U_{CH}$ and a short range potential $U_{coup}$ that models the short range anisotropy of the rigid CH$_3^+$ core:\n",
    "\n",
    "\\begin{equation}\\label{eq:U}\n",
    " U(r,\\theta ) = U_{CH} (r) + U_{coup} (r,\\theta).\n",
    "\\end{equation}\n",
    "\n",
    "The topography of the potential energy surface  is characterised by two deep wells that \n",
    "correspond to the  bound CH$_4^+$, two areas of high potential and a flat area to the outside \n",
    "of these features as shown in Fig. \\ref{fig:pot}."
   ]
  },
  {
   "cell_type": "markdown",
   "metadata": {},
   "source": [
    "<figure class=\"image\">\n",
    " <img width=\"560\" height=\"315\" src=\"figure1.jpg\">\n",
    " <figcaption>Contour plot of Chesnavich's potential energy surface $U$ for $a=1$. Dashed lines correspond to $U<0$, solid lines correspond to $U\\geq0$. Contours correspond to values of potential shown on the colorbar to the right, with some values indicated in the plot. This figure is from {% cite krajnak2018influence %}.\n",
    "<!-- <\\figcaption>\n",
    "<\\figure> -->\n",
    "\\label{fig:pot}"
   ]
  },
  {
   "cell_type": "markdown",
   "metadata": {},
   "source": [
    "The long range potential has the form:\n",
    "\\begin{equation}\\label{eq:UCH}\n",
    " U_{CH} (r) =  \\frac{D_e}{c_1 - 6} \\left( 2 (3-c_2) e^{c_1 (1-x)}  - \\left( 4 c_2 - c_1 c_2 + c_1 \\right) x^{-6} - (c_1 - 6) c_2 x^{-4} \\right), \n",
    "\\end{equation}\n",
    "where $x = \\frac{r}{r_e}$ and we take the  parameter values as  in the original work {% cite Chesnavich1986 %}.\n",
    "The short range hindered rotor  potential $U_{coup}$ has the form:\n",
    "\\begin{equation}\\label{eq:Ucoup}\n",
    " U_{coup} (r,\\theta) = \\frac{U_e e^{-a(r-r_e)^2}}{2} (1 - \\cos 2 \\theta ),\n",
    "\\end{equation}\n",
    "where $U_e$ is the equilibrium barrier height. \n",
    "The distance at which the  transition occurs from rotation to vibration is \n",
    "determined by the parameter $a$ (in \\AA$^{-2}$). \n",
    "Various values of $a$ have been considered in previous works. In particular,  \n",
    "$a=1$ {% cite Chesnavich1986,mauguiere2014roaming,mauguiere2014multiple,krajnak2018phase %}, \n",
    "$a=4$ {% cite Chesnavich1986,mauguiere2014roaming %} and a range of values $0.7\\leq a\\leq 8$. {% cite krajnak2018influence %}\n",
    "\n",
    "The CH$_3^+$ core is a symmetric top in Chesnavich's model. \n",
    "Although the range of the coordinate $\\theta$ is $0 \\leq \\theta \\leq \\pi$, \n",
    "in the planar (zero overall angular momentum) version of the model the range of $\\theta$ \n",
    "is extended to $0 \\leq \\theta \\leq 2 \\pi$, and the potential has a four-fold symmetry:\n",
    "\\begin{equation}\n",
    "U(r,\\theta)=U(r,-\\theta)=U(r,\\pi-\\theta)=U(r,\\pi+\\theta).\n",
    "\\label{eq:sym}\n",
    "\\end{equation}\n",
    "\n",
    "The potential admits four pairs of equilibrium points pairwise related by symmetry \\eqref{eq:sym}, \n",
    "as listed in Tab. \\ref{table:equil} and shown in Fig. \\ref{fig:pot}.\n",
    "  "
   ]
  },
  {
   "cell_type": "markdown",
   "metadata": {},
   "source": [
    "| Energy (kcal mol$^{-1}$)  |  $r$ (\\AA)  |  $\\theta$ (radians)  |  Significance        |  Label             |\n",
    "|---------------------------|-------------|----------------------|----------------------|--------------------|\n",
    "| $-47$                     | $1.1$       | $0$                  |  potential well      | $q_0^+$            |\n",
    "| $-0.63$                   | $3.45$      | $\\pi/2$              | isomerisation saddle | $q_1^+$            |\n",
    "| $8$                       | $1.1$       | $\\pi/2$              | isomerisation saddle | $\\widetilde{q}_1^+$|\n",
    "| $22.27$                   | $1.63$      | $\\pi/2$              | local maximum        | $q_2^+$            |\n",
    "[Equilibrium points of the potential $U(r, \\theta)$.]\n",
    "\n"
   ]
  },
  {
   "cell_type": "markdown",
   "metadata": {},
   "source": [
    "<!--- load bibfile somehow --->"
   ]
  }
 ],
 "metadata": {
  "kernelspec": {
   "display_name": "Python 3",
   "language": "python",
   "name": "python3"
  },
  "language_info": {
   "codemirror_mode": {
    "name": "ipython",
    "version": 3
   },
   "file_extension": ".py",
   "mimetype": "text/x-python",
   "name": "python",
   "nbconvert_exporter": "python",
   "pygments_lexer": "ipython3",
   "version": "3.7.5"
  }
 },
 "nbformat": 4,
 "nbformat_minor": 2
}
