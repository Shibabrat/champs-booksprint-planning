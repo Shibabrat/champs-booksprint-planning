{
 "cells": [
  {
   "cell_type": "markdown",
   "metadata": {},
   "source": [
    "# A Two Degree-of-Freedom Index One Saddle--A  Saddle-Center Equilibrium Point"
   ]
  },
  {
   "cell_type": "markdown",
   "metadata": {},
   "source": [
    "We consider  a quadratic 2 DoF  Hamiltonian:\n",
    "\n",
    "\n",
    "\\begin{equation}\n",
    "H = \\underbrace{\\frac{\\lambda}{2} \\left(p_1^2 - q_1^2 \\right)}_{H_1} + \\underbrace{\\frac{\\omega}{2} \\left(p_2^2 + q_2^2 \\right)}_{H_2}, \\quad \\lambda, \\, \\omega >0,\n",
    "\\label{ham2}\n",
    "\\end{equation}\n",
    "\n",
    "\n",
    "with the corresponding Hamilton's equations given by:\n",
    "\n",
    "\\begin{eqnarray}\n",
    "\\dot{q}_1 & = & \\frac{\\partial H}{\\partial p_1}= \\lambda p_1, \\nonumber \\\\\n",
    "\\dot{p}_1 & = & -\\frac{\\partial H}{\\partial q_1}= \\lambda q_1, \\nonumber \\\\\n",
    "\\dot{q}_2 & = & \\frac{\\partial H}{\\partial p_2}= \\omega p_2, \\nonumber \\\\\n",
    "\\dot{p}_2 & = & -\\frac{\\partial H}{\\partial q_2}= -\\omega q_2, \n",
    "\\label{hameq2}\n",
    "\\end{eqnarray}\n",
    "\n",
    "\n",
    "These equations have an equilibrium point of saddle-center equilibrium type (index one saddle) at the origin.\n",
    "In Fig. \\ref{fig:2 dof saddle} a) we show contours  of the potential energy and in Fig. \\ref{fig:2 dof saddle} b) we show the phase portrait corresponding to \\eqref{ham2}. \n",
    "Since the Hamiltonians $H_1$ and $H_2$ are uncoupled we can sketch the phase portraits for each separately, and discuss the distribution of total energy between each DoF in a simple manner."
   ]
  },
  {
   "cell_type": "markdown",
   "metadata": {},
   "source": [
    "<img width=\"560\" height=\"315\" src=\"fig_2_dof_saddle.png\">"
   ]
  },
  {
   "cell_type": "markdown",
   "metadata": {},
   "source": [
    "a) Contours of the potential energy, $V(q_1, q_2) =-\\frac{\\lambda}{2} q_1^2 + \\frac{\\omega}{2} q_2^2$,  denoting the sign of $V(q_1, q_2) = \\mbox{constant}$. b) The phase space for the two DoF saddle defined by \\eqref{hameq2}."
   ]
  },
  {
   "cell_type": "markdown",
   "metadata": {},
   "source": [
    "Note that trajectories corresponding to $H_1$ can become unbounded and trajectories corresponding to $H_2$ are bounded.  Hence in  this system reaction occurs when  the $q_1$ coordinate of a trajectory changes sign. Therefore, a `'natural'' dividing surface would be $q_1 =0$. This is a three dimensional surface in the four dimensional phase space. We want to examine it's structure more closely and, in particular, its' intersection with a fixed energy surface. We will also utilize terminology from chemistry by referring to  $H_1$ as the `'reactive mode'' and $H_2$ is the `'bath mode''\n",
    "\n",
    "\n",
    "First, note that for reaction to occur we must have $H_1 >0$, since the $q_1$ component of reacting trajectories changes sign. Also, it is clear  from  the form of $H_2$ that $H_2 \\ge 0$. Therefore, for reaction we must have $H = H_1 + H_2 >0$. The energy surface is given by:\n",
    "\n",
    "\\begin{equation}\n",
    "\\frac{\\lambda}{2} \\left(p_1^2 - q_1^2 \\right) + \\frac{\\omega}{2} \\left(p_2^2 + q_2^2 \\right) = H_1 + H_2 = H > 0, \\quad H_1 > 0, \\, H_2 \\ge 0.\n",
    "\\label{2DoFES}\n",
    "\\end{equation}\n",
    "\n",
    "\n",
    "The intersection of $q_1=0$ with this energy surface is given by:\n",
    "\n",
    "\n",
    "\n",
    "\\begin{equation}\n",
    "\\frac{\\lambda}{2} \\, p_1^2  + \\frac{\\omega}{2} \\left(p_2^2 + q_2^2, \\right) = H_1 + H_2 = H > 0, \\quad H_1 > 0, \\, H_2 \\ge 0.\n",
    "\\label{2DoDS}\n",
    "\\end{equation}\n",
    "\n",
    "\n",
    "This is the isoenergetic DS. It has the form of a 2-sphere in the four dimensional $(q_1, p_1, q_2, p_2)$ space. It has two `'halves'' corresponding to the forward and backward reactions, respectively:\n",
    "\n",
    "\\begin{equation}\n",
    "p_1 = + \\sqrt{\\frac{2}{\\lambda}} \\sqrt{H_1 + H_2 - \\frac{\\omega}{2} \\left(p_2^2 + q_2^2 \\right) }, \\quad \\mbox{forward DS},\n",
    "\\end{equation}\n",
    "\n",
    "\\begin{equation}\n",
    "p_1 = - \\sqrt{\\frac{2}{\\lambda}} \\sqrt{H_1 + H_2 - \\frac{\\omega}{2} \\left(p_2^2 + q_2^2 \\right) }, \\quad \\mbox{backward DS}.\n",
    "\\end{equation}\n",
    "\n",
    "\n",
    "Since $\\dot{q}_1 = \\lambda p_1$ it is clear that the DS, being defined by $q_1=0$ is a surface  having the `'no-recrossing'' property.\n",
    "\n",
    "\n",
    "The forward and backward DS `'meet'' at  $p_1 =0$:\n",
    "\n",
    "\\begin{equation}\n",
    " \\frac{\\omega}{2} \\left(p_2^2 + q_2^2, \\right) = H_1 + H_2 \\ge  0,   \\mbox{NHIM},\n",
    "\\end{equation}\n",
    "\n",
    "\n",
    "which is an unstable periodic orbit in the $p_2-q_2$ plane. This is   the NHIM for this 2 DoF system. In this particular example, and in the case where the NHIM is one orbit, normal hyperbolicity is easy to understand. The orbit is normally hyperbolic if it is of saddle-type stability. From \\eqref{hameq2}, we see that the coordinates `'normal'' to the periodic orbit are $q_1=p_1$, and the dynamics in these coordinates is linear and of saddle type.\n"
   ]
  }
 ],
 "metadata": {
  "kernelspec": {
   "display_name": "Python 3",
   "language": "python",
   "name": "python3"
  },
  "language_info": {
   "codemirror_mode": {
    "name": "ipython",
    "version": 3
   },
   "file_extension": ".py",
   "mimetype": "text/x-python",
   "name": "python",
   "nbconvert_exporter": "python",
   "pygments_lexer": "ipython3",
   "version": "3.6.1"
  },
  "latex_envs": {
   "LaTeX_envs_menu_present": true,
   "autoclose": false,
   "autocomplete": true,
   "bibliofile": "/Users/bas/research/book_sprint/champs-booksprint-planning/convert_tex2html/article_test/sample.bib",
   "cite_by": "apalike",
   "current_citInitial": 1,
   "eqLabelWithNumbers": true,
   "eqNumInitial": 1,
   "hotkeys": {
    "equation": "Ctrl-E",
    "itemize": "Ctrl-I"
   },
   "labels_anchors": false,
   "latex_user_defs": false,
   "report_style_numbering": false,
   "user_envs_cfg": false
  },
  "toc": {
   "base_numbering": 1,
   "nav_menu": {},
   "number_sections": true,
   "sideBar": true,
   "skip_h1_title": false,
   "title_cell": "Table of Contents",
   "title_sidebar": "Contents",
   "toc_cell": false,
   "toc_position": {},
   "toc_section_display": true,
   "toc_window_display": true
  }
 },
 "nbformat": 4,
 "nbformat_minor": 2
}
