{
 "cells": [
  {
   "cell_type": "markdown",
   "metadata": {},
   "source": [
    "# STEPS"
   ]
  },
  {
   "cell_type": "markdown",
   "metadata": {},
   "source": [
    "1. Install `jupyter-book`, do: \n",
    "\n",
    "``` bash\n",
    "pip install jupyter-book\n",
    "```\n",
    "\n",
    "2. Create new book, do \n",
    "\n",
    "> `jupyter-book create champsbook --demo`\n",
    "\n",
    "3. Get all `.md` and `.ipynb` files\n",
    "\n",
    ">```\n",
    "cp -r BookSprint-Demo/MA champsbook/content\n",
    "cp -r BookSprint-Demo/SN champsbook/content\n",
    "cp -r BookSprint-Demo/RGM champsbook/content\n",
    "```\n",
    "\n",
    "4. Specify the relative paths in `_data/toc.yml` for files (`.ipynb`,`.md`) to appear as (sub)sections in book\n",
    "\n",
    "\n",
    "4. Copy all `.bib` files to default folder `bibliography`\n",
    "\n",
    ">```\n",
    "cp BookSprint-Demo/SN/workflow-demo/paper.bib champsbook/_bibliography/\n",
    "cp BookSprint-Demo/MA/ champsbook/_bibliography/SNreac.bib \n",
    "cp BookSprint-Demo/RGM/myBib.bib champsbook/_bibliography/\n",
    "```\n",
    "\n",
    "5. Then, build book `jupyter-book build champsbook`\n",
    "\n",
    "6. Generated `.html` files should be in `_build` folder"
   ]
  },
  {
   "cell_type": "markdown",
   "metadata": {},
   "source": [
    "<span style=\"color:red\">**TO-DO's**</span>\n",
    "* add material/links for preparation\n",
    "* stuff for revision\n"
   ]
  },
  {
   "cell_type": "markdown",
   "metadata": {},
   "source": [
    "# Publishing with `Github Pages`"
   ]
  },
  {
   "cell_type": "markdown",
   "metadata": {},
   "source": [
    "## Installing `jekyll`"
   ]
  },
  {
   "cell_type": "markdown",
   "metadata": {},
   "source": [
    "This is needed to publish HTML files via GitHub pages"
   ]
  },
  {
   "cell_type": "markdown",
   "metadata": {},
   "source": [
    "Install `jekyll` accrding to specific instructions for your OS and Version\n",
    "\n",
    "For **macOs**, Mojave (10.14) \n",
    "\n",
    "1. Install `brew` (macOS software installer)\n",
    "\n",
    "2. install `ruby`\n",
    "> `brew install ruby`\n",
    "\n",
    "3. Add the brew ruby path to your shell configuration, i.e, Copy the lines below and paste them at the end of your `~./bash_profile` (macOS). \n",
    ">`export PATH=/usr/local/opt/ruby/bin:$PATH`\n",
    "\n",
    "4. Then, relaunch the terminal or do `source ~./bash_profile`\n",
    "\n",
    "5. Check the version or `ruby` installed and whether satisfies `jekyll` installation requirements. Read note below.\n",
    "> `which ruby`\n",
    "\n",
    "**NOTE** `jekyll` requires a `ruby` version `>= 2.4.0` according to the output of Step X\n",
    "\n",
    "6. If your need to change your `ruby` version, install `rbenv`\n",
    ">`brew install rbenv`\n",
    "\n",
    "7. And do\n",
    ">```bash\n",
    "rbenv install 2.6.3\n",
    "rbenv global 2.6.3\n",
    "ruby -v\n",
    "```\n",
    "\n",
    "8. Install `bundler` via `gem` (<span style=\"color:red\">WTH is a gem?</span>)\n",
    "```bash\n",
    "sudo gem install bundler\n",
    "```\n",
    "\n",
    "9. Finally install `jekyll`\n",
    ">```bash\n",
    "sudo gem install -n /usr/local/bin/ jekyll\n",
    "```\n",
    "\n",
    "**NOTE** In the official documentation it is strongly advised not to do a global installation of ruby in your system https://jekyllrb.com/docs/installation/macos/ Although, in the homepage, there is no information whatsoever about this warning https://jekyllrb.com/\n",
    "\n",
    "For macOS Versions earlier than Mojave (`< 10.14`), do only this instead\n",
    "\n",
    ">```bash\n",
    "sudo gem install bundler jekyll\n",
    "```\n",
    "\n",
    "10. And, check that is thas been correctly installed\n",
    "\n",
    ">`jekyll -v`"
   ]
  },
  {
   "cell_type": "markdown",
   "metadata": {},
   "source": [
    "## Creating a site with `jekyll`"
   ]
  },
  {
   "cell_type": "markdown",
   "metadata": {},
   "source": [
    "Once `jekyll` is installed, just do\n",
    "\n",
    ">```bash\n",
    "jekyll new my-awesome-site\n",
    "cd my-awesome-site\n",
    "bundle exec jekyll serve\n",
    "```"
   ]
  },
  {
   "cell_type": "markdown",
   "metadata": {},
   "source": [
    "<span style=\"color:blue\"><b>NOTE</b></span>\n",
    "\n",
    "If there is any special Ruby library dependecies (i.e., RubyGems or gems)\n",
    "\n",
    "```bash\n",
    "bundle install\n",
    "```\n",
    "\n",
    "will automatically install these as long as they are declared in `Gemfile`, fetching these from the [Ruby server](https://rubygems.org)\n",
    "\n",
    "After installing any needed gems, bundler writes a record file (`Gemfile.lock`) of all installed gems and their versions"
   ]
  },
  {
   "cell_type": "markdown",
   "metadata": {},
   "source": [
    "Then, just browse to [http://localhost:4000](http://localhost:4000/)"
   ]
  },
  {
   "cell_type": "markdown",
   "metadata": {},
   "source": [
    "<span style=\"color:blue\"><b>BREAKDOWN</b></span>"
   ]
  },
  {
   "cell_type": "markdown",
   "metadata": {},
   "source": [
    "1. The first line will create the folder `my-awesome-site` with the following content\n",
    "```bash\n",
    "404.html        Gemfile.lock    _posts/         index.markdown\n",
    "Gemfile         _config.yml     about.markdown\n",
    "```\n",
    "\n",
    "\n",
    "* `Gemfile` is a file were the Ruby dependencies of your application are declared.\n",
    "\n",
    "* `Gemfile.lock` is record of the specific (sub)dependecies installed. This _extremely useful_ to share your environment with people.\n",
    "\n",
    "* `jekyll` command is an executable that you can run in terminal for the `jekyll` RubyGem. Here's a cheatsheet [here](https://jekyllrb.com/docs/usage/) for how to use it."
   ]
  },
  {
   "cell_type": "markdown",
   "metadata": {},
   "source": [
    "2. After moving to the new folder, the last line will (__A__) create the folder `_site`, with the following content\n",
    "\n",
    "```bash\n",
    "404.html    about/      assets/     feed.xml    index.html  jekyll/\n",
    "```\n",
    "where\n",
    "\n",
    "* `jekyll serve` is a command to build our website with a fancy theme\n",
    "* `bundle exec` pipes the list of Ruby library (gems) requirements in `Gemfile` for execution of `jekyll serve`"
   ]
  },
  {
   "cell_type": "markdown",
   "metadata": {},
   "source": [
    "and (__B__) will produce the following output after execution\n",
    "\n",
    "```bash\n",
    "####################################################\n",
    "Configuration file: /Users/bas/research/book_sprint/my-awesome-site/_config.yml\n",
    "            Source: /Users/bas/research/book_sprint/my-awesome-site\n",
    "       Destination: /Users/bas/research/book_sprint/my-awesome-site/_site\n",
    " Incremental build: disabled. Enable with --incremental\n",
    "      Generating... \n",
    "       Jekyll Feed: Generating feed for posts\n",
    "                    done in 1.369 seconds.\n",
    " Auto-regeneration: enabled for '/Users/bas/research/book_sprint/my-awesome-site'\n",
    "    Server address: http://127.0.0.1:4000/\n",
    "  Server running... press ctrl-c to stop.\n",
    "####################################################\n",
    "```\n",
    "\n",
    "After what you can open a browser tab and use the URL `http://127.0.0.1:4000/` or `http://localhost:4000` to see the rendered HTML page with `jekyll`."
   ]
  },
  {
   "cell_type": "markdown",
   "metadata": {},
   "source": [
    "<span style=\"color:blue\"><b>SOURCES</b></span>\n",
    "\n",
    "* What's the difference between `Gemfile` and `Gemfile.lock`?\n",
    "\n",
    "https://medium.com/@davalpargal/gemfile-and-gemfile-lock-in-ruby-65adc918b856\n",
    "\n",
    "https://stackoverflow.com/questions/6927442/what-is-the-difference-between-gemfile-and-gemfile-lock-in-ruby-on-rails\n",
    "\n",
    "* What's Bundler?\n",
    "\n",
    "https://bundler.io/v1.12/rationale.html\n",
    "\n",
    "* Basics of Ruby\n",
    " * `gem` Ruby package (RubyGems) manager\n",
    " * `irb` Interactive Ruby prompt and basic commands\n",
    "\n",
    "https://guides.rubygems.org/rubygems-basics/\n",
    "\n",
    "https://www.digitalocean.com/community/tutorials/how-to-use-irb-to-explore-ruby"
   ]
  },
  {
   "cell_type": "code",
   "execution_count": null,
   "metadata": {},
   "outputs": [],
   "source": []
  },
  {
   "cell_type": "code",
   "execution_count": null,
   "metadata": {},
   "outputs": [],
   "source": []
  },
  {
   "cell_type": "code",
   "execution_count": null,
   "metadata": {},
   "outputs": [],
   "source": []
  },
  {
   "cell_type": "code",
   "execution_count": null,
   "metadata": {},
   "outputs": [],
   "source": []
  },
  {
   "cell_type": "code",
   "execution_count": null,
   "metadata": {},
   "outputs": [],
   "source": []
  },
  {
   "cell_type": "code",
   "execution_count": null,
   "metadata": {},
   "outputs": [],
   "source": []
  },
  {
   "cell_type": "code",
   "execution_count": null,
   "metadata": {},
   "outputs": [],
   "source": []
  },
  {
   "cell_type": "code",
   "execution_count": null,
   "metadata": {},
   "outputs": [],
   "source": []
  },
  {
   "cell_type": "code",
   "execution_count": null,
   "metadata": {},
   "outputs": [],
   "source": []
  },
  {
   "cell_type": "code",
   "execution_count": null,
   "metadata": {},
   "outputs": [],
   "source": []
  },
  {
   "cell_type": "code",
   "execution_count": null,
   "metadata": {},
   "outputs": [],
   "source": []
  },
  {
   "cell_type": "code",
   "execution_count": null,
   "metadata": {},
   "outputs": [],
   "source": []
  },
  {
   "cell_type": "code",
   "execution_count": null,
   "metadata": {},
   "outputs": [],
   "source": []
  },
  {
   "cell_type": "code",
   "execution_count": null,
   "metadata": {},
   "outputs": [],
   "source": []
  },
  {
   "cell_type": "code",
   "execution_count": null,
   "metadata": {},
   "outputs": [],
   "source": []
  },
  {
   "cell_type": "code",
   "execution_count": null,
   "metadata": {},
   "outputs": [],
   "source": []
  },
  {
   "cell_type": "code",
   "execution_count": null,
   "metadata": {},
   "outputs": [],
   "source": []
  }
 ],
 "metadata": {
  "kernelspec": {
   "display_name": "Python 3",
   "language": "python",
   "name": "python3"
  },
  "language_info": {
   "codemirror_mode": {
    "name": "ipython",
    "version": 3
   },
   "file_extension": ".py",
   "mimetype": "text/x-python",
   "name": "python",
   "nbconvert_exporter": "python",
   "pygments_lexer": "ipython3",
   "version": "3.7.1"
  },
  "latex_envs": {
   "LaTeX_envs_menu_present": true,
   "autoclose": false,
   "autocomplete": true,
   "bibliofile": "/Users/bas/research/book_sprint/champs-booksprint-planning/convert_tex2html/article_test/sample.bib",
   "cite_by": "apalike",
   "current_citInitial": 1,
   "eqLabelWithNumbers": true,
   "eqNumInitial": 1,
   "hotkeys": {
    "equation": "Ctrl-E",
    "itemize": "Ctrl-I"
   },
   "labels_anchors": false,
   "latex_user_defs": false,
   "report_style_numbering": false,
   "user_envs_cfg": false
  },
  "toc": {
   "base_numbering": 1,
   "nav_menu": {},
   "number_sections": false,
   "sideBar": true,
   "skip_h1_title": false,
   "title_cell": "Table of Contents",
   "title_sidebar": "Contents",
   "toc_cell": false,
   "toc_position": {},
   "toc_section_display": true,
   "toc_window_display": true
  }
 },
 "nbformat": 4,
 "nbformat_minor": 2
}
