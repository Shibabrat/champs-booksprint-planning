{
 "cells": [
  {
   "cell_type": "markdown",
   "metadata": {},
   "source": [
    "# The Potencial Energy Surface\n",
    "\n",
    "The two degrees of freedom Hamiltonian system that we consider is the sum of two identical planar Morse potentials \\cite{Morse29} separated by a distance $2b$:\n",
    "\n",
    "\\begin{eqnarray}\n",
    "V (x, y) & = & D_e \\left(1 - \\exp\\left(-\\sqrt{\\frac{k}{D_e}}  (\\sqrt{(x-b)^2 + y^2} - r_e)\\right)  \\right)^2 \\nonumber \\\\\n",
    "&  + & \n",
    "D_e \\left(1 - \\exp\\left(-\\sqrt{\\frac{k}{D_e}}  (\\sqrt{(x+b)^2 + y^2} - r_e)\\right)  \\right)^2 -D_e,\n",
    "\\label{eq:2Morse_pot}\n",
    "\\end{eqnarray}\n",
    "\n",
    "and kinetic energy of the form:\n",
    "\n",
    "\\begin{equation}\n",
    "T(p_x, p_y) = \\frac{p_x^2}{2m} + \\frac{p_y^2}{2m}.\n",
    "\\label{eq:KE}\n",
    "\\end{equation} \n",
    "\n",
    "Therefore the Hamiltonian is:\n",
    "\n",
    "\\begin{equation}\n",
    "H(x, y, p_x, p_y) = T(p_x, p_y) + V (x, y),\n",
    "\\label{eq:Ham}\n",
    "\\end{equation}\n"
   ]
  },
  {
   "cell_type": "markdown",
   "metadata": {},
   "source": [
    "<img src=\"V_c.jpg\" alt=\"Kitten\" title=\"A cute kitten\" width=\"400\" height=\"400\" />"
   ]
  },
  {
   "cell_type": "code",
   "execution_count": null,
   "metadata": {},
   "outputs": [],
   "source": []
  },
  {
   "cell_type": "markdown",
   "metadata": {},
   "source": [
    "# References\n",
    "\n",
    "<mark> <b>The bib file /Users/bas/research/book_sprint/champs-booksprint-planning/convert_tex2html/article_test/sample.bib was not found\n",
    "\n",
    "</b> </mark>(<a id=\"cit-Morse29\" href=\"#call-Morse29\">?</a>) !! _This reference was not found in /Users/bas/research/book_sprint/champs-booksprint-planning/convert_tex2html/article_test/sample.bib _ !!\n",
    "\n"
   ]
  }
 ],
 "metadata": {
  "kernelspec": {
   "display_name": "Julia 0.7.0",
   "language": "julia",
   "name": "julia-0.7"
  },
  "language_info": {
   "file_extension": ".jl",
   "mimetype": "application/julia",
   "name": "julia",
   "version": "0.7.0"
  },
  "latex_envs": {
   "LaTeX_envs_menu_present": true,
   "autoclose": false,
   "autocomplete": true,
   "bibliofile": "/Users/bas/research/book_sprint/champs-booksprint-planning/convert_tex2html/article_test/sample.bib",
   "cite_by": "apalike",
   "current_citInitial": 1,
   "eqLabelWithNumbers": true,
   "eqNumInitial": 1,
   "hotkeys": {
    "equation": "Ctrl-E",
    "itemize": "Ctrl-I"
   },
   "labels_anchors": false,
   "latex_user_defs": false,
   "report_style_numbering": false,
   "user_envs_cfg": false
  },
  "toc": {
   "base_numbering": 1,
   "nav_menu": {},
   "number_sections": false,
   "sideBar": true,
   "skip_h1_title": false,
   "title_cell": "Table of Contents",
   "title_sidebar": "Contents",
   "toc_cell": false,
   "toc_position": {},
   "toc_section_display": true,
   "toc_window_display": false
  }
 },
 "nbformat": 4,
 "nbformat_minor": 2
}
