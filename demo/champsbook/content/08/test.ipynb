{
 "cells": [
  {
   "cell_type": "markdown",
   "metadata": {},
   "source": [
    "# The Potencial Energy Surface\n",
    "\n",
    "The two degrees of freedom Hamiltonian system that we consider is the sum of two identical planar Morse potentials \\cite{Morse29} separated by a distance $2b$:\n",
    "\n",
    "\\begin{eqnarray}\n",
    "V (x, y) & = & D_e \\left(1 - \\exp\\left(-\\sqrt{\\frac{k}{D_e}}  (\\sqrt{(x-b)^2 + y^2} - r_e)\\right)  \\right)^2 \\nonumber \\\\\n",
    "&  + & \n",
    "D_e \\left(1 - \\exp\\left(-\\sqrt{\\frac{k}{D_e}}  (\\sqrt{(x+b)^2 + y^2} - r_e)\\right)  \\right)^2 -D_e,\n",
    "\\label{eq:2Morse_pot}\n",
    "\\end{eqnarray}\n",
    "\n",
    "and kinetic energy of the form:\n",
    "\n",
    "\\begin{equation}\n",
    "T(p_x, p_y) = \\frac{p_x^2}{2m} + \\frac{p_y^2}{2m}.\n",
    "\\label{eq:KE}\n",
    "\\end{equation} \n",
    "\n",
    "Therefore the Hamiltonian is:\n",
    "\n",
    "\\begin{equation}\n",
    "H(x, y, p_x, p_y) = T(p_x, p_y) + V (x, y),\n",
    "\\label{eq:Ham}\n",
    "\\end{equation}\n",
    "\n",
    "\n",
    "@article{Morse29,\n",
    "\tAdsnote = {Provided by the SAO/NASA Astrophysics Data System},\n",
    "\tAdsurl = {http://adsabs.harvard.edu/abs/1929PhRv...34...57M},\n",
    "\tAuthor = {{Morse}, P.~M.},\n",
    "\tDate-Added = {2016-12-10 16:07:07 +0000},\n",
    "\tDate-Modified = {2016-12-10 16:07:37 +0000},\n",
    "\tDoi = {10.1103/PhysRev.34.57},\n",
    "\tJournal = {Physical Review},\n",
    "\tMonth = jul,\n",
    "\tPages = {57-64},\n",
    "\tTitle = {{Diatomic Molecules According to the Wave Mechanics. II. Vibrational Levels}},\n",
    "\tVolume = 34,\n",
    "\tYear = 1929,\n",
    "\tBdsk-Url-1 = {http://dx.doi.org/10.1103/PhysRev.34.57}}\n",
    "\n"
   ]
  },
  {
   "cell_type": "markdown",
   "metadata": {},
   "source": [
    "<img src=\"V_c.jpg\" alt=\"Kitten\" title=\"A cute kitten\" width=\"400\" height=\"400\" />"
   ]
  },
  {
   "cell_type": "code",
   "execution_count": null,
   "metadata": {},
   "outputs": [],
   "source": []
  }
 ],
 "metadata": {
  "kernelspec": {
   "display_name": "Julia 0.7.0",
   "language": "julia",
   "name": "julia-0.7"
  },
  "language_info": {
   "file_extension": ".jl",
   "mimetype": "application/julia",
   "name": "julia",
   "version": "0.7.0"
  }
 },
 "nbformat": 4,
 "nbformat_minor": 2
}
