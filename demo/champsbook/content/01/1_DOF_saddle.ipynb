{
 "cells": [
  {
   "cell_type": "markdown",
   "metadata": {},
   "source": [
    "# One Degree-of-Freedom (DoF) Saddle"
   ]
  },
  {
   "cell_type": "markdown",
   "metadata": {},
   "source": [
    "This is a ''trivial'' cases, but it is always useful to start with the basics to fix ideas.\n",
    "\n",
    "The Hamiltonian for a (linear) one DoF saddle point is given by:\n",
    "\n",
    "\\begin{equation}\n",
    "H = \\frac{\\lambda}{2} \\left(p^2 - q^2 \\right) =  \\underbrace{\\frac{\\lambda}{2}  p^2}_{\\stackrel{kinetic}{ energy}}-  \\underbrace{\\frac{\\lambda}{2}  q^2}_{\\stackrel{potential}{ energy}} \\quad \\lambda >0,\n",
    "\\label{ham1}\n",
    "\\end{equation}\n",
    "\n",
    "\n",
    "\n",
    "\\noindent\n",
    "and the associated Hamilton's equations are:\n",
    "\n",
    "\\begin{eqnarray}\n",
    "\\dot{q} & = & \\frac{\\partial H}{\\partial p}= \\lambda p, \\nonumber \\\\\n",
    "\\dot{p} & = & -\\frac{\\partial H}{\\partial q}= \\lambda q.\n",
    "\\label{hameq1}\n",
    "\\end{eqnarray}\n",
    "\n",
    "\n",
    "\n",
    "In Fig. \\ref{fig:1 dof saddle} a) we show a graph of the potential energy, $V(q) =-\\frac{\\lambda}{2} q^2$  and in Fig. \\ref{fig:1 dof saddle} b) we show the phase portrait corresponding to \\eqref{ham1}. "
   ]
  },
  {
   "cell_type": "markdown",
   "metadata": {},
   "source": [
    "Consider the Hamiltonian:\n",
    "\n",
    "\\begin{equation}\n",
    "H(x,y,p_x,p_y) = \\frac{1}{2}\\left(p_x^2 + p_y^2\\right) + V(x,y)\n",
    "\\label{hamiltonian}\n",
    "\\end{equation}\n",
    "\n",
    "where we have supposed for simplicity that the mass in each DoF is $m_x = m_y = 1$. The PES is defined as follows:\n",
    "\n",
    "\\begin{equation}\\label{pes_model}\n",
    "V(x,y) = x^4 - \\alpha x^2 - \\delta x + y^4 - y^2 + \\beta x^2 y^2\n",
    "\\end{equation}\n",
    "\n",
    "and $\\delta$ represents the asymmetry parameter in the double well potential of the $x$ DoF. The dynamics of the Hamiltonian in Eq. \\eqref{hamiltonian} is described by Hamilton's equations of motion:\n",
    "\n",
    "\\begin{equation}\n",
    "\\begin{cases}\n",
    "\\dot{x} = \\dfrac{\\partial H}{\\partial p_x} = p_x \\\\[.4cm]\n",
    "\\dot{y} = \\dfrac{\\partial H}{\\partial p_y} = p_y \\\\[.4cm]\n",
    "\\dot{p}_x = -\\dfrac{\\partial H}{\\partial x} = -\\dfrac{\\partial V}{\\partial x} = -4 x^3 + 2 \\alpha x + \\delta - 2 \\beta x y^2 \\\\[.4cm]\n",
    "\\dot{p}_y = -\\dfrac{\\partial H}{\\partial y} = -\\dfrac{\\partial V}{\\partial y} = -4 y^3 + 2 y - 2 \\beta x^2 y\n",
    "\\end{cases}\n",
    "\\label{eq:ham_eqs}\n",
    "\\end{equation}"
   ]
  },
  {
   "cell_type": "markdown",
   "metadata": {},
   "source": [
    "<img width=\"560\" height=\"315\" src=\"fig_1_dof_saddle.png\">"
   ]
  },
  {
   "cell_type": "markdown",
   "metadata": {},
   "source": [
    "a) The potential energy, $V(q) =-\\frac{\\lambda}{2} q^2$,  for a one DoF saddle. b)The phase space for the one DoF saddle."
   ]
  },
  {
   "cell_type": "markdown",
   "metadata": {},
   "source": [
    "This is the archetypical one DoF Hamiltonian system modelling reaction dynamics associated with a saddle point. The only configuration space coordinate, $q$, is the reaction coordinate. \n",
    "In this simple system `'reaction'' corresponds to trajectories that change sign in *q*, which requires *H>0* (as shown in Fig. \\ref{fig:1 dof saddle} b)). Non-reacting trajectories have *H <0*. \n",
    "\n",
    "Now we discuss the NHIM, its stable and unstable manifolds, and their role in constructing the DS. All of these notions are trivial in this simple setting, but they will serve  to focus the ideas when we consider more DoF. \n",
    "\n",
    "For this case the NHIM  is the saddle point at the origin (a single point is a trivial example of a manifold). It only exists  on the $H=0$ energy surface (this is  very different when we go to two, and more, DoF) and its stable and unstable manifolds are the diagonal lines (also on the $H=0$ energy surface--the stable and unstable manifolds of a NHIM have the same energy as the NHIM). \n",
    "\n",
    "The non-isoenergetic DS can be taken as the line $q=0$. Clearly, it has the `'no-recrossing'' properties and all  reacting trajectories must cross this line. The DS at a fixed (positive) energy is  given by\n",
    "\n",
    "\\begin{equation}\n",
    "\\frac{\\lambda}{2} p^2 = H = \\mbox{constant},\n",
    "\\end{equation}\n",
    "\n",
    "\n",
    "or\n",
    "\n",
    "\\[\n",
    "p =\\pm \\sqrt{\\frac{2}{\\lambda} H}.\n",
    "\\]\n",
    "\n",
    "\n",
    "\n",
    "So for a fixed energy *H > 0* the DS consists of two distinct  *points*:  $p =+ \\sqrt{\\frac{2}{\\lambda} H}$ (the dividing surface for forward reactions) and $p =- \\sqrt{\\frac{2}{\\lambda} H}$ (the dividing surface for backward reactions).  These points are just the intersections of the reacting trajectories with *q=0*."
   ]
  }
 ],
 "metadata": {
  "kernelspec": {
   "display_name": "Python 3",
   "language": "python",
   "name": "python3"
  },
  "language_info": {
   "codemirror_mode": {
    "name": "ipython",
    "version": 3
   },
   "file_extension": ".py",
   "mimetype": "text/x-python",
   "name": "python",
   "nbconvert_exporter": "python",
   "pygments_lexer": "ipython3",
   "version": "3.6.1"
  },
  "latex_envs": {
   "LaTeX_envs_menu_present": true,
   "autoclose": false,
   "autocomplete": true,
   "bibliofile": "/Users/bas/research/book_sprint/champs-booksprint-planning/convert_tex2html/article_test/sample.bib",
   "cite_by": "apalike",
   "current_citInitial": 1,
   "eqLabelWithNumbers": true,
   "eqNumInitial": 1,
   "hotkeys": {
    "equation": "Ctrl-E",
    "itemize": "Ctrl-I"
   },
   "labels_anchors": false,
   "latex_user_defs": false,
   "report_style_numbering": false,
   "user_envs_cfg": false
  },
  "toc": {
   "base_numbering": 1,
   "nav_menu": {},
   "number_sections": true,
   "sideBar": true,
   "skip_h1_title": false,
   "title_cell": "Table of Contents",
   "title_sidebar": "Contents",
   "toc_cell": false,
   "toc_position": {},
   "toc_section_display": true,
   "toc_window_display": true
  }
 },
 "nbformat": 4,
 "nbformat_minor": 2
}
