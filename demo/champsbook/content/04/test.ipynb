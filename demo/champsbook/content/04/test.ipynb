{
 "cells": [
  {
   "cell_type": "markdown",
   "metadata": {},
   "source": [
    "# Introduction\n",
    "\\label{sec:intro}"
   ]
  },
  {
   "cell_type": "markdown",
   "metadata": {},
   "source": [
    "This paper is outlined as follows: In Sec. [1](#sec:CMR) we introduce Chesnavich's Hamiltonian model  \n",
    "for ion-molecule reaction and discuss the dynamical mechanism underlying roaming in \n",
    "terms of families of unstable periodic orbits and their associated invariant manifolds."
   ]
  },
  {
   "cell_type": "markdown",
   "metadata": {},
   "source": [
    "\n",
    "# Chesnavich's Model and Roaming\n",
    "\\label{sec:CMR}"
   ]
  },
  {
   "cell_type": "markdown",
   "metadata": {},
   "source": [
    "## Chesnavich's Model Hamiltonian"
   ]
  },
  {
   "cell_type": "markdown",
   "metadata": {},
   "source": [
    "The  CH$_4^+$ model due to Chesnavich  is a 2 degree of freedom Hamiltonian system  \n",
    "comprised of a rigid CH$_3^+$ molecule (core) and a mobile H atom {% cite Chesnavich1986 --file roaming_v8 %}. \n",
    "The system Hamiltonian is {% cite ezra2019chesnavich --file roaming_v8 %}\n",
    "\n",
    "\\begin{equation}\n",
    "H(r,\\theta,p_r, p_\\theta) = \\frac{1}{2} \\frac{p_r^2}{\\mu} + \\frac{1}{2}p_\\theta^2 \\left(\\frac{1}{\\mu r^2}+\\frac{1}{I_{CH_3}}\\right) + U(r,\\theta),\n",
    "\\label{eq:chesHam}\n",
    "\\end{equation}\n",
    "\n",
    "where $(r, \\theta, \\phi)$ are polar coordinates describing the position of the \n",
    "H-atom in a body-fixed frame attached to the CH$_3^+$ core\n",
    "(the coordinate $\\phi$ is ignorable in this model).  \n",
    "The reduced mass of the system is given by the expression \n",
    "$\\mu=\\frac{m_{CH_3}m_{H}}{m_{CH_3}+m_{H}}$, where $m_{H}=1.007825$ u and $m_{CH_3}=3m_{H}+12.0$ u, \n",
    "and the moment of inertia of the rigid body CH$_3^+$ has the value  $I_{CH_3}=2.373409 \\unicode{x212B}^2$.\n",
    "\n",
    "The potential energy function $U(r,\\theta)$ is made up  of a radial long range potential\n",
    "energy term $U_{CH}$ and a short range potential $U_{coup}$ that models the short range anisotropy of the rigid CH$_3^+$ core:\n",
    "\n",
    "\\begin{equation}\\label{eq:U}\n",
    " U(r,\\theta ) = U_{CH} (r) + U_{coup} (r,\\theta).\n",
    "\\end{equation}\n",
    "\n",
    "The topography of the potential energy surface  is characterised by two deep wells that \n",
    "correspond to the  bound CH$_4^+$, two areas of high potential and a flat area to the outside \n",
    "of these features as shown in Fig. [1](#fig:pot)."
   ]
  },
  {
   "cell_type": "markdown",
   "metadata": {},
   "source": [
    "<a id='fig:pot'></a>\n",
    "<figure class=\"image\">\n",
    " <img src=\"figure1.jpg\">\n",
    " <figcaption>Contour plot of Chesnavich's potential energy surface $U$ for $a=1$. Dashed lines correspond to $U<0$, solid lines correspond to $U\\geq0$. Contours correspond to values of potential shown on the colorbar to the right, with some values indicated in the plot. This figure is from {% cite Chesnavich1986 --file roaming_v8 %} .\n",
    "<!-- <\\figcaption>\n",
    "<\\figure> -->"
   ]
  },
  {
   "cell_type": "markdown",
   "metadata": {},
   "source": [
    "The long range potential has the form:\n",
    "\n",
    "\\begin{equation}\n",
    " U_{CH} (r) =  \\frac{D_e}{c_1 - 6} \\left( 2 (3-c_2) e^{c_1 (1-x)}  - \\left( 4 c_2 - c_1 c_2 + c_1 \\right) x^{-6} - (c_1 - 6) c_2 x^{-4} \\right), \n",
    " \\label{eq:UCH}\n",
    "\\end{equation}\n",
    "\n",
    "where $x = \\frac{r}{r_e}$ and we take the  parameter values as  in the original work {% cite Chesnavich1986 --file roaming_v8 %} .\n",
    "\n",
    "The short range hindered rotor  potential $U_{coup}$ has the form:\n",
    "\n",
    "\\begin{equation}\\label{eq:Ucoup}\n",
    " U_{coup} (r,\\theta) = \\frac{U_e e^{-a(r-r_e)^2}}{2} (1 - \\cos 2 \\theta ),\n",
    "\\end{equation}\n",
    "\n",
    "where $U_e$ is the equilibrium barrier height. \n",
    "The distance at which the  transition occurs from rotation to vibration is \n",
    "determined by the parameter $a$ (in $\\unicode{x212B}^{-2}$). \n",
    "Various values of $a$ have been considered in previous works. In particular,  $a=1$ {% cite Chesnavich1986 mauguiere2014roaming mauguiere2014multiple krajnak2018phase --file roaming_v8 %} , \n",
    "$a=4$ {% cite Chesnavich1986 mauguiere2014roaming --file roaming_v8 %} and a range of values $0.7\\leq a\\leq 8$. {% cite krajnak2018influence --file roaming_v8 %}\n",
    "\n",
    "The CH$_3^+$ core is a symmetric top in Chesnavich's model. \n",
    "Although the range of the coordinate $\\theta$ is $0 \\leq \\theta \\leq \\pi$, \n",
    "in the planar (zero overall angular momentum) version of the model the range of $\\theta$ \n",
    "is extended to $0 \\leq \\theta \\leq 2 \\pi$, and the potential has a four-fold symmetry:\n",
    "\n",
    "\\begin{equation}\n",
    "U(r,\\theta)=U(r,-\\theta)=U(r,\\pi-\\theta)=U(r,\\pi+\\theta).\n",
    "\\label{eq:sym}\n",
    "\\end{equation}\n",
    "\n",
    "The potential admits four pairs of equilibrium points pairwise related by symmetry \\eqref{eq:sym}, \n",
    "as listed in Tab. [1](#table:equil) and shown in Fig. [1](#fig:pot).\n",
    "  "
   ]
  },
  {
   "cell_type": "markdown",
   "metadata": {},
   "source": [
    "<a id=\"table:equil\"> </a>\n",
    "\n",
    "| Energy (kcal mol$^{-1}$)  |  $r$ ($\\unicode{x212B}$)  |  $\\theta$ (radians)  |  Significance        |  Label             |\n",
    "|---------------------------|-------------|----------------------|----------------------|--------------------|\n",
    "| $-47$                     | $1.1$       | $0$                  |  potential well      | $q_0^+$            |\n",
    "| $-0.63$                   | $3.45$      | $\\pi/2$              | isomerisation saddle | $q_1^+$            |\n",
    "| $8$                       | $1.1$       | $\\pi/2$              | isomerisation saddle | $\\widetilde{q}_1^+$|\n",
    "| $22.27$                   | $1.63$      | $\\pi/2$              | local maximum        | $q_2^+$            |\n",
    "[Equilibrium points of the potential $U(r, \\theta)$.]\n",
    "\n"
   ]
  },
  {
   "cell_type": "markdown",
   "metadata": {},
   "source": [
    "{% bibliography --file roaming_v8 --cited %}"
   ]
  }
 ],
 "metadata": {
  "kernelspec": {
   "display_name": "Python 3",
   "language": "python",
   "name": "python3"
  },
  "language_info": {
   "codemirror_mode": {
    "name": "ipython",
    "version": 3
   },
   "file_extension": ".py",
   "mimetype": "text/x-python",
   "name": "python",
   "nbconvert_exporter": "python",
   "pygments_lexer": "ipython3",
   "version": "3.7.1"
  },
  "latex_envs": {
   "LaTeX_envs_menu_present": true,
   "autoclose": false,
   "autocomplete": true,
   "bibliofile": "/Users/bas/research/book_sprint/champs-booksprint-planning/convert_tex2html/article_test/sample.bib",
   "cite_by": "apalike",
   "current_citInitial": 1,
   "eqLabelWithNumbers": true,
   "eqNumInitial": 1,
   "hotkeys": {
    "equation": "Ctrl-E",
    "itemize": "Ctrl-I"
   },
   "labels_anchors": false,
   "latex_user_defs": false,
   "report_style_numbering": false,
   "user_envs_cfg": false
  },
  "toc": {
   "base_numbering": 1,
   "nav_menu": {},
   "number_sections": false,
   "sideBar": true,
   "skip_h1_title": false,
   "title_cell": "Table of Contents",
   "title_sidebar": "Contents",
   "toc_cell": false,
   "toc_position": {},
   "toc_section_display": true,
   "toc_window_display": false
  }
 },
 "nbformat": 4,
 "nbformat_minor": 2
}
