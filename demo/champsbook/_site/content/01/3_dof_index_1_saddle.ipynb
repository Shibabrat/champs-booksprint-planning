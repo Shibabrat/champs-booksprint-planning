{
 "cells": [
  {
   "cell_type": "markdown",
   "metadata": {},
   "source": [
    "# Exploring Isomerization Dynamics on a Potential Energy Surface with an Index-2 Saddle using Lagrangian Descriptors"
   ]
  },
  {
   "cell_type": "markdown",
   "metadata": {},
   "source": [
    "In this section we continue the study of Collins et al. {% cite collins2011 %} by considering the phase space structures that govern different reaction pathways and we  then consider the influence of symmetry breaking, bifurcation, and energy on these phase space reaction pathways."
   ]
  },
  {
   "cell_type": "code",
   "execution_count": null,
   "metadata": {
    "collapsed": true
   },
   "outputs": [],
   "source": []
  },
  {
   "cell_type": "markdown",
   "metadata": {},
   "source": [
    "Consider the Hamiltonian:\n",
    "\n",
    "\\begin{equation}\n",
    "H(x,y,p_x,p_y) = \\frac{1}{2}\\left(p_x^2 + p_y^2\\right) + V(x,y)\n",
    "\\label{hamiltonian}\n",
    "\\end{equation}\n",
    "\n",
    "where we have supposed for simplicity that the mass in each DoF is $m_x = m_y = 1$. The PES is defined as follows:\n",
    "\n",
    "\\begin{equation}\\label{pes_model}\n",
    "V(x,y) = x^4 - \\alpha x^2 - \\delta x + y^4 - y^2 + \\beta x^2 y^2\n",
    "\\end{equation}\n",
    "\n",
    "and $\\delta$ represents the asymmetry parameter in the double well potential of the $x$ DoF. The dynamics of the Hamiltonian in Eq. \\eqref{hamiltonian} is described by Hamilton's equations of motion:\n",
    "\n",
    "\\begin{equation}\n",
    "\\begin{cases}\n",
    "\\dot{x} = \\dfrac{\\partial H}{\\partial p_x} = p_x \\\\[.4cm]\n",
    "\\dot{y} = \\dfrac{\\partial H}{\\partial p_y} = p_y \\\\[.4cm]\n",
    "\\dot{p}_x = -\\dfrac{\\partial H}{\\partial x} = -\\dfrac{\\partial V}{\\partial x} = -4 x^3 + 2 \\alpha x + \\delta - 2 \\beta x y^2 \\\\[.4cm]\n",
    "\\dot{p}_y = -\\dfrac{\\partial H}{\\partial y} = -\\dfrac{\\partial V}{\\partial y} = -4 y^3 + 2 y - 2 \\beta x^2 y\n",
    "\\end{cases}\n",
    "\\label{eq:ham_eqs}\n",
    "\\end{equation}"
   ]
  },
  {
   "cell_type": "markdown",
   "metadata": {},
   "source": [
    "This the Hamiltonian \\eqref{ham_eqs}"
   ]
  },
  {
   "cell_type": "markdown",
   "metadata": {},
   "source": [
    "**NOTE**: Image path should be a relative path. "
   ]
  },
  {
   "cell_type": "code",
   "execution_count": 15,
   "metadata": {},
   "outputs": [
    {
     "name": "stdout",
     "output_type": "stream",
     "text": [
      "1_dof_saddle.pdf              book sprint intro.tex\r\n",
      "2_dof_saddle.pdf              book_sprint_bib1.bib\r\n",
      "Untitled.ipynb                booksprintintro.md\r\n",
      "book sprint intro.aux         booksprintintro.text\r\n",
      "book sprint intro.bbl         booksprinttest_makrina.ipynb\r\n",
      "book sprint intro.blg         fig_2_dof_saddle.png\r\n",
      "book sprint intro.log         natbib.bst\r\n",
      "book sprint intro.pdf         natbib.sty\r\n",
      "book sprint intro.synctex.gz\r\n"
     ]
    }
   ],
   "source": [
    "ls"
   ]
  },
  {
   "cell_type": "markdown",
   "metadata": {},
   "source": [
    "<img width=\"560\" height=\"315\" src=\"fig_2_dof_saddle.png\">"
   ]
  },
  {
   "cell_type": "code",
   "execution_count": null,
   "metadata": {
    "collapsed": true
   },
   "outputs": [],
   "source": []
  },
  {
   "cell_type": "code",
   "execution_count": 16,
   "metadata": {
    "collapsed": true
   },
   "outputs": [],
   "source": [
    "x = 1"
   ]
  },
  {
   "cell_type": "code",
   "execution_count": 17,
   "metadata": {},
   "outputs": [
    {
     "data": {
      "text/plain": [
       "6"
      ]
     },
     "execution_count": 17,
     "metadata": {},
     "output_type": "execute_result"
    }
   ],
   "source": [
    "x+5"
   ]
  },
  {
   "cell_type": "markdown",
   "metadata": {},
   "source": []
  },
  {
   "cell_type": "markdown",
   "metadata": {
    "collapsed": true
   },
   "source": [
    "\\begin{equation}\n",
    "\\begin{cases}\n",
    "\\dot{x} = \\dfrac{\\partial H}{\\partial p_x} = p_x \\\\[.4cm]\n",
    "\\dot{y} = \\dfrac{\\partial H}{\\partial p_y} = p_y \\\\[.4cm]\n",
    "\\dot{p}_x = -\\dfrac{\\partial H}{\\partial x} = -\\dfrac{\\partial V}{\\partial x} = -4 x^3 + 2 \\alpha x + \\delta - 2 \\beta x y^2 \\\\[.4cm]\n",
    "\\dot{p}_y = -\\dfrac{\\partial H}{\\partial y} = -\\dfrac{\\partial V}{\\partial y} = -4 y^3 + 2 y - 2 \\beta x^2 y\n",
    "\\end{cases}\n",
    "\\end{equation}"
   ]
  },
  {
   "cell_type": "code",
   "execution_count": null,
   "metadata": {
    "collapsed": true
   },
   "outputs": [],
   "source": []
  }
 ],
 "metadata": {
  "kernelspec": {
   "display_name": "Python 3",
   "language": "python",
   "name": "python3"
  },
  "language_info": {
   "codemirror_mode": {
    "name": "ipython",
    "version": 3
   },
   "file_extension": ".py",
   "mimetype": "text/x-python",
   "name": "python",
   "nbconvert_exporter": "python",
   "pygments_lexer": "ipython3",
   "version": "3.6.1"
  },
  "latex_envs": {
   "LaTeX_envs_menu_present": true,
   "autoclose": false,
   "autocomplete": true,
   "bibliofile": "/Users/bas/research/book_sprint/champs-booksprint-planning/convert_tex2html/article_test/sample.bib",
   "cite_by": "apalike",
   "current_citInitial": 1,
   "eqLabelWithNumbers": true,
   "eqNumInitial": 1,
   "hotkeys": {
    "equation": "Ctrl-E",
    "itemize": "Ctrl-I"
   },
   "labels_anchors": false,
   "latex_user_defs": false,
   "report_style_numbering": false,
   "user_envs_cfg": false
  },
  "toc": {
   "base_numbering": 1,
   "nav_menu": {},
   "number_sections": true,
   "sideBar": true,
   "skip_h1_title": false,
   "title_cell": "Table of Contents",
   "title_sidebar": "Contents",
   "toc_cell": false,
   "toc_position": {},
   "toc_section_display": true,
   "toc_window_display": true
  }
 },
 "nbformat": 4,
 "nbformat_minor": 2
}
