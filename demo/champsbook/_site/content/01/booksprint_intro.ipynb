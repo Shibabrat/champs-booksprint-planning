{
 "cells": [
  {
   "cell_type": "markdown",
   "metadata": {},
   "source": [
    "# Introduction"
   ]
  },
  {
   "cell_type": "markdown",
   "metadata": {},
   "source": [
    "Concepts arising in nonlinear dynamical systems theory, such as periodic orbits, normally hyperbolic invariant manifolds (NHIMs), invariant spheres, and stable and unstable manifolds  have been introduced into the study of chemical reaction dynamics from the phase space perspective. A fairly substantial literature has developed on this topic in recent years (see, for example {% cite wiggins2016role; waalkens2010geometrical; waalkens2007wigner; wiggins2013normally %}, and references therein), but it is fair to say that it has a more mathematical flavour, which is not surprising since these dynamical concepts originated in the  mathematical dynamics literature. In this book we will  describe how these dynamical  notions arise  in a variety of physically motivated settings with the hope of providing a more gentle entry into the field for both applied mathematicians and chemists.\n",
    "\n",
    "An obstacle in interdiscipliary work is the lack of a common language for describing concepts that are ommon to different fields. We begin with a list of commonly used terms that will arise repeatedly throughout this book.\n",
    "\n",
    "Molecules are made up of a collection of atoms that are subject to chemical bonds. Reaction is concerned with the breaking, and creation, of bonds between atoms.  Hence, the following concepts are fundamental to the description of this phenomena. "
   ]
  },
  {
   "cell_type": "markdown",
   "metadata": {},
   "source": [
    "\n",
    "\n",
    "+ **Coordinates.** The locations of the atoms in a molecule are described by a set of coordinates. The space (i.e. all possible values) described by these coordinates is referred to as *configuration space*.\n",
    "\n",
    "\n",
    "+ **Degrees-of-Freedom (DoF).** The number of  DoF is the number of independent coordinates required to describe the configuration of the molecule, i.e. it is the dimension of the configuration space.\n",
    "\n",
    "\n",
    "+ **Reaction.** The breaking of a bond can be described by a coordinate (s) characterizing the bond becoming unbounded as the bond(s) evolve(s) in  time. \n",
    "\n",
    "\n",
    "+ **Reaction coordinate(s).**  The particular coordinate(s) that describe the breaking of the bond are referred to as the *reaction coordinates*.\n",
    "\n",
    "\n",
    "+ **Energy.** The  ability of a bond to break can be characterised by its energy. A bond can be ''energized'' by transferring energy from other bonds in the molecule to a particular bond of interest, or from some external energy  source, such as electromagnetic radiation, for example. \n",
    "\n",
    "\n",
    "+ **Total Energy, Hamiltonian.** The total energy (i.e. the sum of kinetic energy and potential energy) can be described by a scalar valued function called the Hamiltonian. The Hamiltonian is a  function of the configuration space variables *and* the canonically conjugate variables corresponding to each configuration space variable, which are referred to as the momentum variables.\n",
    "\n",
    "\n",
    "\n",
    "+ **Phase Space.** The collection of all the configuration  and momentum variables is referred to as the phase space of the molecule.  The dynamics of a molecule (i.e. how it changes in time) is described by Hamilton's differential equations defined on phase space. \n",
    "\n",
    "\n",
    "+ **Dimension count.** If the number of configuration space variables is *n*. then the phase space has dimension *2n*, The Hamiltonian is a scalar valued function of these {\\em 2n} variables. The level set of the Hamiltonian, i.e. the energy surface, is *2n-1* dimensional. The energy surface is invariant for a time-independent Hamiltonian system, i.e.  *energy is conserved*. \n",
    "\n",
    "\n",
    "+ **Dividing Surface (DS).** A DS is a surface in the energy surface that is of dimension *2n-2*, i.e. codimension 1 in the *2n-1* dimensional energy surface. A DS has the ''no-recrossing'' property.  This means that the Hamiltonian vector field is everywhere transverse to a DS, i.e. at no point is it tangent to the DS.  While a codimension one surface has the dimensionality necessary to divide the energy surface into two distinct regions (it is the boundary between these regions), the obvious question is what is the nature of these two distinct regions?  The two regions are referred to as *reactants* and *products*, and reaction occurs when trajectories evolve from reactants to products through the DS. \n",
    "\n",
    "\n",
    "+ **The DS and the Reaction Coordinate.** Following our definitions of reaction, reaction coordinate, and DS it follows that the reaction coordinate should play a role in the definition of the DS. This will be an important point in our discussions that follow.\n",
    "\n",
    "\n",
    "+ **Flux across the DS.** The flux of trajectories crossing the DS is related to the  rate of reaction (''reaction rate'').  Computation of the flux is greatly facilitated if the DS has the ''no-recrossing'' property.\n",
    "\n",
    "\n",
    "\n"
   ]
  },
  {
   "cell_type": "markdown",
   "metadata": {},
   "source": [
    "Hence, in order to understand the dynamics of a particular molecule we need to choose coordinates that describe the locations of the atoms that make up the molecule. This step should not be taken for granted because a ''clever'' choice of coordinates can greatly facilitate the subsequent analysis. Next, the Hamiltonian is constructed, which we will take to be the sume of the kinetic and potential energies (''natural Hamiltonians'').  The kinetic energy term involves the the momentum coordinates, i.e. the variables canonically conjugate to the configuration space coordinates. It is typically a quadratic function of the momenta and its form, in various settings, is well understood. The potential energy is a function of the configuration space variable, but obtaining a specific form for this function for a given molecule is a more difficult matter. One approach to this problem is through the solution of the Schroedinger equation utilizing the  Born-Oppenheimer approximation and specification of the configuration of the electrons. Through this approach one can obtain a potential energy function that describes the motion of the much heavier protons and neutrons. In this way we can, in principle, obtain a classical Hamiltonian for the  motion of the protons and neutrons of the molecule.\n",
    "With a Hamiltonian in hand, one can compute trajectories, explore phase space structure, compute DSs, rates, etc.\n",
    "\n",
    "\n",
    "The focus of this book is to start at the end of this process. That is, we will consider Hamiltonians, of the form of the sum of the kinetic and potential energies, for one, two, and three DoF systems. For each of these Hamiltonians we will be concerned with  the issue of reaction, and reaction coordinates, and how understanding phase space structures, such as\n",
    "saddle Points, periodic orbits, and invariant spheres, naturally arise as a function of the number of DoF to govern this type of dynamics. It is insightful to carry out explicit analytical calculations when possible. "
   ]
  },
  {
   "cell_type": "code",
   "execution_count": null,
   "metadata": {
    "collapsed": true
   },
   "outputs": [],
   "source": []
  }
 ],
 "metadata": {
  "kernelspec": {
   "display_name": "Python 3",
   "language": "python",
   "name": "python3"
  },
  "language_info": {
   "codemirror_mode": {
    "name": "ipython",
    "version": 3
   },
   "file_extension": ".py",
   "mimetype": "text/x-python",
   "name": "python",
   "nbconvert_exporter": "python",
   "pygments_lexer": "ipython3",
   "version": "3.6.1"
  },
  "latex_envs": {
   "LaTeX_envs_menu_present": true,
   "autoclose": false,
   "autocomplete": true,
   "bibliofile": "/Users/bas/research/book_sprint/champs-booksprint-planning/convert_tex2html/article_test/sample.bib",
   "cite_by": "apalike",
   "current_citInitial": 1,
   "eqLabelWithNumbers": true,
   "eqNumInitial": 1,
   "hotkeys": {
    "equation": "Ctrl-E",
    "itemize": "Ctrl-I"
   },
   "labels_anchors": false,
   "latex_user_defs": false,
   "report_style_numbering": false,
   "user_envs_cfg": false
  },
  "toc": {
   "base_numbering": 1,
   "nav_menu": {},
   "number_sections": true,
   "sideBar": true,
   "skip_h1_title": false,
   "title_cell": "Table of Contents",
   "title_sidebar": "Contents",
   "toc_cell": false,
   "toc_position": {},
   "toc_section_display": true,
   "toc_window_display": true
  }
 },
 "nbformat": 4,
 "nbformat_minor": 2
}
