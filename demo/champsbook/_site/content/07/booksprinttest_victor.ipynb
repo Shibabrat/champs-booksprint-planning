{
 "cells": [
  {
   "cell_type": "markdown",
   "metadata": {},
   "source": [
    "# The Method of Lagrangian Descriptors"
   ]
  },
  {
   "cell_type": "markdown",
   "metadata": {},
   "source": [
    "One of the biggest challenges of Dynamical Systems Theory or Nonlinear Dynamics is the development of mathematical techniques that provide us with the capability of exploring the geometrical template of structures that governs transport in phase space. Since the early 1900, the idea of pursuing a qualitative description of the solutions of differential equations, which emerged from the pioneering work carried out by Henri Poincar\\'e on the three body problem of Celestial Mechanics {% hp1890 %}, has had a profound impact on our understanding of the nonlinear character of natural phenomena. Indeed, this powerful approach has now been widely embraced by the scientific community and its essence was nicely captured by Vladimir Arnold's statement that a complete description of Classical Mechanics boils down to the geometrical analysis of phase space. "
   ]
  },
  {
   "cell_type": "markdown",
   "metadata": {},
   "source": [
    "Consider a general time-dependent dynamical system given by the evolution law:\n",
    "\n",
    "\\begin{equation}\n",
    "\\dfrac{d\\mathbf{x}}{dt} = \\mathbf{v}(\\mathbf{x},t) \\;,\\quad \\mathbf{x} \\in \\mathbb{R}^{n} \\;,\\; t \\in \\mathbb{R} \\;, \\label{gtp_dynSys}\n",
    "\\end{equation}\n",
    "\n",
    "where the vector field satifies $\\mathbf{v}(\\mathbf{x},t) \\in C^{r} (r \\geq 1)$ in $\\mathbf{x}$ and continuous in time. If the vector field does not depend on time, the system is called \\textit{autonomous}, and it is \\textit{non-autonomous} otherwise. For any initial condition $\\mathbf{x}(t_0) = \\mathbf{x}_0$ this system of differential equations has a unique solution with the same regularity as that of the vector field, which also depends continuously on the initial data \\cite{coddington1984}. The vector field that defines the flow equations can be determined by an analytical model, or it could also have been retrieved from numerical simulations as a discrete spatio-temporal dataset. For instance, the vector field could represent the velocity field of oceanic or atmospheric current obtained from satellite measurements or from the numerical solution of Geophysical models. Intersestingly, and in the context of chemical reaction dynamics, the vector field could be the result of molecular dynamics simulations."
   ]
  },
  {
   "cell_type": "markdown",
   "metadata": {},
   "source": [
    "This the Hamiltonian \\eqref{gtp_dynSys}"
   ]
  },
  {
   "cell_type": "markdown",
   "metadata": {},
   "source": [
    "<img width=\"560\" height=\"315\" src=\"duffing_tau_2.png\"> <img width=\"560\" height=\"315\" src=\"duffing_tau_10.png\"> <img width=\"560\" height=\"315\" src=\"duffing_maniDetect.png\">"
   ]
  },
  {
   "cell_type": "code",
   "execution_count": null,
   "metadata": {},
   "outputs": [],
   "source": [
    "\n"
   ]
  }
 ],
 "metadata": {
  "kernelspec": {
   "display_name": "Python 3",
   "language": "python",
   "name": "python3"
  },
  "language_info": {
   "codemirror_mode": {
    "name": "ipython",
    "version": 3
   },
   "file_extension": ".py",
   "mimetype": "text/x-python",
   "name": "python",
   "nbconvert_exporter": "python",
   "pygments_lexer": "ipython3",
   "version": "3.7.3"
  },
  "latex_envs": {
   "LaTeX_envs_menu_present": true,
   "autoclose": false,
   "autocomplete": true,
   "bibliofile": "/Users/bas/research/book_sprint/champs-booksprint-planning/convert_tex2html/article_test/sample.bib",
   "cite_by": "apalike",
   "current_citInitial": 1,
   "eqLabelWithNumbers": true,
   "eqNumInitial": 1,
   "hotkeys": {
    "equation": "Ctrl-E",
    "itemize": "Ctrl-I"
   },
   "labels_anchors": false,
   "latex_user_defs": false,
   "report_style_numbering": false,
   "user_envs_cfg": false
  },
  "toc": {
   "base_numbering": 1,
   "nav_menu": {},
   "number_sections": true,
   "sideBar": true,
   "skip_h1_title": false,
   "title_cell": "Table of Contents",
   "title_sidebar": "Contents",
   "toc_cell": false,
   "toc_position": {},
   "toc_section_display": true,
   "toc_window_display": true
  }
 },
 "nbformat": 4,
 "nbformat_minor": 2
}
